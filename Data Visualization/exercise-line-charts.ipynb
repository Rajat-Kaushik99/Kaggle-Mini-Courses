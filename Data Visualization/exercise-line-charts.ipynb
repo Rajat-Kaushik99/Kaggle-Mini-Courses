{
 "cells": [
  {
   "cell_type": "markdown",
   "id": "technological-wallace",
   "metadata": {
    "papermill": {
     "duration": 0.016269,
     "end_time": "2021-06-18T08:01:52.407464",
     "exception": false,
     "start_time": "2021-06-18T08:01:52.391195",
     "status": "completed"
    },
    "tags": []
   },
   "source": [
    "**This notebook is an exercise in the [Data Visualization](https://www.kaggle.com/learn/data-visualization) course.  You can reference the tutorial at [this link](https://www.kaggle.com/alexisbcook/line-charts).**\n",
    "\n",
    "---\n"
   ]
  },
  {
   "cell_type": "markdown",
   "id": "reasonable-pantyhose",
   "metadata": {
    "papermill": {
     "duration": 0.014788,
     "end_time": "2021-06-18T08:01:52.436801",
     "exception": false,
     "start_time": "2021-06-18T08:01:52.422013",
     "status": "completed"
    },
    "tags": []
   },
   "source": [
    "In this exercise, you will use your new knowledge to propose a solution to a real-world scenario. To succeed, you will need to import data into Python, answer questions using the data, and generate **line charts** to understand patterns in the data.\n",
    "\n",
    "## Scenario\n",
    "\n",
    "You have recently been hired to manage the museums in the City of Los Angeles. Your first project focuses on the four museums pictured in the images below.\n",
    "\n",
    "![ex1_museums](https://i.imgur.com/pFYL8J1.png)\n",
    "\n",
    "You will leverage data from the Los Angeles [Data Portal](https://data.lacity.org/) that tracks monthly visitors to each museum.  \n",
    "\n",
    "![ex1_xlsx](https://i.imgur.com/mGWYlym.png)\n",
    "\n",
    "## Setup\n",
    "\n",
    "Run the next cell to import and configure the Python libraries that you need to complete the exercise."
   ]
  },
  {
   "cell_type": "code",
   "execution_count": 1,
   "id": "czech-culture",
   "metadata": {
    "execution": {
     "iopub.execute_input": "2021-06-18T08:01:52.467136Z",
     "iopub.status.busy": "2021-06-18T08:01:52.466018Z",
     "iopub.status.idle": "2021-06-18T08:01:53.611352Z",
     "shell.execute_reply": "2021-06-18T08:01:53.610522Z",
     "shell.execute_reply.started": "2021-06-13T13:26:52.439451Z"
    },
    "papermill": {
     "duration": 1.16203,
     "end_time": "2021-06-18T08:01:53.611515",
     "exception": false,
     "start_time": "2021-06-18T08:01:52.449485",
     "status": "completed"
    },
    "tags": []
   },
   "outputs": [
    {
     "name": "stdout",
     "output_type": "stream",
     "text": [
      "Setup Complete\n"
     ]
    }
   ],
   "source": [
    "import pandas as pd\n",
    "pd.plotting.register_matplotlib_converters()\n",
    "import matplotlib.pyplot as plt\n",
    "%matplotlib inline\n",
    "import seaborn as sns\n",
    "print(\"Setup Complete\")"
   ]
  },
  {
   "cell_type": "markdown",
   "id": "iraqi-stocks",
   "metadata": {
    "papermill": {
     "duration": 0.014089,
     "end_time": "2021-06-18T08:01:53.640918",
     "exception": false,
     "start_time": "2021-06-18T08:01:53.626829",
     "status": "completed"
    },
    "tags": []
   },
   "source": [
    "The questions below will give you feedback on your work. Run the following cell to set up the feedback system."
   ]
  },
  {
   "cell_type": "code",
   "execution_count": 2,
   "id": "republican-pocket",
   "metadata": {
    "execution": {
     "iopub.execute_input": "2021-06-18T08:01:53.673276Z",
     "iopub.status.busy": "2021-06-18T08:01:53.672633Z",
     "iopub.status.idle": "2021-06-18T08:01:53.752043Z",
     "shell.execute_reply": "2021-06-18T08:01:53.752538Z",
     "shell.execute_reply.started": "2021-06-13T13:26:55.099475Z"
    },
    "papermill": {
     "duration": 0.098037,
     "end_time": "2021-06-18T08:01:53.752738",
     "exception": false,
     "start_time": "2021-06-18T08:01:53.654701",
     "status": "completed"
    },
    "tags": []
   },
   "outputs": [
    {
     "name": "stdout",
     "output_type": "stream",
     "text": [
      "Setup Complete\n"
     ]
    }
   ],
   "source": [
    "# Set up code checking\n",
    "import os\n",
    "if not os.path.exists(\"../input/museum_visitors.csv\"):\n",
    "    os.symlink(\"../input/data-for-datavis/museum_visitors.csv\", \"../input/museum_visitors.csv\") \n",
    "from learntools.core import binder\n",
    "binder.bind(globals())\n",
    "from learntools.data_viz_to_coder.ex2 import *\n",
    "print(\"Setup Complete\")"
   ]
  },
  {
   "cell_type": "markdown",
   "id": "coastal-bumper",
   "metadata": {
    "papermill": {
     "duration": 0.012815,
     "end_time": "2021-06-18T08:01:53.780975",
     "exception": false,
     "start_time": "2021-06-18T08:01:53.768160",
     "status": "completed"
    },
    "tags": []
   },
   "source": [
    "## Step 1: Load the data\n",
    "\n",
    "Your first assignment is to read the LA Museum Visitors data file into `museum_data`.  Note that:\n",
    "- The filepath to the dataset is stored as `museum_filepath`.  Please **do not** change the provided value of the filepath.\n",
    "- The name of the column to use as row labels is `\"Date\"`.  (This can be seen in cell A1 when the file is opened in Excel.)\n",
    "\n",
    "To help with this, you may find it useful to revisit some relevant code from the tutorial, which we have pasted below:\n",
    "\n",
    "```python\n",
    "# Path of the file to read\n",
    "spotify_filepath = \"../input/spotify.csv\"\n",
    "\n",
    "# Read the file into a variable spotify_data\n",
    "spotify_data = pd.read_csv(spotify_filepath, index_col=\"Date\", parse_dates=True)\n",
    "```\n",
    "\n",
    "The code you need to write now looks very similar!"
   ]
  },
  {
   "cell_type": "code",
   "execution_count": 3,
   "id": "professional-stake",
   "metadata": {
    "execution": {
     "iopub.execute_input": "2021-06-18T08:01:53.811297Z",
     "iopub.status.busy": "2021-06-18T08:01:53.810676Z",
     "iopub.status.idle": "2021-06-18T08:01:53.828121Z",
     "shell.execute_reply": "2021-06-18T08:01:53.827477Z",
     "shell.execute_reply.started": "2021-06-13T13:26:56.895282Z"
    },
    "papermill": {
     "duration": 0.033979,
     "end_time": "2021-06-18T08:01:53.828262",
     "exception": false,
     "start_time": "2021-06-18T08:01:53.794283",
     "status": "completed"
    },
    "tags": []
   },
   "outputs": [
    {
     "data": {
      "application/javascript": [
       "parent.postMessage({\"jupyterEvent\": \"custom.exercise_interaction\", \"data\": {\"outcomeType\": 1, \"valueTowardsCompletion\": 0.3333333333333333, \"interactionType\": 1, \"questionType\": 1, \"questionId\": \"1_LoadMuseumData\", \"learnToolsVersion\": \"0.3.4\", \"failureMessage\": \"\", \"exceptionClass\": \"\", \"trace\": \"\"}}, \"*\")"
      ],
      "text/plain": [
       "<IPython.core.display.Javascript object>"
      ]
     },
     "metadata": {},
     "output_type": "display_data"
    },
    {
     "data": {
      "text/markdown": [
       "<span style=\"color:#33cc33\">Correct</span>"
      ],
      "text/plain": [
       "Correct"
      ]
     },
     "metadata": {},
     "output_type": "display_data"
    }
   ],
   "source": [
    "# Path of the file to read\n",
    "museum_filepath = \"../input/museum_visitors.csv\"\n",
    "\n",
    "# Fill in the line below to read the file into a variable museum_data\n",
    "museum_data =pd.read_csv(museum_filepath,index_col=\"Date\",parse_dates=True)\n",
    "\n",
    "# Run the line below with no changes to check that you've loaded the data correctly\n",
    "step_1.check()"
   ]
  },
  {
   "cell_type": "code",
   "execution_count": 4,
   "id": "constant-chamber",
   "metadata": {
    "execution": {
     "iopub.execute_input": "2021-06-18T08:01:53.861972Z",
     "iopub.status.busy": "2021-06-18T08:01:53.861273Z",
     "iopub.status.idle": "2021-06-18T08:01:53.864635Z",
     "shell.execute_reply": "2021-06-18T08:01:53.863980Z",
     "shell.execute_reply.started": "2021-06-13T13:27:04.176997Z"
    },
    "papermill": {
     "duration": 0.021763,
     "end_time": "2021-06-18T08:01:53.864795",
     "exception": false,
     "start_time": "2021-06-18T08:01:53.843032",
     "status": "completed"
    },
    "tags": []
   },
   "outputs": [],
   "source": [
    "# Uncomment the line below to receive a hint\n",
    "#step_1.hint()\n",
    "# Uncomment the line below to see the solution\n",
    "#step_1.solution()"
   ]
  },
  {
   "cell_type": "markdown",
   "id": "lesser-format",
   "metadata": {
    "papermill": {
     "duration": 0.014569,
     "end_time": "2021-06-18T08:01:53.894314",
     "exception": false,
     "start_time": "2021-06-18T08:01:53.879745",
     "status": "completed"
    },
    "tags": []
   },
   "source": [
    "## Step 2: Review the data\n",
    "\n",
    "Use a Python command to print the last 5 rows of the data."
   ]
  },
  {
   "cell_type": "code",
   "execution_count": 5,
   "id": "governmental-spine",
   "metadata": {
    "execution": {
     "iopub.execute_input": "2021-06-18T08:01:53.928500Z",
     "iopub.status.busy": "2021-06-18T08:01:53.927503Z",
     "iopub.status.idle": "2021-06-18T08:01:53.945179Z",
     "shell.execute_reply": "2021-06-18T08:01:53.944548Z",
     "shell.execute_reply.started": "2021-06-13T13:27:54.640225Z"
    },
    "papermill": {
     "duration": 0.036107,
     "end_time": "2021-06-18T08:01:53.945343",
     "exception": false,
     "start_time": "2021-06-18T08:01:53.909236",
     "status": "completed"
    },
    "tags": []
   },
   "outputs": [
    {
     "data": {
      "text/html": [
       "<div>\n",
       "<style scoped>\n",
       "    .dataframe tbody tr th:only-of-type {\n",
       "        vertical-align: middle;\n",
       "    }\n",
       "\n",
       "    .dataframe tbody tr th {\n",
       "        vertical-align: top;\n",
       "    }\n",
       "\n",
       "    .dataframe thead th {\n",
       "        text-align: right;\n",
       "    }\n",
       "</style>\n",
       "<table border=\"1\" class=\"dataframe\">\n",
       "  <thead>\n",
       "    <tr style=\"text-align: right;\">\n",
       "      <th></th>\n",
       "      <th>Avila Adobe</th>\n",
       "      <th>Firehouse Museum</th>\n",
       "      <th>Chinese American Museum</th>\n",
       "      <th>America Tropical Interpretive Center</th>\n",
       "    </tr>\n",
       "    <tr>\n",
       "      <th>Date</th>\n",
       "      <th></th>\n",
       "      <th></th>\n",
       "      <th></th>\n",
       "      <th></th>\n",
       "    </tr>\n",
       "  </thead>\n",
       "  <tbody>\n",
       "    <tr>\n",
       "      <th>2018-07-01</th>\n",
       "      <td>23136</td>\n",
       "      <td>4191</td>\n",
       "      <td>2620</td>\n",
       "      <td>4718</td>\n",
       "    </tr>\n",
       "    <tr>\n",
       "      <th>2018-08-01</th>\n",
       "      <td>20815</td>\n",
       "      <td>4866</td>\n",
       "      <td>2409</td>\n",
       "      <td>3891</td>\n",
       "    </tr>\n",
       "    <tr>\n",
       "      <th>2018-09-01</th>\n",
       "      <td>21020</td>\n",
       "      <td>4956</td>\n",
       "      <td>2146</td>\n",
       "      <td>3180</td>\n",
       "    </tr>\n",
       "    <tr>\n",
       "      <th>2018-10-01</th>\n",
       "      <td>19280</td>\n",
       "      <td>4622</td>\n",
       "      <td>2364</td>\n",
       "      <td>3775</td>\n",
       "    </tr>\n",
       "    <tr>\n",
       "      <th>2018-11-01</th>\n",
       "      <td>17163</td>\n",
       "      <td>4082</td>\n",
       "      <td>2385</td>\n",
       "      <td>4562</td>\n",
       "    </tr>\n",
       "  </tbody>\n",
       "</table>\n",
       "</div>"
      ],
      "text/plain": [
       "            Avila Adobe  Firehouse Museum  Chinese American Museum  \\\n",
       "Date                                                                 \n",
       "2018-07-01        23136              4191                     2620   \n",
       "2018-08-01        20815              4866                     2409   \n",
       "2018-09-01        21020              4956                     2146   \n",
       "2018-10-01        19280              4622                     2364   \n",
       "2018-11-01        17163              4082                     2385   \n",
       "\n",
       "            America Tropical Interpretive Center  \n",
       "Date                                              \n",
       "2018-07-01                                  4718  \n",
       "2018-08-01                                  3891  \n",
       "2018-09-01                                  3180  \n",
       "2018-10-01                                  3775  \n",
       "2018-11-01                                  4562  "
      ]
     },
     "execution_count": 5,
     "metadata": {},
     "output_type": "execute_result"
    }
   ],
   "source": [
    "# Print the last five rows of the data \n",
    "museum_data.tail()# Your code here"
   ]
  },
  {
   "cell_type": "markdown",
   "id": "active-mortgage",
   "metadata": {
    "papermill": {
     "duration": 0.014317,
     "end_time": "2021-06-18T08:01:53.976299",
     "exception": false,
     "start_time": "2021-06-18T08:01:53.961982",
     "status": "completed"
    },
    "tags": []
   },
   "source": [
    "The last row (for `2018-11-01`) tracks the number of visitors to each museum in November 2018, the next-to-last row (for `2018-10-01`) tracks the number of visitors to each museum in October 2018, _and so on_.\n",
    "\n",
    "Use the last 5 rows of the data to answer the questions below."
   ]
  },
  {
   "cell_type": "code",
   "execution_count": 6,
   "id": "informal-narrative",
   "metadata": {
    "execution": {
     "iopub.execute_input": "2021-06-18T08:01:54.013346Z",
     "iopub.status.busy": "2021-06-18T08:01:54.012302Z",
     "iopub.status.idle": "2021-06-18T08:01:54.016839Z",
     "shell.execute_reply": "2021-06-18T08:01:54.017376Z",
     "shell.execute_reply.started": "2021-06-13T13:29:26.099719Z"
    },
    "papermill": {
     "duration": 0.026606,
     "end_time": "2021-06-18T08:01:54.017548",
     "exception": false,
     "start_time": "2021-06-18T08:01:53.990942",
     "status": "completed"
    },
    "tags": []
   },
   "outputs": [
    {
     "data": {
      "application/javascript": [
       "parent.postMessage({\"jupyterEvent\": \"custom.exercise_interaction\", \"data\": {\"outcomeType\": 1, \"valueTowardsCompletion\": 0.3333333333333333, \"interactionType\": 1, \"questionType\": 1, \"questionId\": \"2_ReviewData\", \"learnToolsVersion\": \"0.3.4\", \"failureMessage\": \"\", \"exceptionClass\": \"\", \"trace\": \"\"}}, \"*\")"
      ],
      "text/plain": [
       "<IPython.core.display.Javascript object>"
      ]
     },
     "metadata": {},
     "output_type": "display_data"
    },
    {
     "data": {
      "text/markdown": [
       "<span style=\"color:#33cc33\">Correct</span>"
      ],
      "text/plain": [
       "Correct"
      ]
     },
     "metadata": {},
     "output_type": "display_data"
    }
   ],
   "source": [
    "# Fill in the line below: How many visitors did the Chinese American Museum \n",
    "# receive in July 2018?\n",
    "ca_museum_jul18 = 2620\n",
    "\n",
    "# Fill in the line below: In October 2018, how many more visitors did Avila \n",
    "# Adobe receive than the Firehouse Museum?\n",
    "avila_oct18 = 14658\n",
    "\n",
    "# Check your answers\n",
    "step_2.check()"
   ]
  },
  {
   "cell_type": "code",
   "execution_count": 7,
   "id": "worldwide-master",
   "metadata": {
    "execution": {
     "iopub.execute_input": "2021-06-18T08:01:54.052082Z",
     "iopub.status.busy": "2021-06-18T08:01:54.051441Z",
     "iopub.status.idle": "2021-06-18T08:01:54.054682Z",
     "shell.execute_reply": "2021-06-18T08:01:54.055141Z",
     "shell.execute_reply.started": "2021-06-13T13:29:31.624864Z"
    },
    "papermill": {
     "duration": 0.021728,
     "end_time": "2021-06-18T08:01:54.055306",
     "exception": false,
     "start_time": "2021-06-18T08:01:54.033578",
     "status": "completed"
    },
    "tags": []
   },
   "outputs": [],
   "source": [
    "# Lines below will give you a hint or solution code\n",
    "#step_2.hint()\n",
    "#step_2.solution()"
   ]
  },
  {
   "cell_type": "markdown",
   "id": "unique-browse",
   "metadata": {
    "papermill": {
     "duration": 0.014934,
     "end_time": "2021-06-18T08:01:54.086813",
     "exception": false,
     "start_time": "2021-06-18T08:01:54.071879",
     "status": "completed"
    },
    "tags": []
   },
   "source": [
    "## Step 3: Convince the museum board \n",
    "\n",
    "The Firehouse Museum claims they ran an event in 2014 that brought an incredible number of visitors, and that they should get extra budget to run a similar event again.  The other museums think these types of events aren't that important, and budgets should be split purely based on recent visitors on an average day.  \n",
    "\n",
    "To show the museum board how the event compared to regular traffic at each museum, create a line chart that shows how the number of visitors to each museum evolved over time.  Your figure should have four lines (one for each museum).\n",
    "\n",
    "> **(Optional) Note**: If you have some prior experience with plotting figures in Python, you might be familiar with the `plt.show()` command.  If you decide to use this command, please place it **after** the line of code that checks your answer (in this case, place it after `step_3.check()` below) -- otherwise, the checking code will return an error!"
   ]
  },
  {
   "cell_type": "code",
   "execution_count": 8,
   "id": "dried-dispatch",
   "metadata": {
    "execution": {
     "iopub.execute_input": "2021-06-18T08:01:54.120881Z",
     "iopub.status.busy": "2021-06-18T08:01:54.120248Z",
     "iopub.status.idle": "2021-06-18T08:01:54.483016Z",
     "shell.execute_reply": "2021-06-18T08:01:54.483449Z",
     "shell.execute_reply.started": "2021-06-13T13:33:27.023787Z"
    },
    "papermill": {
     "duration": 0.380991,
     "end_time": "2021-06-18T08:01:54.483669",
     "exception": false,
     "start_time": "2021-06-18T08:01:54.102678",
     "status": "completed"
    },
    "tags": []
   },
   "outputs": [
    {
     "data": {
      "application/javascript": [
       "parent.postMessage({\"jupyterEvent\": \"custom.exercise_interaction\", \"data\": {\"outcomeType\": 1, \"valueTowardsCompletion\": 0.3333333333333333, \"interactionType\": 1, \"questionType\": 2, \"questionId\": \"3_PlotAll\", \"learnToolsVersion\": \"0.3.4\", \"failureMessage\": \"\", \"exceptionClass\": \"\", \"trace\": \"\"}}, \"*\")"
      ],
      "text/plain": [
       "<IPython.core.display.Javascript object>"
      ]
     },
     "metadata": {},
     "output_type": "display_data"
    },
    {
     "data": {
      "text/markdown": [
       "<span style=\"color:#33cc33\">Correct</span>"
      ],
      "text/plain": [
       "Correct"
      ]
     },
     "metadata": {},
     "output_type": "display_data"
    },
    {
     "data": {
      "image/png": "[encoded data removed]",
      "text/plain": [
       "<Figure size 648x576 with 1 Axes>"
      ]
     },
     "metadata": {
      "needs_background": "light"
     },
     "output_type": "display_data"
    }
   ],
   "source": [
    "# Line chart showing the number of visitors to each museum over time\n",
    "plt.figure(figsize=(9,8))\n",
    "sns.lineplot(data=museum_data) # Your code here\n",
    "\n",
    "# Check your answer\n",
    "step_3.check()"
   ]
  },
  {
   "cell_type": "code",
   "execution_count": 9,
   "id": "human-focus",
   "metadata": {
    "execution": {
     "iopub.execute_input": "2021-06-18T08:01:54.524942Z",
     "iopub.status.busy": "2021-06-18T08:01:54.523976Z",
     "iopub.status.idle": "2021-06-18T08:01:54.527505Z",
     "shell.execute_reply": "2021-06-18T08:01:54.526937Z",
     "shell.execute_reply.started": "2021-06-13T13:33:34.175962Z"
    },
    "papermill": {
     "duration": 0.025627,
     "end_time": "2021-06-18T08:01:54.527661",
     "exception": false,
     "start_time": "2021-06-18T08:01:54.502034",
     "status": "completed"
    },
    "tags": []
   },
   "outputs": [],
   "source": [
    "# Lines below will give you a hint or solution code\n",
    "#step_3.hint()\n",
    "#step_3.solution_plot()"
   ]
  },
  {
   "cell_type": "markdown",
   "id": "electronic-fight",
   "metadata": {
    "papermill": {
     "duration": 0.018291,
     "end_time": "2021-06-18T08:01:54.565910",
     "exception": false,
     "start_time": "2021-06-18T08:01:54.547619",
     "status": "completed"
    },
    "tags": []
   },
   "source": [
    "## Step 4: Assess seasonality\n",
    "\n",
    "When meeting with the employees at Avila Adobe, you hear that one major pain point is that the number of museum visitors varies greatly with the seasons, with low seasons (when the employees are perfectly staffed and happy) and also high seasons (when the employees are understaffed and stressed).  You realize that if you can predict these high and low seasons, you can plan ahead to hire some additional seasonal employees to help out with the extra work.\n",
    "\n",
    "#### Part A\n",
    "Create a line chart that shows how the number of visitors to Avila Adobe has evolved over time.  (_If your code returns an error, the first thing that you should check is that you've spelled the name of the column correctly!  You must write the name of the column exactly as it appears in the dataset._)"
   ]
  },
  {
   "cell_type": "code",
   "execution_count": 10,
   "id": "powered-thailand",
   "metadata": {
    "execution": {
     "iopub.execute_input": "2021-06-18T08:01:54.629404Z",
     "iopub.status.busy": "2021-06-18T08:01:54.613444Z",
     "iopub.status.idle": "2021-06-18T08:01:54.809306Z",
     "shell.execute_reply": "2021-06-18T08:01:54.808415Z",
     "shell.execute_reply.started": "2021-06-13T13:36:57.583586Z"
    },
    "papermill": {
     "duration": 0.224967,
     "end_time": "2021-06-18T08:01:54.809483",
     "exception": false,
     "start_time": "2021-06-18T08:01:54.584516",
     "status": "completed"
    },
    "tags": []
   },
   "outputs": [
    {
     "name": "stdout",
     "output_type": "stream",
     "text": [
      "Thank you for creating a line chart!  To see how your code compares to the official solution, please use the code cell below.\n"
     ]
    },
    {
     "data": {
      "application/javascript": [
       "parent.postMessage({\"jupyterEvent\": \"custom.exercise_interaction\", \"data\": {\"outcomeType\": 1, \"valueTowardsCompletion\": 0.3333333333333333, \"interactionType\": 1, \"questionType\": 2, \"questionId\": \"4.1_PlotAvila\", \"learnToolsVersion\": \"0.3.4\", \"failureMessage\": \"\", \"exceptionClass\": \"\", \"trace\": \"\"}}, \"*\")"
      ],
      "text/plain": [
       "<IPython.core.display.Javascript object>"
      ]
     },
     "metadata": {},
     "output_type": "display_data"
    },
    {
     "data": {
      "text/markdown": [
       "<span style=\"color:#33cc33\">Correct</span>"
      ],
      "text/plain": [
       "Correct"
      ]
     },
     "metadata": {},
     "output_type": "display_data"
    },
    {
     "data": {
      "image/png": "[encoded data removed]",
      "text/plain": [
       "<Figure size 432x288 with 1 Axes>"
      ]
     },
     "metadata": {
      "needs_background": "light"
     },
     "output_type": "display_data"
    }
   ],
   "source": [
    "# Line plot showing the number of visitors to Avila Adobe over time\n",
    "museum_data.columns\n",
    "sns.lineplot(data=museum_data[\"Avila Adobe\"])\n",
    "plt.title(\"Number of visitors to Avila Adobe over time\")# Your code here\n",
    "\n",
    "# Check your answer\n",
    "step_4.a.check()"
   ]
  },
  {
   "cell_type": "code",
   "execution_count": 11,
   "id": "moving-whole",
   "metadata": {
    "execution": {
     "iopub.execute_input": "2021-06-18T08:01:54.867402Z",
     "iopub.status.busy": "2021-06-18T08:01:54.866690Z",
     "iopub.status.idle": "2021-06-18T08:01:54.870017Z",
     "shell.execute_reply": "2021-06-18T08:01:54.869429Z",
     "shell.execute_reply.started": "2021-06-13T13:37:25.568937Z"
    },
    "papermill": {
     "duration": 0.035049,
     "end_time": "2021-06-18T08:01:54.870162",
     "exception": false,
     "start_time": "2021-06-18T08:01:54.835113",
     "status": "completed"
    },
    "tags": []
   },
   "outputs": [],
   "source": [
    "# Lines below will give you a hint or solution code\n",
    "#step_4.a.hint()\n",
    "#step_4.a.solution_plot()"
   ]
  },
  {
   "cell_type": "markdown",
   "id": "israeli-proportion",
   "metadata": {
    "papermill": {
     "duration": 0.019907,
     "end_time": "2021-06-18T08:01:54.910176",
     "exception": false,
     "start_time": "2021-06-18T08:01:54.890269",
     "status": "completed"
    },
    "tags": []
   },
   "source": [
    "#### Part B\n",
    "\n",
    "Does Avila Adobe get more visitors:\n",
    "- in September-February (in LA, the fall and winter months), or \n",
    "- in March-August (in LA, the spring and summer)?  \n",
    "\n",
    "Using this information, when should the museum staff additional seasonal employees?"
   ]
  },
  {
   "cell_type": "code",
   "execution_count": 12,
   "id": "empirical-feature",
   "metadata": {
    "execution": {
     "iopub.execute_input": "2021-06-18T08:01:54.954219Z",
     "iopub.status.busy": "2021-06-18T08:01:54.953306Z",
     "iopub.status.idle": "2021-06-18T08:01:54.957870Z",
     "shell.execute_reply": "2021-06-18T08:01:54.958675Z",
     "shell.execute_reply.started": "2021-06-13T13:38:21.06819Z"
    },
    "papermill": {
     "duration": 0.028312,
     "end_time": "2021-06-18T08:01:54.958895",
     "exception": false,
     "start_time": "2021-06-18T08:01:54.930583",
     "status": "completed"
    },
    "tags": []
   },
   "outputs": [],
   "source": [
    "#step_4.b.hint()"
   ]
  },
  {
   "cell_type": "code",
   "execution_count": 13,
   "id": "internal-facial",
   "metadata": {
    "execution": {
     "iopub.execute_input": "2021-06-18T08:01:55.002835Z",
     "iopub.status.busy": "2021-06-18T08:01:55.001876Z",
     "iopub.status.idle": "2021-06-18T08:01:55.009527Z",
     "shell.execute_reply": "2021-06-18T08:01:55.009967Z",
     "shell.execute_reply.started": "2021-06-13T13:38:22.338677Z"
    },
    "papermill": {
     "duration": 0.031056,
     "end_time": "2021-06-18T08:01:55.010143",
     "exception": false,
     "start_time": "2021-06-18T08:01:54.979087",
     "status": "completed"
    },
    "tags": []
   },
   "outputs": [
    {
     "data": {
      "application/javascript": [
       "parent.postMessage({\"jupyterEvent\": \"custom.exercise_interaction\", \"data\": {\"interactionType\": 3, \"questionType\": 4, \"questionId\": \"4.2_ThinkAvila\", \"learnToolsVersion\": \"0.3.4\", \"valueTowardsCompletion\": 0.0, \"failureMessage\": \"\", \"exceptionClass\": \"\", \"trace\": \"\", \"outcomeType\": 4}}, \"*\")"
      ],
      "text/plain": [
       "<IPython.core.display.Javascript object>"
      ]
     },
     "metadata": {},
     "output_type": "display_data"
    },
    {
     "data": {
      "text/markdown": [
       "<span style=\"color:#33cc99\">Solution:</span> The line chart generally dips to relatively low values around the early part of each year (in December and January), and reaches its highest values in the middle of the year (especially around May and June).  Thus, Avila Adobe usually gets more visitors in March-August (or the spring and summer months).  With this in mind, Avila Adobe could definitely benefit from hiring more seasonal employees to help with the extra work in March-August (the spring and summer)!"
      ],
      "text/plain": [
       "Solution: The line chart generally dips to relatively low values around the early part of each year (in December and January), and reaches its highest values in the middle of the year (especially around May and June).  Thus, Avila Adobe usually gets more visitors in March-August (or the spring and summer months).  With this in mind, Avila Adobe could definitely benefit from hiring more seasonal employees to help with the extra work in March-August (the spring and summer)!"
      ]
     },
     "metadata": {},
     "output_type": "display_data"
    }
   ],
   "source": [
    "# Check your answer (Run this code cell to receive credit!)\n",
    "step_4.b.solution()"
   ]
  },
  {
   "cell_type": "markdown",
   "id": "driving-award",
   "metadata": {
    "papermill": {
     "duration": 0.021154,
     "end_time": "2021-06-18T08:01:55.052684",
     "exception": false,
     "start_time": "2021-06-18T08:01:55.031530",
     "status": "completed"
    },
    "tags": []
   },
   "source": [
    "# Keep going\n",
    "\n",
    "Move on to learn about **[bar charts and heatmaps](https://www.kaggle.com/alexisbcook/bar-charts-and-heatmaps)** with a new dataset!"
   ]
  },
  {
   "cell_type": "markdown",
   "id": "demographic-kruger",
   "metadata": {
    "papermill": {
     "duration": 0.020602,
     "end_time": "2021-06-18T08:01:55.093999",
     "exception": false,
     "start_time": "2021-06-18T08:01:55.073397",
     "status": "completed"
    },
    "tags": []
   },
   "source": [
    "---\n",
    "\n",
    "\n",
    "\n",
    "\n",
    "*Have questions or comments? Visit the [Learn Discussion forum](https://www.kaggle.com/learn-forum/161291) to chat with other Learners.*"
   ]
  }
 ],
 "metadata": {
  "kernelspec": {
   "display_name": "Python 3",
   "language": "python",
   "name": "python3"
  },
  "language_info": {
   "codemirror_mode": {
    "name": "ipython",
    "version": 3
   },
   "file_extension": ".py",
   "mimetype": "text/x-python",
   "name": "python",
   "nbconvert_exporter": "python",
   "pygments_lexer": "ipython3",
   "version": "3.7.9"
  },
  "papermill": {
   "default_parameters": {},
   "duration": 10.068277,
   "end_time": "2021-06-18T08:01:55.824341",
   "environment_variables": {},
   "exception": null,
   "input_path": "__notebook__.ipynb",
   "output_path": "__notebook__.ipynb",
   "parameters": {},
   "start_time": "2021-06-18T08:01:45.756064",
   "version": "2.3.2"
  }
 },
 "nbformat": 4,
 "nbformat_minor": 5
}
