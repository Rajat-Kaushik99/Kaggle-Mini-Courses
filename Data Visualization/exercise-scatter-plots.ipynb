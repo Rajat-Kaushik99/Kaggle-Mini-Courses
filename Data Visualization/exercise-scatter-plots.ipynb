{
 "cells": [
  {
   "cell_type": "markdown",
   "id": "japanese-headquarters",
   "metadata": {
    "papermill": {
     "duration": 0.029796,
     "end_time": "2021-06-18T08:03:26.847248",
     "exception": false,
     "start_time": "2021-06-18T08:03:26.817452",
     "status": "completed"
    },
    "tags": []
   },
   "source": [
    "**This notebook is an exercise in the [Data Visualization](https://www.kaggle.com/learn/data-visualization) course.  You can reference the tutorial at [this link](https://www.kaggle.com/alexisbcook/scatter-plots).**\n",
    "\n",
    "---\n"
   ]
  },
  {
   "cell_type": "markdown",
   "id": "configured-refund",
   "metadata": {
    "papermill": {
     "duration": 0.028399,
     "end_time": "2021-06-18T08:03:26.904149",
     "exception": false,
     "start_time": "2021-06-18T08:03:26.875750",
     "status": "completed"
    },
    "tags": []
   },
   "source": [
    "In this exercise, you will use your new knowledge to propose a solution to a real-world scenario.  To succeed, you will need to import data into Python, answer questions using the data, and generate **scatter plots** to understand patterns in the data.\n",
    "\n",
    "## Scenario\n",
    "\n",
    "You work for a major candy producer, and your goal is to write a report that your company can use to guide the design of its next product.  Soon after starting your research, you stumble across this [very interesting dataset](https://fivethirtyeight.com/features/the-ultimate-halloween-candy-power-ranking/) containing results from a fun survey to crowdsource favorite candies.\n",
    "\n",
    "## Setup\n",
    "\n",
    "Run the next cell to import and configure the Python libraries that you need to complete the exercise."
   ]
  },
  {
   "cell_type": "code",
   "execution_count": 1,
   "id": "palestinian-frederick",
   "metadata": {
    "execution": {
     "iopub.execute_input": "2021-06-18T08:03:26.970454Z",
     "iopub.status.busy": "2021-06-18T08:03:26.969492Z",
     "iopub.status.idle": "2021-06-18T08:03:27.980531Z",
     "shell.execute_reply": "2021-06-18T08:03:27.979498Z",
     "shell.execute_reply.started": "2021-06-13T14:14:28.890335Z"
    },
    "papermill": {
     "duration": 1.048088,
     "end_time": "2021-06-18T08:03:27.980759",
     "exception": false,
     "start_time": "2021-06-18T08:03:26.932671",
     "status": "completed"
    },
    "tags": []
   },
   "outputs": [
    {
     "name": "stdout",
     "output_type": "stream",
     "text": [
      "Setup Complete\n"
     ]
    }
   ],
   "source": [
    "import pandas as pd\n",
    "pd.plotting.register_matplotlib_converters()\n",
    "import matplotlib.pyplot as plt\n",
    "%matplotlib inline\n",
    "import seaborn as sns\n",
    "print(\"Setup Complete\")"
   ]
  },
  {
   "cell_type": "markdown",
   "id": "practical-emission",
   "metadata": {
    "papermill": {
     "duration": 0.0281,
     "end_time": "2021-06-18T08:03:28.040336",
     "exception": false,
     "start_time": "2021-06-18T08:03:28.012236",
     "status": "completed"
    },
    "tags": []
   },
   "source": [
    "The questions below will give you feedback on your work. Run the following cell to set up our feedback system."
   ]
  },
  {
   "cell_type": "code",
   "execution_count": 2,
   "id": "infrared-medicaid",
   "metadata": {
    "execution": {
     "iopub.execute_input": "2021-06-18T08:03:28.104272Z",
     "iopub.status.busy": "2021-06-18T08:03:28.103559Z",
     "iopub.status.idle": "2021-06-18T08:03:28.178307Z",
     "shell.execute_reply": "2021-06-18T08:03:28.178800Z",
     "shell.execute_reply.started": "2021-06-13T14:14:29.570664Z"
    },
    "papermill": {
     "duration": 0.109608,
     "end_time": "2021-06-18T08:03:28.178999",
     "exception": false,
     "start_time": "2021-06-18T08:03:28.069391",
     "status": "completed"
    },
    "tags": []
   },
   "outputs": [
    {
     "name": "stdout",
     "output_type": "stream",
     "text": [
      "Setup Complete\n"
     ]
    }
   ],
   "source": [
    "# Set up code checking\n",
    "import os\n",
    "if not os.path.exists(\"../input/candy.csv\"):\n",
    "    os.symlink(\"../input/data-for-datavis/candy.csv\", \"../input/candy.csv\") \n",
    "from learntools.core import binder\n",
    "binder.bind(globals())\n",
    "from learntools.data_viz_to_coder.ex4 import *\n",
    "print(\"Setup Complete\")"
   ]
  },
  {
   "cell_type": "markdown",
   "id": "satisfactory-mistress",
   "metadata": {
    "papermill": {
     "duration": 0.029121,
     "end_time": "2021-06-18T08:03:28.237031",
     "exception": false,
     "start_time": "2021-06-18T08:03:28.207910",
     "status": "completed"
    },
    "tags": []
   },
   "source": [
    "## Step 1: Load the Data\n",
    "\n",
    "Read the candy data file into `candy_data`.  Use the `\"id\"` column to label the rows."
   ]
  },
  {
   "cell_type": "code",
   "execution_count": 3,
   "id": "early-tsunami",
   "metadata": {
    "execution": {
     "iopub.execute_input": "2021-06-18T08:03:28.300975Z",
     "iopub.status.busy": "2021-06-18T08:03:28.299928Z",
     "iopub.status.idle": "2021-06-18T08:03:28.316090Z",
     "shell.execute_reply": "2021-06-18T08:03:28.316640Z",
     "shell.execute_reply.started": "2021-06-13T14:14:31.985855Z"
    },
    "papermill": {
     "duration": 0.048985,
     "end_time": "2021-06-18T08:03:28.316863",
     "exception": false,
     "start_time": "2021-06-18T08:03:28.267878",
     "status": "completed"
    },
    "tags": []
   },
   "outputs": [
    {
     "data": {
      "application/javascript": [
       "parent.postMessage({\"jupyterEvent\": \"custom.exercise_interaction\", \"data\": {\"outcomeType\": 1, \"valueTowardsCompletion\": 0.3333333333333333, \"interactionType\": 1, \"questionType\": 1, \"questionId\": \"1_LoadData\", \"learnToolsVersion\": \"0.3.4\", \"failureMessage\": \"\", \"exceptionClass\": \"\", \"trace\": \"\"}}, \"*\")"
      ],
      "text/plain": [
       "<IPython.core.display.Javascript object>"
      ]
     },
     "metadata": {},
     "output_type": "display_data"
    },
    {
     "data": {
      "text/markdown": [
       "<span style=\"color:#33cc33\">Correct</span>"
      ],
      "text/plain": [
       "Correct"
      ]
     },
     "metadata": {},
     "output_type": "display_data"
    }
   ],
   "source": [
    "# Path of the file to read\n",
    "candy_filepath = \"../input/candy.csv\"\n",
    "\n",
    "# Fill in the line below to read the file into a variable candy_data\n",
    "candy_data = pd.read_csv(candy_filepath,index_col=\"id\")\n",
    "\n",
    "# Run the line below with no changes to check that you've loaded the data correctly\n",
    "step_1.check()"
   ]
  },
  {
   "cell_type": "code",
   "execution_count": 4,
   "id": "likely-apache",
   "metadata": {
    "execution": {
     "iopub.execute_input": "2021-06-18T08:03:28.382420Z",
     "iopub.status.busy": "2021-06-18T08:03:28.381750Z",
     "iopub.status.idle": "2021-06-18T08:03:28.384786Z",
     "shell.execute_reply": "2021-06-18T08:03:28.385335Z",
     "shell.execute_reply.started": "2021-06-13T14:14:32.544514Z"
    },
    "papermill": {
     "duration": 0.037754,
     "end_time": "2021-06-18T08:03:28.385574",
     "exception": false,
     "start_time": "2021-06-18T08:03:28.347820",
     "status": "completed"
    },
    "tags": []
   },
   "outputs": [],
   "source": [
    "# Lines below will give you a hint or solution code\n",
    "#step_1.hint()\n",
    "#step_1.solution()"
   ]
  },
  {
   "cell_type": "markdown",
   "id": "prospective-manitoba",
   "metadata": {
    "papermill": {
     "duration": 0.030342,
     "end_time": "2021-06-18T08:03:28.446221",
     "exception": false,
     "start_time": "2021-06-18T08:03:28.415879",
     "status": "completed"
    },
    "tags": []
   },
   "source": [
    "## Step 2: Review the data\n",
    "\n",
    "Use a Python command to print the first five rows of the data."
   ]
  },
  {
   "cell_type": "code",
   "execution_count": 5,
   "id": "occasional-magnet",
   "metadata": {
    "execution": {
     "iopub.execute_input": "2021-06-18T08:03:28.511274Z",
     "iopub.status.busy": "2021-06-18T08:03:28.510485Z",
     "iopub.status.idle": "2021-06-18T08:03:28.534453Z",
     "shell.execute_reply": "2021-06-18T08:03:28.535025Z",
     "shell.execute_reply.started": "2021-06-13T14:14:34.4712Z"
    },
    "papermill": {
     "duration": 0.057953,
     "end_time": "2021-06-18T08:03:28.535267",
     "exception": false,
     "start_time": "2021-06-18T08:03:28.477314",
     "status": "completed"
    },
    "tags": []
   },
   "outputs": [
    {
     "data": {
      "text/html": [
       "<div>\n",
       "<style scoped>\n",
       "    .dataframe tbody tr th:only-of-type {\n",
       "        vertical-align: middle;\n",
       "    }\n",
       "\n",
       "    .dataframe tbody tr th {\n",
       "        vertical-align: top;\n",
       "    }\n",
       "\n",
       "    .dataframe thead th {\n",
       "        text-align: right;\n",
       "    }\n",
       "</style>\n",
       "<table border=\"1\" class=\"dataframe\">\n",
       "  <thead>\n",
       "    <tr style=\"text-align: right;\">\n",
       "      <th></th>\n",
       "      <th>competitorname</th>\n",
       "      <th>chocolate</th>\n",
       "      <th>fruity</th>\n",
       "      <th>caramel</th>\n",
       "      <th>peanutyalmondy</th>\n",
       "      <th>nougat</th>\n",
       "      <th>crispedricewafer</th>\n",
       "      <th>hard</th>\n",
       "      <th>bar</th>\n",
       "      <th>pluribus</th>\n",
       "      <th>sugarpercent</th>\n",
       "      <th>pricepercent</th>\n",
       "      <th>winpercent</th>\n",
       "    </tr>\n",
       "    <tr>\n",
       "      <th>id</th>\n",
       "      <th></th>\n",
       "      <th></th>\n",
       "      <th></th>\n",
       "      <th></th>\n",
       "      <th></th>\n",
       "      <th></th>\n",
       "      <th></th>\n",
       "      <th></th>\n",
       "      <th></th>\n",
       "      <th></th>\n",
       "      <th></th>\n",
       "      <th></th>\n",
       "      <th></th>\n",
       "    </tr>\n",
       "  </thead>\n",
       "  <tbody>\n",
       "    <tr>\n",
       "      <th>0</th>\n",
       "      <td>100 Grand</td>\n",
       "      <td>Yes</td>\n",
       "      <td>No</td>\n",
       "      <td>Yes</td>\n",
       "      <td>No</td>\n",
       "      <td>No</td>\n",
       "      <td>Yes</td>\n",
       "      <td>No</td>\n",
       "      <td>Yes</td>\n",
       "      <td>No</td>\n",
       "      <td>0.732</td>\n",
       "      <td>0.860</td>\n",
       "      <td>66.971725</td>\n",
       "    </tr>\n",
       "    <tr>\n",
       "      <th>1</th>\n",
       "      <td>3 Musketeers</td>\n",
       "      <td>Yes</td>\n",
       "      <td>No</td>\n",
       "      <td>No</td>\n",
       "      <td>No</td>\n",
       "      <td>Yes</td>\n",
       "      <td>No</td>\n",
       "      <td>No</td>\n",
       "      <td>Yes</td>\n",
       "      <td>No</td>\n",
       "      <td>0.604</td>\n",
       "      <td>0.511</td>\n",
       "      <td>67.602936</td>\n",
       "    </tr>\n",
       "    <tr>\n",
       "      <th>2</th>\n",
       "      <td>Air Heads</td>\n",
       "      <td>No</td>\n",
       "      <td>Yes</td>\n",
       "      <td>No</td>\n",
       "      <td>No</td>\n",
       "      <td>No</td>\n",
       "      <td>No</td>\n",
       "      <td>No</td>\n",
       "      <td>No</td>\n",
       "      <td>No</td>\n",
       "      <td>0.906</td>\n",
       "      <td>0.511</td>\n",
       "      <td>52.341465</td>\n",
       "    </tr>\n",
       "    <tr>\n",
       "      <th>3</th>\n",
       "      <td>Almond Joy</td>\n",
       "      <td>Yes</td>\n",
       "      <td>No</td>\n",
       "      <td>No</td>\n",
       "      <td>Yes</td>\n",
       "      <td>No</td>\n",
       "      <td>No</td>\n",
       "      <td>No</td>\n",
       "      <td>Yes</td>\n",
       "      <td>No</td>\n",
       "      <td>0.465</td>\n",
       "      <td>0.767</td>\n",
       "      <td>50.347546</td>\n",
       "    </tr>\n",
       "    <tr>\n",
       "      <th>4</th>\n",
       "      <td>Baby Ruth</td>\n",
       "      <td>Yes</td>\n",
       "      <td>No</td>\n",
       "      <td>Yes</td>\n",
       "      <td>Yes</td>\n",
       "      <td>Yes</td>\n",
       "      <td>No</td>\n",
       "      <td>No</td>\n",
       "      <td>Yes</td>\n",
       "      <td>No</td>\n",
       "      <td>0.604</td>\n",
       "      <td>0.767</td>\n",
       "      <td>56.914547</td>\n",
       "    </tr>\n",
       "  </tbody>\n",
       "</table>\n",
       "</div>"
      ],
      "text/plain": [
       "   competitorname chocolate fruity caramel peanutyalmondy nougat  \\\n",
       "id                                                                 \n",
       "0       100 Grand       Yes     No     Yes             No     No   \n",
       "1    3 Musketeers       Yes     No      No             No    Yes   \n",
       "2       Air Heads        No    Yes      No             No     No   \n",
       "3      Almond Joy       Yes     No      No            Yes     No   \n",
       "4       Baby Ruth       Yes     No     Yes            Yes    Yes   \n",
       "\n",
       "   crispedricewafer hard  bar pluribus  sugarpercent  pricepercent  winpercent  \n",
       "id                                                                              \n",
       "0               Yes   No  Yes       No         0.732         0.860   66.971725  \n",
       "1                No   No  Yes       No         0.604         0.511   67.602936  \n",
       "2                No   No   No       No         0.906         0.511   52.341465  \n",
       "3                No   No  Yes       No         0.465         0.767   50.347546  \n",
       "4                No   No  Yes       No         0.604         0.767   56.914547  "
      ]
     },
     "execution_count": 5,
     "metadata": {},
     "output_type": "execute_result"
    }
   ],
   "source": [
    "# Print the first five rows of the data\n",
    "candy_data.head() # Your code here"
   ]
  },
  {
   "cell_type": "markdown",
   "id": "tamil-novel",
   "metadata": {
    "papermill": {
     "duration": 0.03083,
     "end_time": "2021-06-18T08:03:28.596971",
     "exception": false,
     "start_time": "2021-06-18T08:03:28.566141",
     "status": "completed"
    },
    "tags": []
   },
   "source": [
    "The dataset contains 83 rows, where each corresponds to a different candy bar.  There are 13 columns:\n",
    "- `'competitorname'` contains the name of the candy bar. \n",
    "- the next **9** columns (from `'chocolate'` to `'pluribus'`) describe the candy.  For instance, rows with chocolate candies have `\"Yes\"` in the `'chocolate'` column (and candies without chocolate have `\"No\"` in the same column).\n",
    "- `'sugarpercent'` provides some indication of the amount of sugar, where higher values signify higher sugar content.\n",
    "- `'pricepercent'` shows the price per unit, relative to the other candies in the dataset.\n",
    "- `'winpercent'` is calculated from the survey results; higher values indicate that the candy was more popular with survey respondents.\n",
    "\n",
    "Use the first five rows of the data to answer the questions below."
   ]
  },
  {
   "cell_type": "code",
   "execution_count": 6,
   "id": "conditional-milton",
   "metadata": {
    "execution": {
     "iopub.execute_input": "2021-06-18T08:03:28.662371Z",
     "iopub.status.busy": "2021-06-18T08:03:28.661636Z",
     "iopub.status.idle": "2021-06-18T08:03:28.667680Z",
     "shell.execute_reply": "2021-06-18T08:03:28.668312Z",
     "shell.execute_reply.started": "2021-06-13T14:14:35.989988Z"
    },
    "papermill": {
     "duration": 0.040447,
     "end_time": "2021-06-18T08:03:28.668510",
     "exception": false,
     "start_time": "2021-06-18T08:03:28.628063",
     "status": "completed"
    },
    "tags": []
   },
   "outputs": [
    {
     "data": {
      "application/javascript": [
       "parent.postMessage({\"jupyterEvent\": \"custom.exercise_interaction\", \"data\": {\"outcomeType\": 1, \"valueTowardsCompletion\": 0.3333333333333333, \"interactionType\": 1, \"questionType\": 1, \"questionId\": \"2_ReviewData\", \"learnToolsVersion\": \"0.3.4\", \"failureMessage\": \"\", \"exceptionClass\": \"\", \"trace\": \"\"}}, \"*\")"
      ],
      "text/plain": [
       "<IPython.core.display.Javascript object>"
      ]
     },
     "metadata": {},
     "output_type": "display_data"
    },
    {
     "data": {
      "text/markdown": [
       "<span style=\"color:#33cc33\">Correct</span>"
      ],
      "text/plain": [
       "Correct"
      ]
     },
     "metadata": {},
     "output_type": "display_data"
    }
   ],
   "source": [
    "# Fill in the line below: Which candy was more popular with survey respondents:\n",
    "# '3 Musketeers' or 'Almond Joy'?  (Please enclose your answer in single quotes.)\n",
    "more_popular = '3 Musketeers'\n",
    "\n",
    "# Fill in the line below: Which candy has higher sugar content: 'Air Heads'\n",
    "# or 'Baby Ruth'? (Please enclose your answer in single quotes.)\n",
    "more_sugar ='Air Heads'\n",
    "\n",
    "# Check your answers\n",
    "step_2.check()"
   ]
  },
  {
   "cell_type": "code",
   "execution_count": 7,
   "id": "minor-experience",
   "metadata": {
    "execution": {
     "iopub.execute_input": "2021-06-18T08:03:28.736984Z",
     "iopub.status.busy": "2021-06-18T08:03:28.736256Z",
     "iopub.status.idle": "2021-06-18T08:03:28.739408Z",
     "shell.execute_reply": "2021-06-18T08:03:28.739987Z",
     "shell.execute_reply.started": "2021-06-13T14:14:36.846727Z"
    },
    "papermill": {
     "duration": 0.039588,
     "end_time": "2021-06-18T08:03:28.740235",
     "exception": false,
     "start_time": "2021-06-18T08:03:28.700647",
     "status": "completed"
    },
    "tags": []
   },
   "outputs": [],
   "source": [
    "# Lines below will give you a hint or solution code\n",
    "#step_2.hint()\n",
    "#step_2.solution()"
   ]
  },
  {
   "cell_type": "markdown",
   "id": "approximate-marker",
   "metadata": {
    "papermill": {
     "duration": 0.033386,
     "end_time": "2021-06-18T08:03:28.806042",
     "exception": false,
     "start_time": "2021-06-18T08:03:28.772656",
     "status": "completed"
    },
    "tags": []
   },
   "source": [
    "## Step 3: The role of sugar\n",
    "\n",
    "Do people tend to prefer candies with higher sugar content?  \n",
    "\n",
    "#### Part A\n",
    "\n",
    "Create a scatter plot that shows the relationship between `'sugarpercent'` (on the horizontal x-axis) and `'winpercent'` (on the vertical y-axis).  _Don't add a regression line just yet -- you'll do that in the next step!_"
   ]
  },
  {
   "cell_type": "code",
   "execution_count": 8,
   "id": "thrown-filename",
   "metadata": {
    "execution": {
     "iopub.execute_input": "2021-06-18T08:03:28.875243Z",
     "iopub.status.busy": "2021-06-18T08:03:28.874553Z",
     "iopub.status.idle": "2021-06-18T08:03:29.106803Z",
     "shell.execute_reply": "2021-06-18T08:03:29.107393Z",
     "shell.execute_reply.started": "2021-06-13T14:14:41.010517Z"
    },
    "papermill": {
     "duration": 0.269513,
     "end_time": "2021-06-18T08:03:29.107610",
     "exception": false,
     "start_time": "2021-06-18T08:03:28.838097",
     "status": "completed"
    },
    "tags": []
   },
   "outputs": [
    {
     "data": {
      "application/javascript": [
       "parent.postMessage({\"jupyterEvent\": \"custom.exercise_interaction\", \"data\": {\"outcomeType\": 1, \"valueTowardsCompletion\": 0.3333333333333333, \"interactionType\": 1, \"questionType\": 2, \"questionId\": \"3.1_PlotBlueScatter\", \"learnToolsVersion\": \"0.3.4\", \"failureMessage\": \"\", \"exceptionClass\": \"\", \"trace\": \"\"}}, \"*\")"
      ],
      "text/plain": [
       "<IPython.core.display.Javascript object>"
      ]
     },
     "metadata": {},
     "output_type": "display_data"
    },
    {
     "data": {
      "text/markdown": [
       "<span style=\"color:#33cc33\">Correct</span>"
      ],
      "text/plain": [
       "Correct"
      ]
     },
     "metadata": {},
     "output_type": "display_data"
    },
    {
     "data": {
      "image/png": "[encoded data removed]",
      "text/plain": [
       "<Figure size 576x576 with 1 Axes>"
      ]
     },
     "metadata": {
      "needs_background": "light"
     },
     "output_type": "display_data"
    }
   ],
   "source": [
    "# Scatter plot showing the relationship between 'sugarpercent' and 'winpercent'\n",
    "plt.figure(figsize=(8,8))\n",
    "sns.scatterplot(x=candy_data[\"sugarpercent\"],y=candy_data[\"winpercent\"])\n",
    "# Your code here\n",
    "\n",
    "# Check your answer\n",
    "step_3.a.check()"
   ]
  },
  {
   "cell_type": "code",
   "execution_count": 9,
   "id": "front-talent",
   "metadata": {
    "execution": {
     "iopub.execute_input": "2021-06-18T08:03:29.184594Z",
     "iopub.status.busy": "2021-06-18T08:03:29.183933Z",
     "iopub.status.idle": "2021-06-18T08:03:29.187386Z",
     "shell.execute_reply": "2021-06-18T08:03:29.187874Z",
     "shell.execute_reply.started": "2021-06-13T14:14:42.150908Z"
    },
    "papermill": {
     "duration": 0.043565,
     "end_time": "2021-06-18T08:03:29.188094",
     "exception": false,
     "start_time": "2021-06-18T08:03:29.144529",
     "status": "completed"
    },
    "tags": []
   },
   "outputs": [],
   "source": [
    "# Lines below will give you a hint or solution code\n",
    "#step_3.a.hint()\n",
    "#step_3.a.solution_plot()"
   ]
  },
  {
   "cell_type": "markdown",
   "id": "underlying-signature",
   "metadata": {
    "papermill": {
     "duration": 0.033877,
     "end_time": "2021-06-18T08:03:29.255455",
     "exception": false,
     "start_time": "2021-06-18T08:03:29.221578",
     "status": "completed"
    },
    "tags": []
   },
   "source": [
    "#### Part B\n",
    "\n",
    "Does the scatter plot show a **strong** correlation between the two variables?  If so, are candies with more sugar relatively more or less popular with the survey respondents?"
   ]
  },
  {
   "cell_type": "code",
   "execution_count": 10,
   "id": "stupid-annotation",
   "metadata": {
    "execution": {
     "iopub.execute_input": "2021-06-18T08:03:29.326859Z",
     "iopub.status.busy": "2021-06-18T08:03:29.326183Z",
     "iopub.status.idle": "2021-06-18T08:03:29.329693Z",
     "shell.execute_reply": "2021-06-18T08:03:29.330213Z",
     "shell.execute_reply.started": "2021-06-13T14:14:44.182722Z"
    },
    "papermill": {
     "duration": 0.041272,
     "end_time": "2021-06-18T08:03:29.330422",
     "exception": false,
     "start_time": "2021-06-18T08:03:29.289150",
     "status": "completed"
    },
    "tags": []
   },
   "outputs": [],
   "source": [
    "#step_3.b.hint()"
   ]
  },
  {
   "cell_type": "code",
   "execution_count": 11,
   "id": "ruled-seafood",
   "metadata": {
    "execution": {
     "iopub.execute_input": "2021-06-18T08:03:29.401552Z",
     "iopub.status.busy": "2021-06-18T08:03:29.400891Z",
     "iopub.status.idle": "2021-06-18T08:03:29.407949Z",
     "shell.execute_reply": "2021-06-18T08:03:29.408593Z",
     "shell.execute_reply.started": "2021-06-13T14:14:44.881919Z"
    },
    "papermill": {
     "duration": 0.045041,
     "end_time": "2021-06-18T08:03:29.408802",
     "exception": false,
     "start_time": "2021-06-18T08:03:29.363761",
     "status": "completed"
    },
    "tags": []
   },
   "outputs": [
    {
     "data": {
      "application/javascript": [
       "parent.postMessage({\"jupyterEvent\": \"custom.exercise_interaction\", \"data\": {\"interactionType\": 3, \"questionType\": 4, \"questionId\": \"3.2_ThinkBlueScatter\", \"learnToolsVersion\": \"0.3.4\", \"valueTowardsCompletion\": 0.0, \"failureMessage\": \"\", \"exceptionClass\": \"\", \"trace\": \"\", \"outcomeType\": 4}}, \"*\")"
      ],
      "text/plain": [
       "<IPython.core.display.Javascript object>"
      ]
     },
     "metadata": {},
     "output_type": "display_data"
    },
    {
     "data": {
      "text/markdown": [
       "<span style=\"color:#33cc99\">Solution:</span> The scatter plot does not show a strong correlation between the two variables. Since there is no clear relationship between the two variables, this tells us that sugar content does not play a strong role in candy popularity."
      ],
      "text/plain": [
       "Solution: The scatter plot does not show a strong correlation between the two variables. Since there is no clear relationship between the two variables, this tells us that sugar content does not play a strong role in candy popularity."
      ]
     },
     "metadata": {},
     "output_type": "display_data"
    }
   ],
   "source": [
    "# Check your answer (Run this code cell to receive credit!)\n",
    "step_3.b.solution()"
   ]
  },
  {
   "cell_type": "markdown",
   "id": "moving-scene",
   "metadata": {
    "papermill": {
     "duration": 0.052013,
     "end_time": "2021-06-18T08:03:29.498412",
     "exception": false,
     "start_time": "2021-06-18T08:03:29.446399",
     "status": "completed"
    },
    "tags": []
   },
   "source": [
    "## Step 4: Take a closer look\n",
    "\n",
    "#### Part A\n",
    "\n",
    "Create the same scatter plot you created in **Step 3**, but now with a regression line!"
   ]
  },
  {
   "cell_type": "code",
   "execution_count": 12,
   "id": "rolled-kitty",
   "metadata": {
    "execution": {
     "iopub.execute_input": "2021-06-18T08:03:29.594603Z",
     "iopub.status.busy": "2021-06-18T08:03:29.593896Z",
     "iopub.status.idle": "2021-06-18T08:03:29.864643Z",
     "shell.execute_reply": "2021-06-18T08:03:29.865231Z",
     "shell.execute_reply.started": "2021-06-13T14:14:46.688644Z"
    },
    "papermill": {
     "duration": 0.315569,
     "end_time": "2021-06-18T08:03:29.865438",
     "exception": false,
     "start_time": "2021-06-18T08:03:29.549869",
     "status": "completed"
    },
    "tags": []
   },
   "outputs": [
    {
     "data": {
      "application/javascript": [
       "parent.postMessage({\"jupyterEvent\": \"custom.exercise_interaction\", \"data\": {\"outcomeType\": 1, \"valueTowardsCompletion\": 0.3333333333333333, \"interactionType\": 1, \"questionType\": 2, \"questionId\": \"4.1_PlotBlueReg\", \"learnToolsVersion\": \"0.3.4\", \"failureMessage\": \"\", \"exceptionClass\": \"\", \"trace\": \"\"}}, \"*\")"
      ],
      "text/plain": [
       "<IPython.core.display.Javascript object>"
      ]
     },
     "metadata": {},
     "output_type": "display_data"
    },
    {
     "data": {
      "text/markdown": [
       "<span style=\"color:#33cc33\">Correct</span>"
      ],
      "text/plain": [
       "Correct"
      ]
     },
     "metadata": {},
     "output_type": "display_data"
    },
    {
     "data": {
      "image/png": "[encoded data removed]",
      "text/plain": [
       "<Figure size 576x576 with 1 Axes>"
      ]
     },
     "metadata": {
      "needs_background": "light"
     },
     "output_type": "display_data"
    }
   ],
   "source": [
    "# Scatter plot w/ regression line showing the relationship between 'sugarpercent' and 'winpercent'\n",
    " # Your code here\n",
    "plt.figure(figsize=(8,8))\n",
    "sns.regplot(x=candy_data[\"sugarpercent\"],y=candy_data[\"winpercent\"])\n",
    "# Check your answer\n",
    "step_4.a.check()"
   ]
  },
  {
   "cell_type": "code",
   "execution_count": 13,
   "id": "extended-mouth",
   "metadata": {
    "execution": {
     "iopub.execute_input": "2021-06-18T08:03:29.942401Z",
     "iopub.status.busy": "2021-06-18T08:03:29.941765Z",
     "iopub.status.idle": "2021-06-18T08:03:29.945096Z",
     "shell.execute_reply": "2021-06-18T08:03:29.945651Z",
     "shell.execute_reply.started": "2021-06-13T14:14:47.957907Z"
    },
    "papermill": {
     "duration": 0.042943,
     "end_time": "2021-06-18T08:03:29.945858",
     "exception": false,
     "start_time": "2021-06-18T08:03:29.902915",
     "status": "completed"
    },
    "tags": []
   },
   "outputs": [],
   "source": [
    "# Lines below will give you a hint or solution code\n",
    "#step_4.a.hint()\n",
    "#step_4.a.solution_plot()"
   ]
  },
  {
   "cell_type": "markdown",
   "id": "confidential-recall",
   "metadata": {
    "papermill": {
     "duration": 0.03696,
     "end_time": "2021-06-18T08:03:30.019739",
     "exception": false,
     "start_time": "2021-06-18T08:03:29.982779",
     "status": "completed"
    },
    "tags": []
   },
   "source": [
    "#### Part B\n",
    "\n",
    "According to the plot above, is there a **slight** correlation between `'winpercent'` and `'sugarpercent'`?  What does this tell you about the candy that people tend to prefer?"
   ]
  },
  {
   "cell_type": "code",
   "execution_count": 14,
   "id": "considerable-cancellation",
   "metadata": {
    "execution": {
     "iopub.execute_input": "2021-06-18T08:03:30.097086Z",
     "iopub.status.busy": "2021-06-18T08:03:30.096431Z",
     "iopub.status.idle": "2021-06-18T08:03:30.101695Z",
     "shell.execute_reply": "2021-06-18T08:03:30.101189Z",
     "shell.execute_reply.started": "2021-06-13T14:14:49.676421Z"
    },
    "papermill": {
     "duration": 0.044366,
     "end_time": "2021-06-18T08:03:30.101845",
     "exception": false,
     "start_time": "2021-06-18T08:03:30.057479",
     "status": "completed"
    },
    "tags": []
   },
   "outputs": [],
   "source": [
    "#step_4.b.hint()"
   ]
  },
  {
   "cell_type": "code",
   "execution_count": 15,
   "id": "accompanied-stephen",
   "metadata": {
    "execution": {
     "iopub.execute_input": "2021-06-18T08:03:30.181311Z",
     "iopub.status.busy": "2021-06-18T08:03:30.180324Z",
     "iopub.status.idle": "2021-06-18T08:03:30.188339Z",
     "shell.execute_reply": "2021-06-18T08:03:30.187613Z",
     "shell.execute_reply.started": "2021-06-13T14:14:50.231156Z"
    },
    "papermill": {
     "duration": 0.04936,
     "end_time": "2021-06-18T08:03:30.188501",
     "exception": false,
     "start_time": "2021-06-18T08:03:30.139141",
     "status": "completed"
    },
    "tags": []
   },
   "outputs": [
    {
     "data": {
      "application/javascript": [
       "parent.postMessage({\"jupyterEvent\": \"custom.exercise_interaction\", \"data\": {\"interactionType\": 3, \"questionType\": 4, \"questionId\": \"4.2_ThinkBlueReg\", \"learnToolsVersion\": \"0.3.4\", \"valueTowardsCompletion\": 0.0, \"failureMessage\": \"\", \"exceptionClass\": \"\", \"trace\": \"\", \"outcomeType\": 4}}, \"*\")"
      ],
      "text/plain": [
       "<IPython.core.display.Javascript object>"
      ]
     },
     "metadata": {},
     "output_type": "display_data"
    },
    {
     "data": {
      "text/markdown": [
       "<span style=\"color:#33cc99\">Solution:</span> Since the regression line has a slightly positive slope, this tells us that there is a slightly positive correlation between `'winpercent'` and `'sugarpercent'`. Thus, people have a slight preference for candies containing relatively more sugar."
      ],
      "text/plain": [
       "Solution: Since the regression line has a slightly positive slope, this tells us that there is a slightly positive correlation between `'winpercent'` and `'sugarpercent'`. Thus, people have a slight preference for candies containing relatively more sugar."
      ]
     },
     "metadata": {},
     "output_type": "display_data"
    }
   ],
   "source": [
    "# Check your answer (Run this code cell to receive credit!)\n",
    "step_4.b.solution()"
   ]
  },
  {
   "cell_type": "markdown",
   "id": "documented-motivation",
   "metadata": {
    "papermill": {
     "duration": 0.038121,
     "end_time": "2021-06-18T08:03:30.264755",
     "exception": false,
     "start_time": "2021-06-18T08:03:30.226634",
     "status": "completed"
    },
    "tags": []
   },
   "source": [
    "## Step 5: Chocolate!\n",
    "\n",
    "In the code cell below, create a scatter plot to show the relationship between `'pricepercent'` (on the horizontal x-axis) and `'winpercent'` (on the vertical y-axis). Use the `'chocolate'` column to color-code the points.  _Don't add any regression lines just yet -- you'll do that in the next step!_"
   ]
  },
  {
   "cell_type": "code",
   "execution_count": 16,
   "id": "external-slovenia",
   "metadata": {
    "execution": {
     "iopub.execute_input": "2021-06-18T08:03:30.395612Z",
     "iopub.status.busy": "2021-06-18T08:03:30.390024Z",
     "iopub.status.idle": "2021-06-18T08:03:30.640192Z",
     "shell.execute_reply": "2021-06-18T08:03:30.639539Z",
     "shell.execute_reply.started": "2021-06-13T14:14:52.162856Z"
    },
    "papermill": {
     "duration": 0.337982,
     "end_time": "2021-06-18T08:03:30.640341",
     "exception": false,
     "start_time": "2021-06-18T08:03:30.302359",
     "status": "completed"
    },
    "tags": []
   },
   "outputs": [
    {
     "data": {
      "application/javascript": [
       "parent.postMessage({\"jupyterEvent\": \"custom.exercise_interaction\", \"data\": {\"outcomeType\": 1, \"valueTowardsCompletion\": 0.3333333333333333, \"interactionType\": 1, \"questionType\": 2, \"questionId\": \"5_ColorScatter\", \"learnToolsVersion\": \"0.3.4\", \"failureMessage\": \"\", \"exceptionClass\": \"\", \"trace\": \"\"}}, \"*\")"
      ],
      "text/plain": [
       "<IPython.core.display.Javascript object>"
      ]
     },
     "metadata": {},
     "output_type": "display_data"
    },
    {
     "data": {
      "text/markdown": [
       "<span style=\"color:#33cc33\">Correct</span>"
      ],
      "text/plain": [
       "Correct"
      ]
     },
     "metadata": {},
     "output_type": "display_data"
    },
    {
     "data": {
      "image/png": "[encoded data removed]",
      "text/plain": [
       "<Figure size 576x576 with 1 Axes>"
      ]
     },
     "metadata": {
      "needs_background": "light"
     },
     "output_type": "display_data"
    }
   ],
   "source": [
    "# Scatter plot showing the relationship between 'pricepercent', 'winpercent', and 'chocolate'\n",
    "# Your code here\n",
    "plt.figure(figsize=(8,8))\n",
    "sns.scatterplot(x=candy_data[\"sugarpercent\"],y=candy_data[\"winpercent\"],hue=candy_data[\"chocolate\"])\n",
    "# Check your answer\n",
    "step_5.check()"
   ]
  },
  {
   "cell_type": "code",
   "execution_count": 17,
   "id": "aquatic-radius",
   "metadata": {
    "execution": {
     "iopub.execute_input": "2021-06-18T08:03:30.723890Z",
     "iopub.status.busy": "2021-06-18T08:03:30.722800Z",
     "iopub.status.idle": "2021-06-18T08:03:30.726075Z",
     "shell.execute_reply": "2021-06-18T08:03:30.725505Z",
     "shell.execute_reply.started": "2021-06-13T14:14:53.533648Z"
    },
    "papermill": {
     "duration": 0.046798,
     "end_time": "2021-06-18T08:03:30.726261",
     "exception": false,
     "start_time": "2021-06-18T08:03:30.679463",
     "status": "completed"
    },
    "tags": []
   },
   "outputs": [],
   "source": [
    "# Lines below will give you a hint or solution code\n",
    "#step_5.hint()\n",
    "#step_5.solution_plot()"
   ]
  },
  {
   "cell_type": "markdown",
   "id": "proud-deficit",
   "metadata": {
    "papermill": {
     "duration": 0.039411,
     "end_time": "2021-06-18T08:03:30.805160",
     "exception": false,
     "start_time": "2021-06-18T08:03:30.765749",
     "status": "completed"
    },
    "tags": []
   },
   "source": [
    "Can you see any interesting patterns in the scatter plot?  We'll investigate this plot further  by adding regression lines in the next step!\n",
    "\n",
    "## Step 6: Investigate chocolate\n",
    "\n",
    "#### Part A\n",
    "\n",
    "Create the same scatter plot you created in **Step 5**, but now with two regression lines, corresponding to (1) chocolate candies and (2) candies without chocolate."
   ]
  },
  {
   "cell_type": "code",
   "execution_count": 18,
   "id": "authentic-bishop",
   "metadata": {
    "execution": {
     "iopub.execute_input": "2021-06-18T08:03:30.912600Z",
     "iopub.status.busy": "2021-06-18T08:03:30.911621Z",
     "iopub.status.idle": "2021-06-18T08:03:31.507611Z",
     "shell.execute_reply": "2021-06-18T08:03:31.508168Z",
     "shell.execute_reply.started": "2021-06-13T14:15:40.928093Z"
    },
    "papermill": {
     "duration": 0.66344,
     "end_time": "2021-06-18T08:03:31.508392",
     "exception": false,
     "start_time": "2021-06-18T08:03:30.844952",
     "status": "completed"
    },
    "tags": []
   },
   "outputs": [
    {
     "data": {
      "application/javascript": [
       "parent.postMessage({\"jupyterEvent\": \"custom.exercise_interaction\", \"data\": {\"outcomeType\": 1, \"valueTowardsCompletion\": 0.3333333333333333, \"interactionType\": 1, \"questionType\": 2, \"questionId\": \"6.1_PlotColorReg\", \"learnToolsVersion\": \"0.3.4\", \"failureMessage\": \"\", \"exceptionClass\": \"\", \"trace\": \"\"}}, \"*\")"
      ],
      "text/plain": [
       "<IPython.core.display.Javascript object>"
      ]
     },
     "metadata": {},
     "output_type": "display_data"
    },
    {
     "data": {
      "text/markdown": [
       "<span style=\"color:#33cc33\">Correct</span>"
      ],
      "text/plain": [
       "Correct"
      ]
     },
     "metadata": {},
     "output_type": "display_data"
    },
    {
     "data": {
      "image/png": "[encoded data removed]",
      "text/plain": [
       "<Figure size 416.375x360 with 1 Axes>"
      ]
     },
     "metadata": {
      "needs_background": "light"
     },
     "output_type": "display_data"
    }
   ],
   "source": [
    "# Color-coded scatter plot w/ regression lines\n",
    "# Your code here\n",
    "sns.lmplot(x=\"pricepercent\", y=\"winpercent\", hue=\"chocolate\", data=candy_data)\n",
    "# Check your answer\n",
    "step_6.a.check()"
   ]
  },
  {
   "cell_type": "code",
   "execution_count": 19,
   "id": "painful-literacy",
   "metadata": {
    "execution": {
     "iopub.execute_input": "2021-06-18T08:03:31.598580Z",
     "iopub.status.busy": "2021-06-18T08:03:31.597533Z",
     "iopub.status.idle": "2021-06-18T08:03:31.601275Z",
     "shell.execute_reply": "2021-06-18T08:03:31.600603Z",
     "shell.execute_reply.started": "2021-06-13T14:15:51.482267Z"
    },
    "papermill": {
     "duration": 0.050508,
     "end_time": "2021-06-18T08:03:31.601432",
     "exception": false,
     "start_time": "2021-06-18T08:03:31.550924",
     "status": "completed"
    },
    "tags": []
   },
   "outputs": [],
   "source": [
    "# Lines below will give you a hint or solution code\n",
    "#step_6.a.hint()\n",
    "#step_6.a.solution_plot()"
   ]
  },
  {
   "cell_type": "markdown",
   "id": "reduced-dubai",
   "metadata": {
    "papermill": {
     "duration": 0.041014,
     "end_time": "2021-06-18T08:03:31.685202",
     "exception": false,
     "start_time": "2021-06-18T08:03:31.644188",
     "status": "completed"
    },
    "tags": []
   },
   "source": [
    "#### Part B\n",
    "\n",
    "Using the regression lines, what conclusions can you draw about the effects of chocolate and price on candy popularity?"
   ]
  },
  {
   "cell_type": "code",
   "execution_count": 20,
   "id": "renewable-azerbaijan",
   "metadata": {
    "execution": {
     "iopub.execute_input": "2021-06-18T08:03:31.773497Z",
     "iopub.status.busy": "2021-06-18T08:03:31.772842Z",
     "iopub.status.idle": "2021-06-18T08:03:31.776720Z",
     "shell.execute_reply": "2021-06-18T08:03:31.776197Z",
     "shell.execute_reply.started": "2021-06-13T14:16:19.146601Z"
    },
    "papermill": {
     "duration": 0.050116,
     "end_time": "2021-06-18T08:03:31.776931",
     "exception": false,
     "start_time": "2021-06-18T08:03:31.726815",
     "status": "completed"
    },
    "tags": []
   },
   "outputs": [],
   "source": [
    "#step_6.b.hint()"
   ]
  },
  {
   "cell_type": "code",
   "execution_count": 21,
   "id": "sporting-directory",
   "metadata": {
    "execution": {
     "iopub.execute_input": "2021-06-18T08:03:31.867617Z",
     "iopub.status.busy": "2021-06-18T08:03:31.866944Z",
     "iopub.status.idle": "2021-06-18T08:03:31.872372Z",
     "shell.execute_reply": "2021-06-18T08:03:31.871748Z",
     "shell.execute_reply.started": "2021-06-13T14:16:49.011666Z"
    },
    "papermill": {
     "duration": 0.052883,
     "end_time": "2021-06-18T08:03:31.872530",
     "exception": false,
     "start_time": "2021-06-18T08:03:31.819647",
     "status": "completed"
    },
    "tags": []
   },
   "outputs": [
    {
     "data": {
      "application/javascript": [
       "parent.postMessage({\"jupyterEvent\": \"custom.exercise_interaction\", \"data\": {\"interactionType\": 3, \"questionType\": 4, \"questionId\": \"6.2_ThinkColorReg\", \"learnToolsVersion\": \"0.3.4\", \"valueTowardsCompletion\": 0.0, \"failureMessage\": \"\", \"exceptionClass\": \"\", \"trace\": \"\", \"outcomeType\": 4}}, \"*\")"
      ],
      "text/plain": [
       "<IPython.core.display.Javascript object>"
      ]
     },
     "metadata": {},
     "output_type": "display_data"
    },
    {
     "data": {
      "text/markdown": [
       "<span style=\"color:#33cc99\">Solution:</span> We'll begin with the regression line for chocolate candies. Since this line has a slightly positive slope, we can say that more expensive chocolate candies tend to be more popular (than relatively cheaper chocolate candies).  Likewise, since the regression line for candies without chocolate has a negative slope, we can say that if candies don't contain chocolate, they tend to be more popular when they are cheaper.  One important note, however, is that the dataset is quite small -- so we shouldn't invest too much trust in these patterns!  To inspire more confidence in the results, we should add more candies to the dataset."
      ],
      "text/plain": [
       "Solution: We'll begin with the regression line for chocolate candies. Since this line has a slightly positive slope, we can say that more expensive chocolate candies tend to be more popular (than relatively cheaper chocolate candies).  Likewise, since the regression line for candies without chocolate has a negative slope, we can say that if candies don't contain chocolate, they tend to be more popular when they are cheaper.  One important note, however, is that the dataset is quite small -- so we shouldn't invest too much trust in these patterns!  To inspire more confidence in the results, we should add more candies to the dataset."
      ]
     },
     "metadata": {},
     "output_type": "display_data"
    }
   ],
   "source": [
    "# Check your answer (Run this code cell to receive credit!)\n",
    "step_6.b.solution()"
   ]
  },
  {
   "cell_type": "markdown",
   "id": "indonesian-sauce",
   "metadata": {
    "papermill": {
     "duration": 0.041704,
     "end_time": "2021-06-18T08:03:31.956556",
     "exception": false,
     "start_time": "2021-06-18T08:03:31.914852",
     "status": "completed"
    },
    "tags": []
   },
   "source": [
    "## Step 7: Everybody loves chocolate.\n",
    "\n",
    "#### Part A\n",
    "\n",
    "Create a categorical scatter plot to highlight the relationship between `'chocolate'` and `'winpercent'`.  Put `'chocolate'` on the (horizontal) x-axis, and `'winpercent'` on the (vertical) y-axis."
   ]
  },
  {
   "cell_type": "code",
   "execution_count": 22,
   "id": "every-nightlife",
   "metadata": {
    "execution": {
     "iopub.execute_input": "2021-06-18T08:03:32.043767Z",
     "iopub.status.busy": "2021-06-18T08:03:32.043096Z",
     "iopub.status.idle": "2021-06-18T08:03:32.233787Z",
     "shell.execute_reply": "2021-06-18T08:03:32.234347Z",
     "shell.execute_reply.started": "2021-06-13T14:17:48.189373Z"
    },
    "papermill": {
     "duration": 0.236013,
     "end_time": "2021-06-18T08:03:32.234556",
     "exception": false,
     "start_time": "2021-06-18T08:03:31.998543",
     "status": "completed"
    },
    "tags": []
   },
   "outputs": [
    {
     "data": {
      "application/javascript": [
       "parent.postMessage({\"jupyterEvent\": \"custom.exercise_interaction\", \"data\": {\"outcomeType\": 1, \"valueTowardsCompletion\": 0.3333333333333333, \"interactionType\": 1, \"questionType\": 2, \"questionId\": \"7.1_PlotSwarm\", \"learnToolsVersion\": \"0.3.4\", \"failureMessage\": \"\", \"exceptionClass\": \"\", \"trace\": \"\"}}, \"*\")"
      ],
      "text/plain": [
       "<IPython.core.display.Javascript object>"
      ]
     },
     "metadata": {},
     "output_type": "display_data"
    },
    {
     "data": {
      "text/markdown": [
       "<span style=\"color:#33cc33\">Correct</span>"
      ],
      "text/plain": [
       "Correct"
      ]
     },
     "metadata": {},
     "output_type": "display_data"
    },
    {
     "data": {
      "image/png": "[encoded data removed]",
      "text/plain": [
       "<Figure size 432x288 with 1 Axes>"
      ]
     },
     "metadata": {
      "needs_background": "light"
     },
     "output_type": "display_data"
    }
   ],
   "source": [
    "# Scatter plot showing the relationship between 'chocolate' and 'winpercent'\n",
    "# Your code here\n",
    "sns.swarmplot(x=candy_data[\"chocolate\"],y=candy_data[\"winpercent\"])\n",
    "\n",
    "# Check your answer\n",
    "step_7.a.check()"
   ]
  },
  {
   "cell_type": "code",
   "execution_count": 23,
   "id": "loaded-marketing",
   "metadata": {
    "execution": {
     "iopub.execute_input": "2021-06-18T08:03:32.330161Z",
     "iopub.status.busy": "2021-06-18T08:03:32.329430Z",
     "iopub.status.idle": "2021-06-18T08:03:32.332644Z",
     "shell.execute_reply": "2021-06-18T08:03:32.333256Z",
     "shell.execute_reply.started": "2021-06-13T14:18:03.639651Z"
    },
    "papermill": {
     "duration": 0.054394,
     "end_time": "2021-06-18T08:03:32.333468",
     "exception": false,
     "start_time": "2021-06-18T08:03:32.279074",
     "status": "completed"
    },
    "tags": []
   },
   "outputs": [],
   "source": [
    "# Lines below will give you a hint or solution code\n",
    "#step_7.a.hint()\n",
    "#step_7.a.solution_plot()"
   ]
  },
  {
   "cell_type": "markdown",
   "id": "positive-headset",
   "metadata": {
    "papermill": {
     "duration": 0.044877,
     "end_time": "2021-06-18T08:03:32.424208",
     "exception": false,
     "start_time": "2021-06-18T08:03:32.379331",
     "status": "completed"
    },
    "tags": []
   },
   "source": [
    "#### Part B\n",
    "\n",
    "You decide to dedicate a section of your report to the fact that chocolate candies tend to be more popular than candies without chocolate.  Which plot is more appropriate to tell this story: the plot from **Step 6**, or the plot from **Step 7**?"
   ]
  },
  {
   "cell_type": "code",
   "execution_count": 24,
   "id": "practical-academy",
   "metadata": {
    "execution": {
     "iopub.execute_input": "2021-06-18T08:03:32.517889Z",
     "iopub.status.busy": "2021-06-18T08:03:32.517130Z",
     "iopub.status.idle": "2021-06-18T08:03:32.520446Z",
     "shell.execute_reply": "2021-06-18T08:03:32.520980Z",
     "shell.execute_reply.started": "2021-06-13T14:18:34.141438Z"
    },
    "papermill": {
     "duration": 0.052705,
     "end_time": "2021-06-18T08:03:32.521227",
     "exception": false,
     "start_time": "2021-06-18T08:03:32.468522",
     "status": "completed"
    },
    "tags": []
   },
   "outputs": [],
   "source": [
    "#step_7.b.hint()"
   ]
  },
  {
   "cell_type": "code",
   "execution_count": 25,
   "id": "electric-variable",
   "metadata": {
    "execution": {
     "iopub.execute_input": "2021-06-18T08:03:32.614447Z",
     "iopub.status.busy": "2021-06-18T08:03:32.613714Z",
     "iopub.status.idle": "2021-06-18T08:03:32.621038Z",
     "shell.execute_reply": "2021-06-18T08:03:32.620518Z",
     "shell.execute_reply.started": "2021-06-13T14:18:35.059025Z"
    },
    "papermill": {
     "duration": 0.054672,
     "end_time": "2021-06-18T08:03:32.621217",
     "exception": false,
     "start_time": "2021-06-18T08:03:32.566545",
     "status": "completed"
    },
    "tags": []
   },
   "outputs": [
    {
     "data": {
      "application/javascript": [
       "parent.postMessage({\"jupyterEvent\": \"custom.exercise_interaction\", \"data\": {\"interactionType\": 3, \"questionType\": 4, \"questionId\": \"7.2_ThinkSwarm\", \"learnToolsVersion\": \"0.3.4\", \"valueTowardsCompletion\": 0.0, \"failureMessage\": \"\", \"exceptionClass\": \"\", \"trace\": \"\", \"outcomeType\": 4}}, \"*\")"
      ],
      "text/plain": [
       "<IPython.core.display.Javascript object>"
      ]
     },
     "metadata": {},
     "output_type": "display_data"
    },
    {
     "data": {
      "text/markdown": [
       "<span style=\"color:#33cc99\">Solution:</span> In this case, the categorical scatter plot from **Step 7** is the more appropriate plot. While both plots tell the desired story, the plot from **Step 6** conveys far more information that could distract from the main point."
      ],
      "text/plain": [
       "Solution: In this case, the categorical scatter plot from **Step 7** is the more appropriate plot. While both plots tell the desired story, the plot from **Step 6** conveys far more information that could distract from the main point."
      ]
     },
     "metadata": {},
     "output_type": "display_data"
    }
   ],
   "source": [
    "# Check your answer (Run this code cell to receive credit!)\n",
    "step_7.b.solution()"
   ]
  },
  {
   "cell_type": "markdown",
   "id": "stuffed-visit",
   "metadata": {
    "papermill": {
     "duration": 0.044947,
     "end_time": "2021-06-18T08:03:32.712581",
     "exception": false,
     "start_time": "2021-06-18T08:03:32.667634",
     "status": "completed"
    },
    "tags": []
   },
   "source": [
    "## Keep going\n",
    "\n",
    "Explore **[histograms and density plots](https://www.kaggle.com/alexisbcook/distributions)**."
   ]
  },
  {
   "cell_type": "markdown",
   "id": "common-chemistry",
   "metadata": {
    "papermill": {
     "duration": 0.044956,
     "end_time": "2021-06-18T08:03:32.802919",
     "exception": false,
     "start_time": "2021-06-18T08:03:32.757963",
     "status": "completed"
    },
    "tags": []
   },
   "source": [
    "---\n",
    "\n",
    "\n",
    "\n",
    "\n",
    "*Have questions or comments? Visit the [Learn Discussion forum](https://www.kaggle.com/learn-forum/161291) to chat with other Learners.*"
   ]
  }
 ],
 "metadata": {
  "kernelspec": {
   "display_name": "Python 3",
   "language": "python",
   "name": "python3"
  },
  "language_info": {
   "codemirror_mode": {
    "name": "ipython",
    "version": 3
   },
   "file_extension": ".py",
   "mimetype": "text/x-python",
   "name": "python",
   "nbconvert_exporter": "python",
   "pygments_lexer": "ipython3",
   "version": "3.7.9"
  },
  "papermill": {
   "default_parameters": {},
   "duration": 13.098595,
   "end_time": "2021-06-18T08:03:33.560577",
   "environment_variables": {},
   "exception": null,
   "input_path": "__notebook__.ipynb",
   "output_path": "__notebook__.ipynb",
   "parameters": {},
   "start_time": "2021-06-18T08:03:20.461982",
   "version": "2.3.2"
  }
 },
 "nbformat": 4,
 "nbformat_minor": 5
}
