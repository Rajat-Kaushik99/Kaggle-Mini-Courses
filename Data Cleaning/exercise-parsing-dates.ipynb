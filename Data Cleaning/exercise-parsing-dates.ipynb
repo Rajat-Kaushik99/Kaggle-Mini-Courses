{
 "cells": [
  {
   "cell_type": "markdown",
   "id": "fleet-chicken",
   "metadata": {
    "papermill": {
     "duration": 0.024788,
     "end_time": "2021-06-18T07:57:49.140659",
     "exception": false,
     "start_time": "2021-06-18T07:57:49.115871",
     "status": "completed"
    },
    "tags": []
   },
   "source": [
    "**This notebook is an exercise in the [Data Cleaning](https://www.kaggle.com/learn/data-cleaning) course.  You can reference the tutorial at [this link](https://www.kaggle.com/alexisbcook/parsing-dates).**\n",
    "\n",
    "---\n"
   ]
  },
  {
   "cell_type": "markdown",
   "id": "minimal-hopkins",
   "metadata": {
    "papermill": {
     "duration": 0.021351,
     "end_time": "2021-06-18T07:57:49.184522",
     "exception": false,
     "start_time": "2021-06-18T07:57:49.163171",
     "status": "completed"
    },
    "tags": []
   },
   "source": [
    "In this exercise, you'll apply what you learned in the **Parsing dates** tutorial.\n",
    "\n",
    "# Setup\n",
    "\n",
    "The questions below will give you feedback on your work. Run the following cell to set up the feedback system."
   ]
  },
  {
   "cell_type": "code",
   "execution_count": 1,
   "id": "specific-spanish",
   "metadata": {
    "execution": {
     "iopub.execute_input": "2021-06-18T07:57:49.234226Z",
     "iopub.status.busy": "2021-06-18T07:57:49.233460Z",
     "iopub.status.idle": "2021-06-18T07:57:50.384626Z",
     "shell.execute_reply": "2021-06-18T07:57:50.383960Z",
     "shell.execute_reply.started": "2021-06-18T07:41:17.037306Z"
    },
    "papermill": {
     "duration": 1.178263,
     "end_time": "2021-06-18T07:57:50.384827",
     "exception": false,
     "start_time": "2021-06-18T07:57:49.206564",
     "status": "completed"
    },
    "tags": []
   },
   "outputs": [
    {
     "name": "stdout",
     "output_type": "stream",
     "text": [
      "Setup Complete\n"
     ]
    }
   ],
   "source": [
    "from learntools.core import binder\n",
    "binder.bind(globals())\n",
    "from learntools.data_cleaning.ex3 import *\n",
    "print(\"Setup Complete\")"
   ]
  },
  {
   "cell_type": "markdown",
   "id": "powered-omaha",
   "metadata": {
    "papermill": {
     "duration": 0.022986,
     "end_time": "2021-06-18T07:57:50.430361",
     "exception": false,
     "start_time": "2021-06-18T07:57:50.407375",
     "status": "completed"
    },
    "tags": []
   },
   "source": [
    "# Get our environment set up\n",
    "\n",
    "The first thing we'll need to do is load in the libraries and dataset we'll be using. We'll be working with a dataset containing information on earthquakes that occured between 1965 and 2016."
   ]
  },
  {
   "cell_type": "code",
   "execution_count": 2,
   "id": "decimal-water",
   "metadata": {
    "execution": {
     "iopub.execute_input": "2021-06-18T07:57:50.480554Z",
     "iopub.status.busy": "2021-06-18T07:57:50.479492Z",
     "iopub.status.idle": "2021-06-18T07:57:50.570957Z",
     "shell.execute_reply": "2021-06-18T07:57:50.570233Z",
     "shell.execute_reply.started": "2021-06-18T07:41:18.211941Z"
    },
    "papermill": {
     "duration": 0.118638,
     "end_time": "2021-06-18T07:57:50.571115",
     "exception": false,
     "start_time": "2021-06-18T07:57:50.452477",
     "status": "completed"
    },
    "tags": []
   },
   "outputs": [],
   "source": [
    "# modules we'll use\n",
    "import pandas as pd\n",
    "import numpy as np\n",
    "import seaborn as sns\n",
    "import datetime\n",
    "\n",
    "# read in our data\n",
    "earthquakes = pd.read_csv(\"../input/earthquake-database/database.csv\")\n",
    "\n",
    "# set seed for reproducibility\n",
    "np.random.seed(0)"
   ]
  },
  {
   "cell_type": "markdown",
   "id": "universal-occupation",
   "metadata": {
    "papermill": {
     "duration": 0.021816,
     "end_time": "2021-06-18T07:57:50.615158",
     "exception": false,
     "start_time": "2021-06-18T07:57:50.593342",
     "status": "completed"
    },
    "tags": []
   },
   "source": [
    "# 1) Check the data type of our date column\n",
    "\n",
    "You'll be working with the \"Date\" column from the `earthquakes` dataframe.  Investigate this column now: does it look like it contains dates?  What is the dtype of the column?"
   ]
  },
  {
   "cell_type": "code",
   "execution_count": 3,
   "id": "broadband-council",
   "metadata": {
    "execution": {
     "iopub.execute_input": "2021-06-18T07:57:50.670279Z",
     "iopub.status.busy": "2021-06-18T07:57:50.669313Z",
     "iopub.status.idle": "2021-06-18T07:57:50.673715Z",
     "shell.execute_reply": "2021-06-18T07:57:50.674206Z",
     "shell.execute_reply.started": "2021-06-18T07:41:18.30406Z"
    },
    "papermill": {
     "duration": 0.036303,
     "end_time": "2021-06-18T07:57:50.674374",
     "exception": false,
     "start_time": "2021-06-18T07:57:50.638071",
     "status": "completed"
    },
    "tags": []
   },
   "outputs": [
    {
     "data": {
      "text/plain": [
       "0    01/02/1965\n",
       "1    01/04/1965\n",
       "2    01/05/1965\n",
       "3    01/08/1965\n",
       "4    01/09/1965\n",
       "Name: Date, dtype: object"
      ]
     },
     "execution_count": 3,
     "metadata": {},
     "output_type": "execute_result"
    }
   ],
   "source": [
    "# TODO: Your code here!\n",
    "earthquakes[\"Date\"].head()\n"
   ]
  },
  {
   "cell_type": "markdown",
   "id": "attached-equality",
   "metadata": {
    "papermill": {
     "duration": 0.022229,
     "end_time": "2021-06-18T07:57:50.719170",
     "exception": false,
     "start_time": "2021-06-18T07:57:50.696941",
     "status": "completed"
    },
    "tags": []
   },
   "source": [
    "Once you have answered the question above, run the code cell below to get credit for your work."
   ]
  },
  {
   "cell_type": "code",
   "execution_count": 4,
   "id": "extensive-highway",
   "metadata": {
    "execution": {
     "iopub.execute_input": "2021-06-18T07:57:50.769229Z",
     "iopub.status.busy": "2021-06-18T07:57:50.768525Z",
     "iopub.status.idle": "2021-06-18T07:57:50.773904Z",
     "shell.execute_reply": "2021-06-18T07:57:50.773287Z",
     "shell.execute_reply.started": "2021-06-18T07:41:18.315459Z"
    },
    "papermill": {
     "duration": 0.032227,
     "end_time": "2021-06-18T07:57:50.774043",
     "exception": false,
     "start_time": "2021-06-18T07:57:50.741816",
     "status": "completed"
    },
    "tags": []
   },
   "outputs": [
    {
     "data": {
      "application/javascript": [
       "parent.postMessage({\"jupyterEvent\": \"custom.exercise_interaction\", \"data\": {\"outcomeType\": 1, \"valueTowardsCompletion\": 0.25, \"interactionType\": 1, \"questionType\": 4, \"questionId\": \"1_CheckDtype\", \"learnToolsVersion\": \"0.3.4\", \"failureMessage\": \"\", \"exceptionClass\": \"\", \"trace\": \"\"}}, \"*\")"
      ],
      "text/plain": [
       "<IPython.core.display.Javascript object>"
      ]
     },
     "metadata": {},
     "output_type": "display_data"
    },
    {
     "data": {
      "text/markdown": [
       "<span style=\"color:#33cc33\">Correct:</span> \n",
       "\n",
       "The \"Date\" column in the `earthquakes` DataFrame does have dates.  The dtype is \"object\"."
      ],
      "text/plain": [
       "Correct: \n",
       "\n",
       "The \"Date\" column in the `earthquakes` DataFrame does have dates.  The dtype is \"object\"."
      ]
     },
     "metadata": {},
     "output_type": "display_data"
    }
   ],
   "source": [
    "# Check your answer (Run this code cell to receive credit!)\n",
    "q1.check()"
   ]
  },
  {
   "cell_type": "code",
   "execution_count": 5,
   "id": "balanced-tribune",
   "metadata": {
    "execution": {
     "iopub.execute_input": "2021-06-18T07:57:50.824389Z",
     "iopub.status.busy": "2021-06-18T07:57:50.823772Z",
     "iopub.status.idle": "2021-06-18T07:57:50.826476Z",
     "shell.execute_reply": "2021-06-18T07:57:50.826939Z",
     "shell.execute_reply.started": "2021-06-18T07:41:18.3294Z"
    },
    "papermill": {
     "duration": 0.029682,
     "end_time": "2021-06-18T07:57:50.827109",
     "exception": false,
     "start_time": "2021-06-18T07:57:50.797427",
     "status": "completed"
    },
    "tags": []
   },
   "outputs": [],
   "source": [
    "# Line below will give you a hint\n",
    "#q1.hint()"
   ]
  },
  {
   "cell_type": "markdown",
   "id": "incident-corporation",
   "metadata": {
    "papermill": {
     "duration": 0.023832,
     "end_time": "2021-06-18T07:57:50.874823",
     "exception": false,
     "start_time": "2021-06-18T07:57:50.850991",
     "status": "completed"
    },
    "tags": []
   },
   "source": [
    "# 2) Convert our date columns to datetime\n",
    "\n",
    "Most of the entries in the \"Date\" column follow the same format: \"month/day/four-digit year\".  However, the entry at index 3378 follows a completely different pattern.  Run the code cell below to see this."
   ]
  },
  {
   "cell_type": "code",
   "execution_count": 6,
   "id": "sophisticated-salad",
   "metadata": {
    "execution": {
     "iopub.execute_input": "2021-06-18T07:57:50.925207Z",
     "iopub.status.busy": "2021-06-18T07:57:50.924568Z",
     "iopub.status.idle": "2021-06-18T07:57:50.957929Z",
     "shell.execute_reply": "2021-06-18T07:57:50.958406Z",
     "shell.execute_reply.started": "2021-06-18T07:41:18.34013Z"
    },
    "papermill": {
     "duration": 0.060225,
     "end_time": "2021-06-18T07:57:50.958595",
     "exception": false,
     "start_time": "2021-06-18T07:57:50.898370",
     "status": "completed"
    },
    "tags": []
   },
   "outputs": [
    {
     "data": {
      "text/html": [
       "<div>\n",
       "<style scoped>\n",
       "    .dataframe tbody tr th:only-of-type {\n",
       "        vertical-align: middle;\n",
       "    }\n",
       "\n",
       "    .dataframe tbody tr th {\n",
       "        vertical-align: top;\n",
       "    }\n",
       "\n",
       "    .dataframe thead th {\n",
       "        text-align: right;\n",
       "    }\n",
       "</style>\n",
       "<table border=\"1\" class=\"dataframe\">\n",
       "  <thead>\n",
       "    <tr style=\"text-align: right;\">\n",
       "      <th></th>\n",
       "      <th>Date</th>\n",
       "      <th>Time</th>\n",
       "      <th>Latitude</th>\n",
       "      <th>Longitude</th>\n",
       "      <th>Type</th>\n",
       "      <th>Depth</th>\n",
       "      <th>Depth Error</th>\n",
       "      <th>Depth Seismic Stations</th>\n",
       "      <th>Magnitude</th>\n",
       "      <th>Magnitude Type</th>\n",
       "      <th>...</th>\n",
       "      <th>Magnitude Seismic Stations</th>\n",
       "      <th>Azimuthal Gap</th>\n",
       "      <th>Horizontal Distance</th>\n",
       "      <th>Horizontal Error</th>\n",
       "      <th>Root Mean Square</th>\n",
       "      <th>ID</th>\n",
       "      <th>Source</th>\n",
       "      <th>Location Source</th>\n",
       "      <th>Magnitude Source</th>\n",
       "      <th>Status</th>\n",
       "    </tr>\n",
       "  </thead>\n",
       "  <tbody>\n",
       "    <tr>\n",
       "      <th>3378</th>\n",
       "      <td>1975-02-23T02:58:41.000Z</td>\n",
       "      <td>1975-02-23T02:58:41.000Z</td>\n",
       "      <td>8.017</td>\n",
       "      <td>124.075</td>\n",
       "      <td>Earthquake</td>\n",
       "      <td>623.0</td>\n",
       "      <td>NaN</td>\n",
       "      <td>NaN</td>\n",
       "      <td>5.6</td>\n",
       "      <td>MB</td>\n",
       "      <td>...</td>\n",
       "      <td>NaN</td>\n",
       "      <td>NaN</td>\n",
       "      <td>NaN</td>\n",
       "      <td>NaN</td>\n",
       "      <td>NaN</td>\n",
       "      <td>USP0000A09</td>\n",
       "      <td>US</td>\n",
       "      <td>US</td>\n",
       "      <td>US</td>\n",
       "      <td>Reviewed</td>\n",
       "    </tr>\n",
       "    <tr>\n",
       "      <th>3379</th>\n",
       "      <td>02/23/1975</td>\n",
       "      <td>03:53:36</td>\n",
       "      <td>-21.727</td>\n",
       "      <td>-71.356</td>\n",
       "      <td>Earthquake</td>\n",
       "      <td>33.0</td>\n",
       "      <td>NaN</td>\n",
       "      <td>NaN</td>\n",
       "      <td>5.6</td>\n",
       "      <td>MB</td>\n",
       "      <td>...</td>\n",
       "      <td>NaN</td>\n",
       "      <td>NaN</td>\n",
       "      <td>NaN</td>\n",
       "      <td>NaN</td>\n",
       "      <td>NaN</td>\n",
       "      <td>USP0000A0A</td>\n",
       "      <td>US</td>\n",
       "      <td>US</td>\n",
       "      <td>US</td>\n",
       "      <td>Reviewed</td>\n",
       "    </tr>\n",
       "    <tr>\n",
       "      <th>3380</th>\n",
       "      <td>02/23/1975</td>\n",
       "      <td>07:34:11</td>\n",
       "      <td>-10.879</td>\n",
       "      <td>166.667</td>\n",
       "      <td>Earthquake</td>\n",
       "      <td>33.0</td>\n",
       "      <td>NaN</td>\n",
       "      <td>NaN</td>\n",
       "      <td>5.5</td>\n",
       "      <td>MS</td>\n",
       "      <td>...</td>\n",
       "      <td>NaN</td>\n",
       "      <td>NaN</td>\n",
       "      <td>NaN</td>\n",
       "      <td>NaN</td>\n",
       "      <td>NaN</td>\n",
       "      <td>USP0000A0C</td>\n",
       "      <td>US</td>\n",
       "      <td>US</td>\n",
       "      <td>US</td>\n",
       "      <td>Reviewed</td>\n",
       "    </tr>\n",
       "    <tr>\n",
       "      <th>3381</th>\n",
       "      <td>02/25/1975</td>\n",
       "      <td>05:20:05</td>\n",
       "      <td>-7.388</td>\n",
       "      <td>149.798</td>\n",
       "      <td>Earthquake</td>\n",
       "      <td>33.0</td>\n",
       "      <td>NaN</td>\n",
       "      <td>NaN</td>\n",
       "      <td>5.5</td>\n",
       "      <td>MB</td>\n",
       "      <td>...</td>\n",
       "      <td>NaN</td>\n",
       "      <td>NaN</td>\n",
       "      <td>NaN</td>\n",
       "      <td>NaN</td>\n",
       "      <td>NaN</td>\n",
       "      <td>USP0000A12</td>\n",
       "      <td>US</td>\n",
       "      <td>US</td>\n",
       "      <td>US</td>\n",
       "      <td>Reviewed</td>\n",
       "    </tr>\n",
       "    <tr>\n",
       "      <th>3382</th>\n",
       "      <td>02/26/1975</td>\n",
       "      <td>04:48:55</td>\n",
       "      <td>85.047</td>\n",
       "      <td>97.969</td>\n",
       "      <td>Earthquake</td>\n",
       "      <td>33.0</td>\n",
       "      <td>NaN</td>\n",
       "      <td>NaN</td>\n",
       "      <td>5.6</td>\n",
       "      <td>MS</td>\n",
       "      <td>...</td>\n",
       "      <td>NaN</td>\n",
       "      <td>NaN</td>\n",
       "      <td>NaN</td>\n",
       "      <td>NaN</td>\n",
       "      <td>NaN</td>\n",
       "      <td>USP0000A1H</td>\n",
       "      <td>US</td>\n",
       "      <td>US</td>\n",
       "      <td>US</td>\n",
       "      <td>Reviewed</td>\n",
       "    </tr>\n",
       "  </tbody>\n",
       "</table>\n",
       "<p>5 rows × 21 columns</p>\n",
       "</div>"
      ],
      "text/plain": [
       "                          Date                      Time  Latitude  Longitude  \\\n",
       "3378  1975-02-23T02:58:41.000Z  1975-02-23T02:58:41.000Z     8.017    124.075   \n",
       "3379                02/23/1975                  03:53:36   -21.727    -71.356   \n",
       "3380                02/23/1975                  07:34:11   -10.879    166.667   \n",
       "3381                02/25/1975                  05:20:05    -7.388    149.798   \n",
       "3382                02/26/1975                  04:48:55    85.047     97.969   \n",
       "\n",
       "            Type  Depth  Depth Error  Depth Seismic Stations  Magnitude  \\\n",
       "3378  Earthquake  623.0          NaN                     NaN        5.6   \n",
       "3379  Earthquake   33.0          NaN                     NaN        5.6   \n",
       "3380  Earthquake   33.0          NaN                     NaN        5.5   \n",
       "3381  Earthquake   33.0          NaN                     NaN        5.5   \n",
       "3382  Earthquake   33.0          NaN                     NaN        5.6   \n",
       "\n",
       "     Magnitude Type  ...  Magnitude Seismic Stations  Azimuthal Gap  \\\n",
       "3378             MB  ...                         NaN            NaN   \n",
       "3379             MB  ...                         NaN            NaN   \n",
       "3380             MS  ...                         NaN            NaN   \n",
       "3381             MB  ...                         NaN            NaN   \n",
       "3382             MS  ...                         NaN            NaN   \n",
       "\n",
       "      Horizontal Distance  Horizontal Error  Root Mean Square          ID  \\\n",
       "3378                  NaN               NaN               NaN  USP0000A09   \n",
       "3379                  NaN               NaN               NaN  USP0000A0A   \n",
       "3380                  NaN               NaN               NaN  USP0000A0C   \n",
       "3381                  NaN               NaN               NaN  USP0000A12   \n",
       "3382                  NaN               NaN               NaN  USP0000A1H   \n",
       "\n",
       "     Source Location Source Magnitude Source    Status  \n",
       "3378     US              US               US  Reviewed  \n",
       "3379     US              US               US  Reviewed  \n",
       "3380     US              US               US  Reviewed  \n",
       "3381     US              US               US  Reviewed  \n",
       "3382     US              US               US  Reviewed  \n",
       "\n",
       "[5 rows x 21 columns]"
      ]
     },
     "execution_count": 6,
     "metadata": {},
     "output_type": "execute_result"
    }
   ],
   "source": [
    "earthquakes[3378:3383]"
   ]
  },
  {
   "cell_type": "markdown",
   "id": "isolated-pattern",
   "metadata": {
    "papermill": {
     "duration": 0.025232,
     "end_time": "2021-06-18T07:57:51.008107",
     "exception": false,
     "start_time": "2021-06-18T07:57:50.982875",
     "status": "completed"
    },
    "tags": []
   },
   "source": [
    "This does appear to be an issue with data entry: ideally, all entries in the column have the same format.  We can get an idea of how widespread this issue is by checking the length of each entry in the \"Date\" column."
   ]
  },
  {
   "cell_type": "code",
   "execution_count": 7,
   "id": "worth-portfolio",
   "metadata": {
    "execution": {
     "iopub.execute_input": "2021-06-18T07:57:51.064207Z",
     "iopub.status.busy": "2021-06-18T07:57:51.063558Z",
     "iopub.status.idle": "2021-06-18T07:57:51.090579Z",
     "shell.execute_reply": "2021-06-18T07:57:51.091056Z",
     "shell.execute_reply.started": "2021-06-18T07:41:18.386129Z"
    },
    "papermill": {
     "duration": 0.05698,
     "end_time": "2021-06-18T07:57:51.091239",
     "exception": false,
     "start_time": "2021-06-18T07:57:51.034259",
     "status": "completed"
    },
    "tags": []
   },
   "outputs": [
    {
     "data": {
      "text/plain": [
       "10    23409\n",
       "24        3\n",
       "Name: Date, dtype: int64"
      ]
     },
     "execution_count": 7,
     "metadata": {},
     "output_type": "execute_result"
    }
   ],
   "source": [
    "date_lengths = earthquakes.Date.str.len()\n",
    "date_lengths.value_counts()"
   ]
  },
  {
   "cell_type": "markdown",
   "id": "photographic-savings",
   "metadata": {
    "papermill": {
     "duration": 0.024247,
     "end_time": "2021-06-18T07:57:51.139853",
     "exception": false,
     "start_time": "2021-06-18T07:57:51.115606",
     "status": "completed"
    },
    "tags": []
   },
   "source": [
    "Looks like there are two more rows that has a date in a different format.  Run the code cell below to obtain the indices corresponding to those rows and print the data."
   ]
  },
  {
   "cell_type": "code",
   "execution_count": 8,
   "id": "inside-colombia",
   "metadata": {
    "execution": {
     "iopub.execute_input": "2021-06-18T07:57:51.194306Z",
     "iopub.status.busy": "2021-06-18T07:57:51.193560Z",
     "iopub.status.idle": "2021-06-18T07:57:51.242012Z",
     "shell.execute_reply": "2021-06-18T07:57:51.241326Z",
     "shell.execute_reply.started": "2021-06-18T07:41:18.420718Z"
    },
    "papermill": {
     "duration": 0.07791,
     "end_time": "2021-06-18T07:57:51.242166",
     "exception": false,
     "start_time": "2021-06-18T07:57:51.164256",
     "status": "completed"
    },
    "tags": []
   },
   "outputs": [
    {
     "name": "stdout",
     "output_type": "stream",
     "text": [
      "Indices with corrupted data: [ 3378  7512 20650]\n"
     ]
    },
    {
     "data": {
      "text/html": [
       "<div>\n",
       "<style scoped>\n",
       "    .dataframe tbody tr th:only-of-type {\n",
       "        vertical-align: middle;\n",
       "    }\n",
       "\n",
       "    .dataframe tbody tr th {\n",
       "        vertical-align: top;\n",
       "    }\n",
       "\n",
       "    .dataframe thead th {\n",
       "        text-align: right;\n",
       "    }\n",
       "</style>\n",
       "<table border=\"1\" class=\"dataframe\">\n",
       "  <thead>\n",
       "    <tr style=\"text-align: right;\">\n",
       "      <th></th>\n",
       "      <th>Date</th>\n",
       "      <th>Time</th>\n",
       "      <th>Latitude</th>\n",
       "      <th>Longitude</th>\n",
       "      <th>Type</th>\n",
       "      <th>Depth</th>\n",
       "      <th>Depth Error</th>\n",
       "      <th>Depth Seismic Stations</th>\n",
       "      <th>Magnitude</th>\n",
       "      <th>Magnitude Type</th>\n",
       "      <th>...</th>\n",
       "      <th>Magnitude Seismic Stations</th>\n",
       "      <th>Azimuthal Gap</th>\n",
       "      <th>Horizontal Distance</th>\n",
       "      <th>Horizontal Error</th>\n",
       "      <th>Root Mean Square</th>\n",
       "      <th>ID</th>\n",
       "      <th>Source</th>\n",
       "      <th>Location Source</th>\n",
       "      <th>Magnitude Source</th>\n",
       "      <th>Status</th>\n",
       "    </tr>\n",
       "  </thead>\n",
       "  <tbody>\n",
       "    <tr>\n",
       "      <th>3378</th>\n",
       "      <td>1975-02-23T02:58:41.000Z</td>\n",
       "      <td>1975-02-23T02:58:41.000Z</td>\n",
       "      <td>8.017</td>\n",
       "      <td>124.075</td>\n",
       "      <td>Earthquake</td>\n",
       "      <td>623.0</td>\n",
       "      <td>NaN</td>\n",
       "      <td>NaN</td>\n",
       "      <td>5.6</td>\n",
       "      <td>MB</td>\n",
       "      <td>...</td>\n",
       "      <td>NaN</td>\n",
       "      <td>NaN</td>\n",
       "      <td>NaN</td>\n",
       "      <td>NaN</td>\n",
       "      <td>NaN</td>\n",
       "      <td>USP0000A09</td>\n",
       "      <td>US</td>\n",
       "      <td>US</td>\n",
       "      <td>US</td>\n",
       "      <td>Reviewed</td>\n",
       "    </tr>\n",
       "    <tr>\n",
       "      <th>7512</th>\n",
       "      <td>1985-04-28T02:53:41.530Z</td>\n",
       "      <td>1985-04-28T02:53:41.530Z</td>\n",
       "      <td>-32.998</td>\n",
       "      <td>-71.766</td>\n",
       "      <td>Earthquake</td>\n",
       "      <td>33.0</td>\n",
       "      <td>NaN</td>\n",
       "      <td>NaN</td>\n",
       "      <td>5.6</td>\n",
       "      <td>MW</td>\n",
       "      <td>...</td>\n",
       "      <td>NaN</td>\n",
       "      <td>NaN</td>\n",
       "      <td>NaN</td>\n",
       "      <td>NaN</td>\n",
       "      <td>1.30</td>\n",
       "      <td>USP0002E81</td>\n",
       "      <td>US</td>\n",
       "      <td>US</td>\n",
       "      <td>HRV</td>\n",
       "      <td>Reviewed</td>\n",
       "    </tr>\n",
       "    <tr>\n",
       "      <th>20650</th>\n",
       "      <td>2011-03-13T02:23:34.520Z</td>\n",
       "      <td>2011-03-13T02:23:34.520Z</td>\n",
       "      <td>36.344</td>\n",
       "      <td>142.344</td>\n",
       "      <td>Earthquake</td>\n",
       "      <td>10.1</td>\n",
       "      <td>13.9</td>\n",
       "      <td>289.0</td>\n",
       "      <td>5.8</td>\n",
       "      <td>MWC</td>\n",
       "      <td>...</td>\n",
       "      <td>NaN</td>\n",
       "      <td>32.3</td>\n",
       "      <td>NaN</td>\n",
       "      <td>NaN</td>\n",
       "      <td>1.06</td>\n",
       "      <td>USP000HWQP</td>\n",
       "      <td>US</td>\n",
       "      <td>US</td>\n",
       "      <td>GCMT</td>\n",
       "      <td>Reviewed</td>\n",
       "    </tr>\n",
       "  </tbody>\n",
       "</table>\n",
       "<p>3 rows × 21 columns</p>\n",
       "</div>"
      ],
      "text/plain": [
       "                           Date                      Time  Latitude  \\\n",
       "3378   1975-02-23T02:58:41.000Z  1975-02-23T02:58:41.000Z     8.017   \n",
       "7512   1985-04-28T02:53:41.530Z  1985-04-28T02:53:41.530Z   -32.998   \n",
       "20650  2011-03-13T02:23:34.520Z  2011-03-13T02:23:34.520Z    36.344   \n",
       "\n",
       "       Longitude        Type  Depth  Depth Error  Depth Seismic Stations  \\\n",
       "3378     124.075  Earthquake  623.0          NaN                     NaN   \n",
       "7512     -71.766  Earthquake   33.0          NaN                     NaN   \n",
       "20650    142.344  Earthquake   10.1         13.9                   289.0   \n",
       "\n",
       "       Magnitude Magnitude Type  ...  Magnitude Seismic Stations  \\\n",
       "3378         5.6             MB  ...                         NaN   \n",
       "7512         5.6             MW  ...                         NaN   \n",
       "20650        5.8            MWC  ...                         NaN   \n",
       "\n",
       "       Azimuthal Gap  Horizontal Distance  Horizontal Error  Root Mean Square  \\\n",
       "3378             NaN                  NaN               NaN               NaN   \n",
       "7512             NaN                  NaN               NaN              1.30   \n",
       "20650           32.3                  NaN               NaN              1.06   \n",
       "\n",
       "               ID Source Location Source Magnitude Source    Status  \n",
       "3378   USP0000A09     US              US               US  Reviewed  \n",
       "7512   USP0002E81     US              US              HRV  Reviewed  \n",
       "20650  USP000HWQP     US              US             GCMT  Reviewed  \n",
       "\n",
       "[3 rows x 21 columns]"
      ]
     },
     "execution_count": 8,
     "metadata": {},
     "output_type": "execute_result"
    }
   ],
   "source": [
    "indices = np.where([date_lengths == 24])[1]\n",
    "print('Indices with corrupted data:', indices)\n",
    "earthquakes.loc[indices]"
   ]
  },
  {
   "cell_type": "markdown",
   "id": "lonely-hands",
   "metadata": {
    "papermill": {
     "duration": 0.024906,
     "end_time": "2021-06-18T07:57:51.292772",
     "exception": false,
     "start_time": "2021-06-18T07:57:51.267866",
     "status": "completed"
    },
    "tags": []
   },
   "source": [
    "Given all of this information, it's your turn to create a new column \"date_parsed\" in the `earthquakes` dataset that has correctly parsed dates in it.  \n",
    "\n",
    "**Note**: When completing this problem, you are allowed to (but are not required to) amend the entries in the \"Date\" and \"Time\" columns.  Do not remove any rows from the dataset."
   ]
  },
  {
   "cell_type": "code",
   "execution_count": 9,
   "id": "respective-workplace",
   "metadata": {
    "execution": {
     "iopub.execute_input": "2021-06-18T07:57:51.353632Z",
     "iopub.status.busy": "2021-06-18T07:57:51.349295Z",
     "iopub.status.idle": "2021-06-18T07:57:51.418934Z",
     "shell.execute_reply": "2021-06-18T07:57:51.418297Z",
     "shell.execute_reply.started": "2021-06-18T07:41:18.477979Z"
    },
    "papermill": {
     "duration": 0.101104,
     "end_time": "2021-06-18T07:57:51.419069",
     "exception": false,
     "start_time": "2021-06-18T07:57:51.317965",
     "status": "completed"
    },
    "tags": []
   },
   "outputs": [
    {
     "data": {
      "application/javascript": [
       "parent.postMessage({\"jupyterEvent\": \"custom.exercise_interaction\", \"data\": {\"outcomeType\": 1, \"valueTowardsCompletion\": 0.25, \"interactionType\": 1, \"questionType\": 2, \"questionId\": \"2_ConvertToDatetime\", \"learnToolsVersion\": \"0.3.4\", \"failureMessage\": \"\", \"exceptionClass\": \"\", \"trace\": \"\"}}, \"*\")"
      ],
      "text/plain": [
       "<IPython.core.display.Javascript object>"
      ]
     },
     "metadata": {},
     "output_type": "display_data"
    },
    {
     "data": {
      "text/markdown": [
       "<span style=\"color:#33cc33\">Correct</span>"
      ],
      "text/plain": [
       "Correct"
      ]
     },
     "metadata": {},
     "output_type": "display_data"
    }
   ],
   "source": [
    "# TODO: Your code here\n",
    "earthquakes.loc[3378, \"Date\"] = \"02/23/1975\"\n",
    "earthquakes.loc[7512,\"Date\"]=\"04/28/1985\"\n",
    "earthquakes.loc[20650,\"Date\"]=\"03/13/2011\"\n",
    "\n",
    "earthquakes[\"date_parsed\"]=pd.to_datetime(earthquakes[\"Date\"], format=\"%m/%d/%Y\")\n",
    "# Check your answer\n",
    "q2.check()"
   ]
  },
  {
   "cell_type": "code",
   "execution_count": 10,
   "id": "living-psychology",
   "metadata": {
    "execution": {
     "iopub.execute_input": "2021-06-18T07:57:51.475922Z",
     "iopub.status.busy": "2021-06-18T07:57:51.475300Z",
     "iopub.status.idle": "2021-06-18T07:57:51.478408Z",
     "shell.execute_reply": "2021-06-18T07:57:51.477774Z",
     "shell.execute_reply.started": "2021-06-18T07:41:18.551475Z"
    },
    "papermill": {
     "duration": 0.033189,
     "end_time": "2021-06-18T07:57:51.478544",
     "exception": false,
     "start_time": "2021-06-18T07:57:51.445355",
     "status": "completed"
    },
    "tags": []
   },
   "outputs": [],
   "source": [
    "# Lines below will give you a hint or solution code\n",
    "#q2.hint()\n",
    "#q2.solution()"
   ]
  },
  {
   "cell_type": "markdown",
   "id": "marked-consumer",
   "metadata": {
    "papermill": {
     "duration": 0.025865,
     "end_time": "2021-06-18T07:57:51.530846",
     "exception": false,
     "start_time": "2021-06-18T07:57:51.504981",
     "status": "completed"
    },
    "tags": []
   },
   "source": [
    "# 3) Select the day of the month\n",
    "\n",
    "Create a Pandas Series `day_of_month_earthquakes` containing the day of the month from the \"date_parsed\" column."
   ]
  },
  {
   "cell_type": "code",
   "execution_count": 11,
   "id": "secret-expression",
   "metadata": {
    "execution": {
     "iopub.execute_input": "2021-06-18T07:57:51.591394Z",
     "iopub.status.busy": "2021-06-18T07:57:51.590420Z",
     "iopub.status.idle": "2021-06-18T07:57:51.602882Z",
     "shell.execute_reply": "2021-06-18T07:57:51.602089Z",
     "shell.execute_reply.started": "2021-06-18T07:41:18.556791Z"
    },
    "papermill": {
     "duration": 0.046081,
     "end_time": "2021-06-18T07:57:51.603082",
     "exception": false,
     "start_time": "2021-06-18T07:57:51.557001",
     "status": "completed"
    },
    "tags": []
   },
   "outputs": [
    {
     "data": {
      "application/javascript": [
       "parent.postMessage({\"jupyterEvent\": \"custom.exercise_interaction\", \"data\": {\"outcomeType\": 1, \"valueTowardsCompletion\": 0.25, \"interactionType\": 1, \"questionType\": 1, \"questionId\": \"3_DayOfMonth\", \"learnToolsVersion\": \"0.3.4\", \"failureMessage\": \"\", \"exceptionClass\": \"\", \"trace\": \"\"}}, \"*\")"
      ],
      "text/plain": [
       "<IPython.core.display.Javascript object>"
      ]
     },
     "metadata": {},
     "output_type": "display_data"
    },
    {
     "data": {
      "text/markdown": [
       "<span style=\"color:#33cc33\">Correct</span>"
      ],
      "text/plain": [
       "Correct"
      ]
     },
     "metadata": {},
     "output_type": "display_data"
    }
   ],
   "source": [
    "# try to get the day of the month from the date column\n",
    "day_of_month_earthquakes = earthquakes[\"date_parsed\"].dt.day\n",
    "\n",
    "# Check your answer\n",
    "q3.check()"
   ]
  },
  {
   "cell_type": "code",
   "execution_count": 12,
   "id": "emerging-george",
   "metadata": {
    "execution": {
     "iopub.execute_input": "2021-06-18T07:57:51.676778Z",
     "iopub.status.busy": "2021-06-18T07:57:51.675785Z",
     "iopub.status.idle": "2021-06-18T07:57:51.679123Z",
     "shell.execute_reply": "2021-06-18T07:57:51.678615Z",
     "shell.execute_reply.started": "2021-06-18T07:41:18.577754Z"
    },
    "papermill": {
     "duration": 0.040539,
     "end_time": "2021-06-18T07:57:51.679263",
     "exception": false,
     "start_time": "2021-06-18T07:57:51.638724",
     "status": "completed"
    },
    "tags": []
   },
   "outputs": [],
   "source": [
    "# Lines below will give you a hint or solution code\n",
    "#q3.hint()\n",
    "#q3.solution()"
   ]
  },
  {
   "cell_type": "markdown",
   "id": "exterior-warehouse",
   "metadata": {
    "papermill": {
     "duration": 0.026908,
     "end_time": "2021-06-18T07:57:51.733290",
     "exception": false,
     "start_time": "2021-06-18T07:57:51.706382",
     "status": "completed"
    },
    "tags": []
   },
   "source": [
    "# 4) Plot the day of the month to check the date parsing\n",
    "\n",
    "Plot the days of the month from your earthquake dataset."
   ]
  },
  {
   "cell_type": "code",
   "execution_count": 13,
   "id": "unauthorized-avenue",
   "metadata": {
    "execution": {
     "iopub.execute_input": "2021-06-18T07:57:51.793230Z",
     "iopub.status.busy": "2021-06-18T07:57:51.792508Z",
     "iopub.status.idle": "2021-06-18T07:57:52.033120Z",
     "shell.execute_reply": "2021-06-18T07:57:52.032458Z",
     "shell.execute_reply.started": "2021-06-18T07:41:18.583703Z"
    },
    "papermill": {
     "duration": 0.272816,
     "end_time": "2021-06-18T07:57:52.033256",
     "exception": false,
     "start_time": "2021-06-18T07:57:51.760440",
     "status": "completed"
    },
    "tags": []
   },
   "outputs": [
    {
     "name": "stderr",
     "output_type": "stream",
     "text": [
      "/opt/conda/lib/python3.7/site-packages/seaborn/distributions.py:2557: FutureWarning: `distplot` is a deprecated function and will be removed in a future version. Please adapt your code to use either `displot` (a figure-level function with similar flexibility) or `histplot` (an axes-level function for histograms).\n",
      "  warnings.warn(msg, FutureWarning)\n"
     ]
    },
    {
     "data": {
      "text/plain": [
       "<AxesSubplot:xlabel='date_parsed'>"
      ]
     },
     "execution_count": 13,
     "metadata": {},
     "output_type": "execute_result"
    },
    {
     "data": {
      "image/png": "[encoded data removed]",
      "text/plain": [
       "<Figure size 432x288 with 1 Axes>"
      ]
     },
     "metadata": {
      "needs_background": "light"
     },
     "output_type": "display_data"
    }
   ],
   "source": [
    "# TODO: Your code here!\n",
    "day_of_months=day_of_month_earthquakes.dropna()\n",
    "\n",
    "sns.distplot(day_of_months,kde=False,bins=31)"
   ]
  },
  {
   "cell_type": "markdown",
   "id": "aggregate-circular",
   "metadata": {
    "papermill": {
     "duration": 0.029444,
     "end_time": "2021-06-18T07:57:52.091114",
     "exception": false,
     "start_time": "2021-06-18T07:57:52.061670",
     "status": "completed"
    },
    "tags": []
   },
   "source": [
    "Does the graph make sense to you?"
   ]
  },
  {
   "cell_type": "code",
   "execution_count": 14,
   "id": "expired-escape",
   "metadata": {
    "execution": {
     "iopub.execute_input": "2021-06-18T07:57:52.153764Z",
     "iopub.status.busy": "2021-06-18T07:57:52.153070Z",
     "iopub.status.idle": "2021-06-18T07:57:52.156957Z",
     "shell.execute_reply": "2021-06-18T07:57:52.157444Z",
     "shell.execute_reply.started": "2021-06-18T07:41:18.828741Z"
    },
    "papermill": {
     "duration": 0.037799,
     "end_time": "2021-06-18T07:57:52.157608",
     "exception": false,
     "start_time": "2021-06-18T07:57:52.119809",
     "status": "completed"
    },
    "tags": []
   },
   "outputs": [
    {
     "data": {
      "application/javascript": [
       "parent.postMessage({\"jupyterEvent\": \"custom.exercise_interaction\", \"data\": {\"outcomeType\": 1, \"valueTowardsCompletion\": 0.25, \"interactionType\": 1, \"questionType\": 4, \"questionId\": \"4_PlotDayOfMonth\", \"learnToolsVersion\": \"0.3.4\", \"failureMessage\": \"\", \"exceptionClass\": \"\", \"trace\": \"\"}}, \"*\")"
      ],
      "text/plain": [
       "<IPython.core.display.Javascript object>"
      ]
     },
     "metadata": {},
     "output_type": "display_data"
    },
    {
     "data": {
      "text/markdown": [
       "<span style=\"color:#33cc33\">Correct:</span> \n",
       "\n",
       "The graph should make sense: it shows a relatively even distribution in days of the month,which is what we would expect."
      ],
      "text/plain": [
       "Correct: \n",
       "\n",
       "The graph should make sense: it shows a relatively even distribution in days of the month,which is what we would expect."
      ]
     },
     "metadata": {},
     "output_type": "display_data"
    }
   ],
   "source": [
    "# Check your answer (Run this code cell to receive credit!)\n",
    "q4.check()"
   ]
  },
  {
   "cell_type": "code",
   "execution_count": 15,
   "id": "consistent-southwest",
   "metadata": {
    "execution": {
     "iopub.execute_input": "2021-06-18T07:57:52.224921Z",
     "iopub.status.busy": "2021-06-18T07:57:52.224219Z",
     "iopub.status.idle": "2021-06-18T07:57:52.228153Z",
     "shell.execute_reply": "2021-06-18T07:57:52.227292Z",
     "shell.execute_reply.started": "2021-06-18T07:41:18.841041Z"
    },
    "papermill": {
     "duration": 0.041166,
     "end_time": "2021-06-18T07:57:52.228343",
     "exception": false,
     "start_time": "2021-06-18T07:57:52.187177",
     "status": "completed"
    },
    "tags": []
   },
   "outputs": [],
   "source": [
    "# Line below will give you a hint\n",
    "#q4.hint()"
   ]
  },
  {
   "cell_type": "markdown",
   "id": "lovely-tribe",
   "metadata": {
    "papermill": {
     "duration": 0.029501,
     "end_time": "2021-06-18T07:57:52.293581",
     "exception": false,
     "start_time": "2021-06-18T07:57:52.264080",
     "status": "completed"
    },
    "tags": []
   },
   "source": [
    "# (Optional) Bonus Challenge\n",
    "\n",
    "For an extra challenge, you'll work with a [Smithsonian dataset](https://www.kaggle.com/smithsonian/volcanic-eruptions) that documents Earth's volcanoes and their eruptive history over the past 10,000 years \n",
    "\n",
    "Run the next code cell to load the data."
   ]
  },
  {
   "cell_type": "code",
   "execution_count": 16,
   "id": "ordered-ireland",
   "metadata": {
    "execution": {
     "iopub.execute_input": "2021-06-18T07:57:52.358550Z",
     "iopub.status.busy": "2021-06-18T07:57:52.357584Z",
     "iopub.status.idle": "2021-06-18T07:57:52.384738Z",
     "shell.execute_reply": "2021-06-18T07:57:52.384010Z",
     "shell.execute_reply.started": "2021-06-18T07:41:18.851596Z"
    },
    "papermill": {
     "duration": 0.059709,
     "end_time": "2021-06-18T07:57:52.384890",
     "exception": false,
     "start_time": "2021-06-18T07:57:52.325181",
     "status": "completed"
    },
    "tags": []
   },
   "outputs": [],
   "source": [
    "volcanos = pd.read_csv(\"../input/volcanic-eruptions/database.csv\")"
   ]
  },
  {
   "cell_type": "markdown",
   "id": "binding-mention",
   "metadata": {
    "papermill": {
     "duration": 0.028955,
     "end_time": "2021-06-18T07:57:52.443335",
     "exception": false,
     "start_time": "2021-06-18T07:57:52.414380",
     "status": "completed"
    },
    "tags": []
   },
   "source": [
    "Try parsing the column \"Last Known Eruption\" from the `volcanos` dataframe. This column contains a mixture of text (\"Unknown\") and years both before the common era (BCE, also known as BC) and in the common era (CE, also known as AD)."
   ]
  },
  {
   "cell_type": "code",
   "execution_count": 17,
   "id": "developing-amendment",
   "metadata": {
    "execution": {
     "iopub.execute_input": "2021-06-18T07:57:52.508929Z",
     "iopub.status.busy": "2021-06-18T07:57:52.508238Z",
     "iopub.status.idle": "2021-06-18T07:57:52.511175Z",
     "shell.execute_reply": "2021-06-18T07:57:52.511608Z",
     "shell.execute_reply.started": "2021-06-18T07:41:18.8872Z"
    },
    "papermill": {
     "duration": 0.039188,
     "end_time": "2021-06-18T07:57:52.511794",
     "exception": false,
     "start_time": "2021-06-18T07:57:52.472606",
     "status": "completed"
    },
    "tags": []
   },
   "outputs": [
    {
     "data": {
      "text/plain": [
       "764     Unknown\n",
       "1069    1996 CE\n",
       "34      1855 CE\n",
       "489     2016 CE\n",
       "9       1302 CE\n",
       "Name: Last Known Eruption, dtype: object"
      ]
     },
     "execution_count": 17,
     "metadata": {},
     "output_type": "execute_result"
    }
   ],
   "source": [
    "volcanos['Last Known Eruption'].sample(5)"
   ]
  },
  {
   "cell_type": "markdown",
   "id": "historic-extension",
   "metadata": {
    "papermill": {
     "duration": 0.030002,
     "end_time": "2021-06-18T07:57:52.571533",
     "exception": false,
     "start_time": "2021-06-18T07:57:52.541531",
     "status": "completed"
    },
    "tags": []
   },
   "source": [
    "# (Optional) More practice\n",
    "\n",
    "If you're interested in graphing time series, [check out this tutorial](https://www.kaggle.com/residentmario/time-series-plotting-optional).\n",
    "\n",
    "You can also look into passing columns that you know have dates in them  the `parse_dates` argument in `read_csv`. (The documention [is here](https://pandas.pydata.org/pandas-docs/stable/generated/pandas.read_csv.html).) Do note that this method can be very slow, but depending on your needs it may sometimes be handy to use.\n",
    "\n",
    "# Keep going\n",
    "\n",
    "In the next lesson, learn how to [**work with character encodings**](https://www.kaggle.com/alexisbcook/character-encodings)."
   ]
  },
  {
   "cell_type": "markdown",
   "id": "compressed-knight",
   "metadata": {
    "papermill": {
     "duration": 0.029424,
     "end_time": "2021-06-18T07:57:52.631274",
     "exception": false,
     "start_time": "2021-06-18T07:57:52.601850",
     "status": "completed"
    },
    "tags": []
   },
   "source": [
    "---\n",
    "\n",
    "\n",
    "\n",
    "\n",
    "*Have questions or comments? Visit the [Learn Discussion forum](https://www.kaggle.com/learn-forum/172650) to chat with other Learners.*"
   ]
  }
 ],
 "metadata": {
  "kernelspec": {
   "display_name": "Python 3",
   "language": "python",
   "name": "python3"
  },
  "language_info": {
   "codemirror_mode": {
    "name": "ipython",
    "version": 3
   },
   "file_extension": ".py",
   "mimetype": "text/x-python",
   "name": "python",
   "nbconvert_exporter": "python",
   "pygments_lexer": "ipython3",
   "version": "3.7.9"
  },
  "papermill": {
   "default_parameters": {},
   "duration": 10.299841,
   "end_time": "2021-06-18T07:57:53.371720",
   "environment_variables": {},
   "exception": null,
   "input_path": "__notebook__.ipynb",
   "output_path": "__notebook__.ipynb",
   "parameters": {},
   "start_time": "2021-06-18T07:57:43.071879",
   "version": "2.3.2"
  }
 },
 "nbformat": 4,
 "nbformat_minor": 5
}
