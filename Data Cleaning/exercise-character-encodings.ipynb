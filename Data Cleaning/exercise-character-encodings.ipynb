{
 "cells": [
  {
   "cell_type": "markdown",
   "id": "polish-season",
   "metadata": {
    "papermill": {
     "duration": 0.011336,
     "end_time": "2021-06-18T07:56:07.183947",
     "exception": false,
     "start_time": "2021-06-18T07:56:07.172611",
     "status": "completed"
    },
    "tags": []
   },
   "source": [
    "**This notebook is an exercise in the [Data Cleaning](https://www.kaggle.com/learn/data-cleaning) course.  You can reference the tutorial at [this link](https://www.kaggle.com/alexisbcook/character-encodings).**\n",
    "\n",
    "---\n"
   ]
  },
  {
   "cell_type": "markdown",
   "id": "christian-charm",
   "metadata": {
    "papermill": {
     "duration": 0.010001,
     "end_time": "2021-06-18T07:56:07.204538",
     "exception": false,
     "start_time": "2021-06-18T07:56:07.194537",
     "status": "completed"
    },
    "tags": []
   },
   "source": [
    "In this exercise, you'll apply what you learned in the **Character encodings** tutorial.\n",
    "\n",
    "# Setup\n",
    "\n",
    "The questions below will give you feedback on your work. Run the following cell to set up the feedback system."
   ]
  },
  {
   "cell_type": "code",
   "execution_count": 1,
   "id": "waiting-corrections",
   "metadata": {
    "execution": {
     "iopub.execute_input": "2021-06-18T07:56:07.229864Z",
     "iopub.status.busy": "2021-06-18T07:56:07.229328Z",
     "iopub.status.idle": "2021-06-18T07:56:07.312674Z",
     "shell.execute_reply": "2021-06-18T07:56:07.313417Z",
     "shell.execute_reply.started": "2021-06-18T07:42:52.925734Z"
    },
    "papermill": {
     "duration": 0.098945,
     "end_time": "2021-06-18T07:56:07.313793",
     "exception": false,
     "start_time": "2021-06-18T07:56:07.214848",
     "status": "completed"
    },
    "tags": []
   },
   "outputs": [
    {
     "name": "stdout",
     "output_type": "stream",
     "text": [
      "Setup Complete\n"
     ]
    }
   ],
   "source": [
    "from learntools.core import binder\n",
    "binder.bind(globals())\n",
    "from learntools.data_cleaning.ex4 import *\n",
    "print(\"Setup Complete\")"
   ]
  },
  {
   "cell_type": "markdown",
   "id": "subjective-pizza",
   "metadata": {
    "papermill": {
     "duration": 0.010096,
     "end_time": "2021-06-18T07:56:07.334869",
     "exception": false,
     "start_time": "2021-06-18T07:56:07.324773",
     "status": "completed"
    },
    "tags": []
   },
   "source": [
    "# Get our environment set up\n",
    "\n",
    "The first thing we'll need to do is load in the libraries we'll be using."
   ]
  },
  {
   "cell_type": "code",
   "execution_count": 2,
   "id": "smaller-bennett",
   "metadata": {
    "execution": {
     "iopub.execute_input": "2021-06-18T07:56:07.360080Z",
     "iopub.status.busy": "2021-06-18T07:56:07.359474Z",
     "iopub.status.idle": "2021-06-18T07:56:07.362242Z",
     "shell.execute_reply": "2021-06-18T07:56:07.361786Z",
     "shell.execute_reply.started": "2021-06-18T07:42:53.012128Z"
    },
    "papermill": {
     "duration": 0.017194,
     "end_time": "2021-06-18T07:56:07.362370",
     "exception": false,
     "start_time": "2021-06-18T07:56:07.345176",
     "status": "completed"
    },
    "tags": []
   },
   "outputs": [],
   "source": [
    "# modules we'll use\n",
    "import pandas as pd\n",
    "import numpy as np\n",
    "\n",
    "# helpful character encoding module\n",
    "import chardet\n",
    "\n",
    "# set seed for reproducibility\n",
    "np.random.seed(0)"
   ]
  },
  {
   "cell_type": "markdown",
   "id": "distant-education",
   "metadata": {
    "papermill": {
     "duration": 0.011497,
     "end_time": "2021-06-18T07:56:07.384514",
     "exception": false,
     "start_time": "2021-06-18T07:56:07.373017",
     "status": "completed"
    },
    "tags": []
   },
   "source": [
    "# 1) What are encodings?\n",
    "\n",
    "You're working with a dataset composed of bytes.  Run the code cell below to print a sample entry."
   ]
  },
  {
   "cell_type": "code",
   "execution_count": 3,
   "id": "employed-square",
   "metadata": {
    "execution": {
     "iopub.execute_input": "2021-06-18T07:56:07.410157Z",
     "iopub.status.busy": "2021-06-18T07:56:07.409288Z",
     "iopub.status.idle": "2021-06-18T07:56:07.414077Z",
     "shell.execute_reply": "2021-06-18T07:56:07.413255Z",
     "shell.execute_reply.started": "2021-06-18T07:42:53.020556Z"
    },
    "papermill": {
     "duration": 0.019466,
     "end_time": "2021-06-18T07:56:07.414297",
     "exception": false,
     "start_time": "2021-06-18T07:56:07.394831",
     "status": "completed"
    },
    "tags": []
   },
   "outputs": [
    {
     "name": "stdout",
     "output_type": "stream",
     "text": [
      "b'\\xa7A\\xa6n'\n",
      "data type: <class 'bytes'>\n"
     ]
    }
   ],
   "source": [
    "sample_entry = b'\\xa7A\\xa6n'\n",
    "print(sample_entry)\n",
    "print('data type:', type(sample_entry))"
   ]
  },
  {
   "cell_type": "markdown",
   "id": "micro-ethnic",
   "metadata": {
    "papermill": {
     "duration": 0.010925,
     "end_time": "2021-06-18T07:56:07.436982",
     "exception": false,
     "start_time": "2021-06-18T07:56:07.426057",
     "status": "completed"
    },
    "tags": []
   },
   "source": [
    "You notice that it doesn't use the standard UTF-8 encoding. \n",
    "\n",
    "Use the next code cell to create a variable `new_entry` that changes the encoding from `\"big5-tw\"` to `\"utf-8\"`.  `new_entry` should have the bytes datatype."
   ]
  },
  {
   "cell_type": "code",
   "execution_count": 4,
   "id": "packed-peeing",
   "metadata": {
    "execution": {
     "iopub.execute_input": "2021-06-18T07:56:07.462133Z",
     "iopub.status.busy": "2021-06-18T07:56:07.461574Z",
     "iopub.status.idle": "2021-06-18T07:56:07.468849Z",
     "shell.execute_reply": "2021-06-18T07:56:07.469312Z",
     "shell.execute_reply.started": "2021-06-18T07:42:53.030872Z"
    },
    "papermill": {
     "duration": 0.02137,
     "end_time": "2021-06-18T07:56:07.469461",
     "exception": false,
     "start_time": "2021-06-18T07:56:07.448091",
     "status": "completed"
    },
    "tags": []
   },
   "outputs": [
    {
     "data": {
      "application/javascript": [
       "parent.postMessage({\"jupyterEvent\": \"custom.exercise_interaction\", \"data\": {\"outcomeType\": 1, \"valueTowardsCompletion\": 0.3333333333333333, \"interactionType\": 1, \"questionType\": 1, \"questionId\": \"1_EncodingsIntro\", \"learnToolsVersion\": \"0.3.4\", \"failureMessage\": \"\", \"exceptionClass\": \"\", \"trace\": \"\"}}, \"*\")"
      ],
      "text/plain": [
       "<IPython.core.display.Javascript object>"
      ]
     },
     "metadata": {},
     "output_type": "display_data"
    },
    {
     "data": {
      "text/markdown": [
       "<span style=\"color:#33cc33\">Correct</span>"
      ],
      "text/plain": [
       "Correct"
      ]
     },
     "metadata": {},
     "output_type": "display_data"
    }
   ],
   "source": [
    "before=sample_entry.decode(\"big5-tw\")\n",
    "new_entry = before.encode()\n",
    "\n",
    "# Check your answer\n",
    "q1.check()"
   ]
  },
  {
   "cell_type": "code",
   "execution_count": 5,
   "id": "diverse-repair",
   "metadata": {
    "execution": {
     "iopub.execute_input": "2021-06-18T07:56:07.495729Z",
     "iopub.status.busy": "2021-06-18T07:56:07.494835Z",
     "iopub.status.idle": "2021-06-18T07:56:07.498041Z",
     "shell.execute_reply": "2021-06-18T07:56:07.498552Z",
     "shell.execute_reply.started": "2021-06-18T07:42:53.047175Z"
    },
    "papermill": {
     "duration": 0.017664,
     "end_time": "2021-06-18T07:56:07.498703",
     "exception": false,
     "start_time": "2021-06-18T07:56:07.481039",
     "status": "completed"
    },
    "tags": []
   },
   "outputs": [],
   "source": [
    "# Lines below will give you a hint or solution code\n",
    "#q1.hint()\n",
    "#q1.solution()"
   ]
  },
  {
   "cell_type": "markdown",
   "id": "legislative-exemption",
   "metadata": {
    "papermill": {
     "duration": 0.011636,
     "end_time": "2021-06-18T07:56:07.522102",
     "exception": false,
     "start_time": "2021-06-18T07:56:07.510466",
     "status": "completed"
    },
    "tags": []
   },
   "source": [
    "# 2) Reading in files with encoding problems\n",
    "\n",
    "Use the code cell below to read in this file at path `\"../input/fatal-police-shootings-in-the-us/PoliceKillingsUS.csv\"`.  \n",
    "\n",
    "Figure out what the correct encoding should be and read in the file to a DataFrame `police_killings`."
   ]
  },
  {
   "cell_type": "code",
   "execution_count": 6,
   "id": "mature-amendment",
   "metadata": {
    "execution": {
     "iopub.execute_input": "2021-06-18T07:56:07.549610Z",
     "iopub.status.busy": "2021-06-18T07:56:07.548718Z",
     "iopub.status.idle": "2021-06-18T07:56:07.572691Z",
     "shell.execute_reply": "2021-06-18T07:56:07.572253Z",
     "shell.execute_reply.started": "2021-06-18T07:42:53.052497Z"
    },
    "papermill": {
     "duration": 0.03873,
     "end_time": "2021-06-18T07:56:07.572819",
     "exception": false,
     "start_time": "2021-06-18T07:56:07.534089",
     "status": "completed"
    },
    "tags": []
   },
   "outputs": [
    {
     "data": {
      "application/javascript": [
       "parent.postMessage({\"jupyterEvent\": \"custom.exercise_interaction\", \"data\": {\"outcomeType\": 1, \"valueTowardsCompletion\": 0.3333333333333333, \"interactionType\": 1, \"questionType\": 1, \"questionId\": \"2_ReadIn\", \"learnToolsVersion\": \"0.3.4\", \"failureMessage\": \"\", \"exceptionClass\": \"\", \"trace\": \"\"}}, \"*\")"
      ],
      "text/plain": [
       "<IPython.core.display.Javascript object>"
      ]
     },
     "metadata": {},
     "output_type": "display_data"
    },
    {
     "data": {
      "text/markdown": [
       "<span style=\"color:#33cc33\">Correct</span>"
      ],
      "text/plain": [
       "Correct"
      ]
     },
     "metadata": {},
     "output_type": "display_data"
    }
   ],
   "source": [
    "# TODO: Load in the DataFrame correctly.\n",
    "police_killings = pd.read_csv(\"../input/fatal-police-shootings-in-the-us/PoliceKillingsUS.csv\",encoding=\"Windows-1252\")\n",
    "\n",
    "# Check your answer\n",
    "q2.check()"
   ]
  },
  {
   "cell_type": "markdown",
   "id": "synthetic-bronze",
   "metadata": {
    "papermill": {
     "duration": 0.012033,
     "end_time": "2021-06-18T07:56:07.597109",
     "exception": false,
     "start_time": "2021-06-18T07:56:07.585076",
     "status": "completed"
    },
    "tags": []
   },
   "source": [
    "Feel free to use any additional code cells for supplemental work.  To get credit for finishing this question, you'll need to run `q2.check()` and get a result of **Correct**."
   ]
  },
  {
   "cell_type": "code",
   "execution_count": 7,
   "id": "modular-compromise",
   "metadata": {
    "execution": {
     "iopub.execute_input": "2021-06-18T07:56:07.626434Z",
     "iopub.status.busy": "2021-06-18T07:56:07.625804Z",
     "iopub.status.idle": "2021-06-18T07:56:08.570829Z",
     "shell.execute_reply": "2021-06-18T07:56:08.570361Z",
     "shell.execute_reply.started": "2021-06-18T07:42:53.082475Z"
    },
    "papermill": {
     "duration": 0.961499,
     "end_time": "2021-06-18T07:56:08.570967",
     "exception": false,
     "start_time": "2021-06-18T07:56:07.609468",
     "status": "completed"
    },
    "tags": []
   },
   "outputs": [
    {
     "name": "stdout",
     "output_type": "stream",
     "text": [
      "{'encoding': 'Windows-1252', 'confidence': 0.73, 'language': ''}\n"
     ]
    }
   ],
   "source": [
    "# (Optional) Use this code cell for any additional work.\n",
    "file=pd.read_csv(\"../input/fatal-police-shootings-in-the-us/PoliceKillingsUS.csv\")\n",
    "with open(\"../input/fatal-police-shootings-in-the-us/PoliceKillingsUS.csv\",\"rb\") as rawdata:\n",
    "    result = chardet.detect(rawdata.read(100000))\n",
    "print(result)"
   ]
  },
  {
   "cell_type": "code",
   "execution_count": 8,
   "id": "practical-constraint",
   "metadata": {
    "execution": {
     "iopub.execute_input": "2021-06-18T07:56:08.599635Z",
     "iopub.status.busy": "2021-06-18T07:56:08.598885Z",
     "iopub.status.idle": "2021-06-18T07:56:08.601897Z",
     "shell.execute_reply": "2021-06-18T07:56:08.601449Z",
     "shell.execute_reply.started": "2021-06-18T07:42:54.043265Z"
    },
    "papermill": {
     "duration": 0.018552,
     "end_time": "2021-06-18T07:56:08.602019",
     "exception": false,
     "start_time": "2021-06-18T07:56:08.583467",
     "status": "completed"
    },
    "tags": []
   },
   "outputs": [],
   "source": [
    "# Lines below will give you a hint or solution code\n",
    "#q2.hint()\n",
    "#q2.solution()"
   ]
  },
  {
   "cell_type": "markdown",
   "id": "improving-spanking",
   "metadata": {
    "papermill": {
     "duration": 0.012049,
     "end_time": "2021-06-18T07:56:08.626382",
     "exception": false,
     "start_time": "2021-06-18T07:56:08.614333",
     "status": "completed"
    },
    "tags": []
   },
   "source": [
    "# 3) Saving your files with UTF-8 encoding\n",
    "\n",
    "Save a version of the police killings dataset to CSV with UTF-8 encoding.  Your answer will be marked correct after saving this file.  \n",
    "\n",
    "Note: When using the `to_csv()` method, supply only the name of the file (e.g., `\"my_file.csv\"`).  This saves the file at the filepath `\"/kaggle/working/my_file.csv\"`."
   ]
  },
  {
   "cell_type": "code",
   "execution_count": 9,
   "id": "according-technique",
   "metadata": {
    "execution": {
     "iopub.execute_input": "2021-06-18T07:56:08.654981Z",
     "iopub.status.busy": "2021-06-18T07:56:08.654445Z",
     "iopub.status.idle": "2021-06-18T07:56:08.681934Z",
     "shell.execute_reply": "2021-06-18T07:56:08.681410Z",
     "shell.execute_reply.started": "2021-06-18T07:42:55.582247Z"
    },
    "papermill": {
     "duration": 0.043421,
     "end_time": "2021-06-18T07:56:08.682055",
     "exception": false,
     "start_time": "2021-06-18T07:56:08.638634",
     "status": "completed"
    },
    "tags": []
   },
   "outputs": [
    {
     "data": {
      "application/javascript": [
       "parent.postMessage({\"jupyterEvent\": \"custom.exercise_interaction\", \"data\": {\"outcomeType\": 1, \"valueTowardsCompletion\": 0.3333333333333333, \"interactionType\": 1, \"questionType\": 2, \"questionId\": \"3_SaveCSV\", \"learnToolsVersion\": \"0.3.4\", \"failureMessage\": \"\", \"exceptionClass\": \"\", \"trace\": \"\"}}, \"*\")"
      ],
      "text/plain": [
       "<IPython.core.display.Javascript object>"
      ]
     },
     "metadata": {},
     "output_type": "display_data"
    },
    {
     "data": {
      "text/markdown": [
       "<span style=\"color:#33cc33\">Correct</span>"
      ],
      "text/plain": [
       "Correct"
      ]
     },
     "metadata": {},
     "output_type": "display_data"
    }
   ],
   "source": [
    "# TODO: Save the police killings dataset to CSV\n",
    "police_killings.to_csv(\"my_file.csv\")\n",
    "# Check your answer\n",
    "q3.check()"
   ]
  },
  {
   "cell_type": "code",
   "execution_count": 10,
   "id": "vulnerable-entrance",
   "metadata": {
    "execution": {
     "iopub.execute_input": "2021-06-18T07:56:08.711714Z",
     "iopub.status.busy": "2021-06-18T07:56:08.711178Z",
     "iopub.status.idle": "2021-06-18T07:56:08.713994Z",
     "shell.execute_reply": "2021-06-18T07:56:08.713515Z",
     "shell.execute_reply.started": "2021-06-18T07:42:57.461519Z"
    },
    "papermill": {
     "duration": 0.018839,
     "end_time": "2021-06-18T07:56:08.714117",
     "exception": false,
     "start_time": "2021-06-18T07:56:08.695278",
     "status": "completed"
    },
    "tags": []
   },
   "outputs": [],
   "source": [
    "# Lines below will give you a hint or solution code\n",
    "#q3.hint()\n",
    "#q3.solution()"
   ]
  },
  {
   "cell_type": "markdown",
   "id": "roman-hydrogen",
   "metadata": {
    "papermill": {
     "duration": 0.01291,
     "end_time": "2021-06-18T07:56:08.740213",
     "exception": false,
     "start_time": "2021-06-18T07:56:08.727303",
     "status": "completed"
    },
    "tags": []
   },
   "source": [
    "# (Optional) More practice\n",
    "\n",
    "Check out [this dataset of files in different character encodings](https://www.kaggle.com/rtatman/character-encoding-examples). Can you read in all the files with their original encodings and them save them out as UTF-8 files?\n",
    "\n",
    "If you have a file that's in UTF-8 but has just a couple of weird-looking characters in it, you can try out the [ftfy module](https://ftfy.readthedocs.io/en/latest/#) and see if it helps. \n",
    "\n",
    "# Keep going\n",
    "\n",
    "In the final lesson, learn how to [**clean up inconsistent text entries**](https://www.kaggle.com/alexisbcook/inconsistent-data-entry) in your dataset."
   ]
  },
  {
   "cell_type": "markdown",
   "id": "wireless-knight",
   "metadata": {
    "papermill": {
     "duration": 0.013154,
     "end_time": "2021-06-18T07:56:08.766540",
     "exception": false,
     "start_time": "2021-06-18T07:56:08.753386",
     "status": "completed"
    },
    "tags": []
   },
   "source": [
    "---\n",
    "\n",
    "\n",
    "\n",
    "\n",
    "*Have questions or comments? Visit the [Learn Discussion forum](https://www.kaggle.com/learn-forum/172650) to chat with other Learners.*"
   ]
  }
 ],
 "metadata": {
  "kernelspec": {
   "display_name": "Python 3",
   "language": "python",
   "name": "python3"
  },
  "language_info": {
   "codemirror_mode": {
    "name": "ipython",
    "version": 3
   },
   "file_extension": ".py",
   "mimetype": "text/x-python",
   "name": "python",
   "nbconvert_exporter": "python",
   "pygments_lexer": "ipython3",
   "version": "3.7.9"
  },
  "papermill": {
   "default_parameters": {},
   "duration": 7.332003,
   "end_time": "2021-06-18T07:56:09.289017",
   "environment_variables": {},
   "exception": null,
   "input_path": "__notebook__.ipynb",
   "output_path": "__notebook__.ipynb",
   "parameters": {},
   "start_time": "2021-06-18T07:56:01.957014",
   "version": "2.3.2"
  }
 },
 "nbformat": 4,
 "nbformat_minor": 5
}
