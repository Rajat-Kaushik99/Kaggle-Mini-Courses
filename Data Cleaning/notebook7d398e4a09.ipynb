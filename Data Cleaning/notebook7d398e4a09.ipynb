{
 "cells": [
  {
   "cell_type": "markdown",
   "id": "included-click",
   "metadata": {
    "papermill": {
     "duration": 0.021001,
     "end_time": "2021-06-18T07:57:39.981635",
     "exception": false,
     "start_time": "2021-06-18T07:57:39.960634",
     "status": "completed"
    },
    "tags": []
   },
   "source": [
    "**This notebook is an exercise in the [Data Cleaning](https://www.kaggle.com/learn/data-cleaning) course.  You can reference the tutorial at [this link](https://www.kaggle.com/alexisbcook/handling-missing-values).**\n",
    "\n",
    "---\n"
   ]
  },
  {
   "cell_type": "markdown",
   "id": "upper-evans",
   "metadata": {
    "papermill": {
     "duration": 0.019275,
     "end_time": "2021-06-18T07:57:40.020542",
     "exception": false,
     "start_time": "2021-06-18T07:57:40.001267",
     "status": "completed"
    },
    "tags": []
   },
   "source": [
    "In this exercise, you'll apply what you learned in the **Handling missing values** tutorial.\n",
    "\n",
    "# Setup\n",
    "\n",
    "The questions below will give you feedback on your work. Run the following cell to set up the feedback system."
   ]
  },
  {
   "cell_type": "code",
   "execution_count": 1,
   "id": "indie-grass",
   "metadata": {
    "execution": {
     "iopub.execute_input": "2021-06-18T07:57:40.066409Z",
     "iopub.status.busy": "2021-06-18T07:57:40.065624Z",
     "iopub.status.idle": "2021-06-18T07:57:45.095494Z",
     "shell.execute_reply": "2021-06-18T07:57:45.094705Z",
     "shell.execute_reply.started": "2021-06-18T07:36:54.985186Z"
    },
    "papermill": {
     "duration": 5.055672,
     "end_time": "2021-06-18T07:57:45.095722",
     "exception": false,
     "start_time": "2021-06-18T07:57:40.040050",
     "status": "completed"
    },
    "tags": []
   },
   "outputs": [
    {
     "name": "stderr",
     "output_type": "stream",
     "text": [
      "/opt/conda/lib/python3.7/site-packages/IPython/core/interactiveshell.py:3347: DtypeWarning: Columns (22,32) have mixed types.Specify dtype option on import or set low_memory=False.\n",
      "  if (await self.run_code(code, result,  async_=asy)):\n"
     ]
    },
    {
     "name": "stdout",
     "output_type": "stream",
     "text": [
      "Setup Complete\n"
     ]
    }
   ],
   "source": [
    "from learntools.core import binder\n",
    "binder.bind(globals())\n",
    "from learntools.data_cleaning.ex1 import *\n",
    "print(\"Setup Complete\")"
   ]
  },
  {
   "cell_type": "markdown",
   "id": "confirmed-kitchen",
   "metadata": {
    "papermill": {
     "duration": 0.022406,
     "end_time": "2021-06-18T07:57:45.139215",
     "exception": false,
     "start_time": "2021-06-18T07:57:45.116809",
     "status": "completed"
    },
    "tags": []
   },
   "source": [
    "# 1) Take a first look at the data\n",
    "\n",
    "Run the next code cell to load in the libraries and dataset you'll use to complete the exercise."
   ]
  },
  {
   "cell_type": "code",
   "execution_count": 2,
   "id": "residential-primary",
   "metadata": {
    "execution": {
     "iopub.execute_input": "2021-06-18T07:57:45.186978Z",
     "iopub.status.busy": "2021-06-18T07:57:45.186255Z",
     "iopub.status.idle": "2021-06-18T07:57:47.076072Z",
     "shell.execute_reply": "2021-06-18T07:57:47.076722Z",
     "shell.execute_reply.started": "2021-06-18T07:36:59.646745Z"
    },
    "papermill": {
     "duration": 1.917243,
     "end_time": "2021-06-18T07:57:47.077014",
     "exception": false,
     "start_time": "2021-06-18T07:57:45.159771",
     "status": "completed"
    },
    "tags": []
   },
   "outputs": [
    {
     "name": "stderr",
     "output_type": "stream",
     "text": [
      "/opt/conda/lib/python3.7/site-packages/IPython/core/interactiveshell.py:3156: DtypeWarning: Columns (22,32) have mixed types.Specify dtype option on import or set low_memory=False.\n",
      "  interactivity=interactivity, compiler=compiler, result=result)\n"
     ]
    }
   ],
   "source": [
    "# modules we'll use\n",
    "import pandas as pd\n",
    "import numpy as np\n",
    "\n",
    "# read in all our data\n",
    "sf_permits = pd.read_csv(\"../input/building-permit-applications-data/Building_Permits.csv\")\n",
    "\n",
    "# set seed for reproducibility\n",
    "np.random.seed(0) "
   ]
  },
  {
   "cell_type": "markdown",
   "id": "express-statement",
   "metadata": {
    "papermill": {
     "duration": 0.021159,
     "end_time": "2021-06-18T07:57:47.120699",
     "exception": false,
     "start_time": "2021-06-18T07:57:47.099540",
     "status": "completed"
    },
    "tags": []
   },
   "source": [
    "Use the code cell below to print the first five rows of the `sf_permits` DataFrame."
   ]
  },
  {
   "cell_type": "code",
   "execution_count": 3,
   "id": "important-kidney",
   "metadata": {
    "execution": {
     "iopub.execute_input": "2021-06-18T07:57:47.166535Z",
     "iopub.status.busy": "2021-06-18T07:57:47.165876Z",
     "iopub.status.idle": "2021-06-18T07:57:47.206727Z",
     "shell.execute_reply": "2021-06-18T07:57:47.206171Z",
     "shell.execute_reply.started": "2021-06-18T07:37:01.302061Z"
    },
    "papermill": {
     "duration": 0.065009,
     "end_time": "2021-06-18T07:57:47.206896",
     "exception": false,
     "start_time": "2021-06-18T07:57:47.141887",
     "status": "completed"
    },
    "tags": []
   },
   "outputs": [
    {
     "data": {
      "text/html": [
       "<div>\n",
       "<style scoped>\n",
       "    .dataframe tbody tr th:only-of-type {\n",
       "        vertical-align: middle;\n",
       "    }\n",
       "\n",
       "    .dataframe tbody tr th {\n",
       "        vertical-align: top;\n",
       "    }\n",
       "\n",
       "    .dataframe thead th {\n",
       "        text-align: right;\n",
       "    }\n",
       "</style>\n",
       "<table border=\"1\" class=\"dataframe\">\n",
       "  <thead>\n",
       "    <tr style=\"text-align: right;\">\n",
       "      <th></th>\n",
       "      <th>Permit Number</th>\n",
       "      <th>Permit Type</th>\n",
       "      <th>Permit Type Definition</th>\n",
       "      <th>Permit Creation Date</th>\n",
       "      <th>Block</th>\n",
       "      <th>Lot</th>\n",
       "      <th>Street Number</th>\n",
       "      <th>Street Number Suffix</th>\n",
       "      <th>Street Name</th>\n",
       "      <th>Street Suffix</th>\n",
       "      <th>...</th>\n",
       "      <th>Existing Construction Type</th>\n",
       "      <th>Existing Construction Type Description</th>\n",
       "      <th>Proposed Construction Type</th>\n",
       "      <th>Proposed Construction Type Description</th>\n",
       "      <th>Site Permit</th>\n",
       "      <th>Supervisor District</th>\n",
       "      <th>Neighborhoods - Analysis Boundaries</th>\n",
       "      <th>Zipcode</th>\n",
       "      <th>Location</th>\n",
       "      <th>Record ID</th>\n",
       "    </tr>\n",
       "  </thead>\n",
       "  <tbody>\n",
       "    <tr>\n",
       "      <th>0</th>\n",
       "      <td>201505065519</td>\n",
       "      <td>4</td>\n",
       "      <td>sign - erect</td>\n",
       "      <td>05/06/2015</td>\n",
       "      <td>0326</td>\n",
       "      <td>023</td>\n",
       "      <td>140</td>\n",
       "      <td>NaN</td>\n",
       "      <td>Ellis</td>\n",
       "      <td>St</td>\n",
       "      <td>...</td>\n",
       "      <td>3.0</td>\n",
       "      <td>constr type 3</td>\n",
       "      <td>NaN</td>\n",
       "      <td>NaN</td>\n",
       "      <td>NaN</td>\n",
       "      <td>3.0</td>\n",
       "      <td>Tenderloin</td>\n",
       "      <td>94102.0</td>\n",
       "      <td>(37.785719256680785, -122.40852313194863)</td>\n",
       "      <td>1380611233945</td>\n",
       "    </tr>\n",
       "    <tr>\n",
       "      <th>1</th>\n",
       "      <td>201604195146</td>\n",
       "      <td>4</td>\n",
       "      <td>sign - erect</td>\n",
       "      <td>04/19/2016</td>\n",
       "      <td>0306</td>\n",
       "      <td>007</td>\n",
       "      <td>440</td>\n",
       "      <td>NaN</td>\n",
       "      <td>Geary</td>\n",
       "      <td>St</td>\n",
       "      <td>...</td>\n",
       "      <td>3.0</td>\n",
       "      <td>constr type 3</td>\n",
       "      <td>NaN</td>\n",
       "      <td>NaN</td>\n",
       "      <td>NaN</td>\n",
       "      <td>3.0</td>\n",
       "      <td>Tenderloin</td>\n",
       "      <td>94102.0</td>\n",
       "      <td>(37.78733980600732, -122.41063199757738)</td>\n",
       "      <td>1420164406718</td>\n",
       "    </tr>\n",
       "    <tr>\n",
       "      <th>2</th>\n",
       "      <td>201605278609</td>\n",
       "      <td>3</td>\n",
       "      <td>additions alterations or repairs</td>\n",
       "      <td>05/27/2016</td>\n",
       "      <td>0595</td>\n",
       "      <td>203</td>\n",
       "      <td>1647</td>\n",
       "      <td>NaN</td>\n",
       "      <td>Pacific</td>\n",
       "      <td>Av</td>\n",
       "      <td>...</td>\n",
       "      <td>1.0</td>\n",
       "      <td>constr type 1</td>\n",
       "      <td>1.0</td>\n",
       "      <td>constr type 1</td>\n",
       "      <td>NaN</td>\n",
       "      <td>3.0</td>\n",
       "      <td>Russian Hill</td>\n",
       "      <td>94109.0</td>\n",
       "      <td>(37.7946573324287, -122.42232562979227)</td>\n",
       "      <td>1424856504716</td>\n",
       "    </tr>\n",
       "    <tr>\n",
       "      <th>3</th>\n",
       "      <td>201611072166</td>\n",
       "      <td>8</td>\n",
       "      <td>otc alterations permit</td>\n",
       "      <td>11/07/2016</td>\n",
       "      <td>0156</td>\n",
       "      <td>011</td>\n",
       "      <td>1230</td>\n",
       "      <td>NaN</td>\n",
       "      <td>Pacific</td>\n",
       "      <td>Av</td>\n",
       "      <td>...</td>\n",
       "      <td>5.0</td>\n",
       "      <td>wood frame (5)</td>\n",
       "      <td>5.0</td>\n",
       "      <td>wood frame (5)</td>\n",
       "      <td>NaN</td>\n",
       "      <td>3.0</td>\n",
       "      <td>Nob Hill</td>\n",
       "      <td>94109.0</td>\n",
       "      <td>(37.79595867909168, -122.41557405519474)</td>\n",
       "      <td>1443574295566</td>\n",
       "    </tr>\n",
       "    <tr>\n",
       "      <th>4</th>\n",
       "      <td>201611283529</td>\n",
       "      <td>6</td>\n",
       "      <td>demolitions</td>\n",
       "      <td>11/28/2016</td>\n",
       "      <td>0342</td>\n",
       "      <td>001</td>\n",
       "      <td>950</td>\n",
       "      <td>NaN</td>\n",
       "      <td>Market</td>\n",
       "      <td>St</td>\n",
       "      <td>...</td>\n",
       "      <td>3.0</td>\n",
       "      <td>constr type 3</td>\n",
       "      <td>NaN</td>\n",
       "      <td>NaN</td>\n",
       "      <td>NaN</td>\n",
       "      <td>6.0</td>\n",
       "      <td>Tenderloin</td>\n",
       "      <td>94102.0</td>\n",
       "      <td>(37.78315261897309, -122.40950883997789)</td>\n",
       "      <td>144548169992</td>\n",
       "    </tr>\n",
       "  </tbody>\n",
       "</table>\n",
       "<p>5 rows × 43 columns</p>\n",
       "</div>"
      ],
      "text/plain": [
       "  Permit Number  Permit Type            Permit Type Definition  \\\n",
       "0  201505065519            4                      sign - erect   \n",
       "1  201604195146            4                      sign - erect   \n",
       "2  201605278609            3  additions alterations or repairs   \n",
       "3  201611072166            8            otc alterations permit   \n",
       "4  201611283529            6                       demolitions   \n",
       "\n",
       "  Permit Creation Date Block  Lot  Street Number Street Number Suffix  \\\n",
       "0           05/06/2015  0326  023            140                  NaN   \n",
       "1           04/19/2016  0306  007            440                  NaN   \n",
       "2           05/27/2016  0595  203           1647                  NaN   \n",
       "3           11/07/2016  0156  011           1230                  NaN   \n",
       "4           11/28/2016  0342  001            950                  NaN   \n",
       "\n",
       "  Street Name Street Suffix  ...  Existing Construction Type  \\\n",
       "0       Ellis            St  ...                         3.0   \n",
       "1       Geary            St  ...                         3.0   \n",
       "2     Pacific            Av  ...                         1.0   \n",
       "3     Pacific            Av  ...                         5.0   \n",
       "4      Market            St  ...                         3.0   \n",
       "\n",
       "  Existing Construction Type Description Proposed Construction Type  \\\n",
       "0                          constr type 3                        NaN   \n",
       "1                          constr type 3                        NaN   \n",
       "2                          constr type 1                        1.0   \n",
       "3                         wood frame (5)                        5.0   \n",
       "4                          constr type 3                        NaN   \n",
       "\n",
       "  Proposed Construction Type Description Site Permit Supervisor District  \\\n",
       "0                                    NaN         NaN                 3.0   \n",
       "1                                    NaN         NaN                 3.0   \n",
       "2                          constr type 1         NaN                 3.0   \n",
       "3                         wood frame (5)         NaN                 3.0   \n",
       "4                                    NaN         NaN                 6.0   \n",
       "\n",
       "  Neighborhoods - Analysis Boundaries  Zipcode  \\\n",
       "0                          Tenderloin  94102.0   \n",
       "1                          Tenderloin  94102.0   \n",
       "2                        Russian Hill  94109.0   \n",
       "3                            Nob Hill  94109.0   \n",
       "4                          Tenderloin  94102.0   \n",
       "\n",
       "                                    Location      Record ID  \n",
       "0  (37.785719256680785, -122.40852313194863)  1380611233945  \n",
       "1   (37.78733980600732, -122.41063199757738)  1420164406718  \n",
       "2    (37.7946573324287, -122.42232562979227)  1424856504716  \n",
       "3   (37.79595867909168, -122.41557405519474)  1443574295566  \n",
       "4   (37.78315261897309, -122.40950883997789)   144548169992  \n",
       "\n",
       "[5 rows x 43 columns]"
      ]
     },
     "execution_count": 3,
     "metadata": {},
     "output_type": "execute_result"
    }
   ],
   "source": [
    "# TODO: Your code here!\n",
    "sf_permits.head()"
   ]
  },
  {
   "cell_type": "markdown",
   "id": "activated-enough",
   "metadata": {
    "papermill": {
     "duration": 0.02144,
     "end_time": "2021-06-18T07:57:47.250346",
     "exception": false,
     "start_time": "2021-06-18T07:57:47.228906",
     "status": "completed"
    },
    "tags": []
   },
   "source": [
    "Does the dataset have any missing values?  Once you have an answer, run the code cell below to get credit for your work."
   ]
  },
  {
   "cell_type": "code",
   "execution_count": 4,
   "id": "fifty-sellers",
   "metadata": {
    "execution": {
     "iopub.execute_input": "2021-06-18T07:57:47.299447Z",
     "iopub.status.busy": "2021-06-18T07:57:47.298652Z",
     "iopub.status.idle": "2021-06-18T07:57:47.304395Z",
     "shell.execute_reply": "2021-06-18T07:57:47.303671Z",
     "shell.execute_reply.started": "2021-06-18T07:37:01.347873Z"
    },
    "papermill": {
     "duration": 0.03244,
     "end_time": "2021-06-18T07:57:47.304591",
     "exception": false,
     "start_time": "2021-06-18T07:57:47.272151",
     "status": "completed"
    },
    "tags": []
   },
   "outputs": [
    {
     "data": {
      "application/javascript": [
       "parent.postMessage({\"jupyterEvent\": \"custom.exercise_interaction\", \"data\": {\"outcomeType\": 1, \"valueTowardsCompletion\": 0.16666666666666666, \"interactionType\": 1, \"questionType\": 4, \"questionId\": \"1_TakeFirstLook\", \"learnToolsVersion\": \"0.3.4\", \"failureMessage\": \"\", \"exceptionClass\": \"\", \"trace\": \"\"}}, \"*\")"
      ],
      "text/plain": [
       "<IPython.core.display.Javascript object>"
      ]
     },
     "metadata": {},
     "output_type": "display_data"
    },
    {
     "data": {
      "text/markdown": [
       "<span style=\"color:#33cc33\">Correct:</span> \n",
       "\n",
       "The first five rows of the data does show that several columns have missing values.  You can see this in the \"Street Number Suffix\", \"Proposed Construction Type\" and \"Site Permit\" columns, among others."
      ],
      "text/plain": [
       "Correct: \n",
       "\n",
       "The first five rows of the data does show that several columns have missing values.  You can see this in the \"Street Number Suffix\", \"Proposed Construction Type\" and \"Site Permit\" columns, among others."
      ]
     },
     "metadata": {},
     "output_type": "display_data"
    }
   ],
   "source": [
    "# Check your answer (Run this code cell to receive credit!)\n",
    "q1.check()"
   ]
  },
  {
   "cell_type": "code",
   "execution_count": 5,
   "id": "congressional-johns",
   "metadata": {
    "execution": {
     "iopub.execute_input": "2021-06-18T07:57:47.353099Z",
     "iopub.status.busy": "2021-06-18T07:57:47.352405Z",
     "iopub.status.idle": "2021-06-18T07:57:47.355527Z",
     "shell.execute_reply": "2021-06-18T07:57:47.356011Z",
     "shell.execute_reply.started": "2021-06-18T07:37:01.36303Z"
    },
    "papermill": {
     "duration": 0.029058,
     "end_time": "2021-06-18T07:57:47.356183",
     "exception": false,
     "start_time": "2021-06-18T07:57:47.327125",
     "status": "completed"
    },
    "tags": []
   },
   "outputs": [],
   "source": [
    "# Line below will give you a hint\n",
    "#q1.hint()"
   ]
  },
  {
   "cell_type": "markdown",
   "id": "normal-lighting",
   "metadata": {
    "papermill": {
     "duration": 0.021936,
     "end_time": "2021-06-18T07:57:47.400307",
     "exception": false,
     "start_time": "2021-06-18T07:57:47.378371",
     "status": "completed"
    },
    "tags": []
   },
   "source": [
    "# 2) How many missing data points do we have?\n",
    "\n",
    "What percentage of the values in the dataset are missing?  Your answer should be a number between 0 and 100.  (If 1/4 of the values in the dataset are missing, the answer is 25.)"
   ]
  },
  {
   "cell_type": "code",
   "execution_count": 6,
   "id": "imperial-speed",
   "metadata": {
    "execution": {
     "iopub.execute_input": "2021-06-18T07:57:47.448442Z",
     "iopub.status.busy": "2021-06-18T07:57:47.447828Z",
     "iopub.status.idle": "2021-06-18T07:57:47.878780Z",
     "shell.execute_reply": "2021-06-18T07:57:47.879256Z",
     "shell.execute_reply.started": "2021-06-18T07:37:01.368659Z"
    },
    "papermill": {
     "duration": 0.456784,
     "end_time": "2021-06-18T07:57:47.879468",
     "exception": false,
     "start_time": "2021-06-18T07:57:47.422684",
     "status": "completed"
    },
    "tags": []
   },
   "outputs": [
    {
     "name": "stdout",
     "output_type": "stream",
     "text": [
      "26.26002315058403\n"
     ]
    },
    {
     "data": {
      "application/javascript": [
       "parent.postMessage({\"jupyterEvent\": \"custom.exercise_interaction\", \"data\": {\"outcomeType\": 1, \"valueTowardsCompletion\": 0.16666666666666666, \"interactionType\": 1, \"questionType\": 1, \"questionId\": \"2_PercentMissingValues\", \"learnToolsVersion\": \"0.3.4\", \"failureMessage\": \"\", \"exceptionClass\": \"\", \"trace\": \"\"}}, \"*\")"
      ],
      "text/plain": [
       "<IPython.core.display.Javascript object>"
      ]
     },
     "metadata": {},
     "output_type": "display_data"
    },
    {
     "data": {
      "text/markdown": [
       "<span style=\"color:#33cc33\">Correct</span>"
      ],
      "text/plain": [
       "Correct"
      ]
     },
     "metadata": {},
     "output_type": "display_data"
    }
   ],
   "source": [
    "# TODO: Your code here!\n",
    "missing_values=sf_permits.isnull().sum()\n",
    "total_values=np.product(sf_permits.shape)\n",
    "total_missing_values=missing_values.sum()\n",
    "percent_missing = (total_missing_values/total_values)*100\n",
    "print(percent_missing)\n",
    "\n",
    "# Check your answer\n",
    "q2.check()"
   ]
  },
  {
   "cell_type": "code",
   "execution_count": 7,
   "id": "answering-amino",
   "metadata": {
    "execution": {
     "iopub.execute_input": "2021-06-18T07:57:47.932767Z",
     "iopub.status.busy": "2021-06-18T07:57:47.932089Z",
     "iopub.status.idle": "2021-06-18T07:57:47.935338Z",
     "shell.execute_reply": "2021-06-18T07:57:47.934817Z",
     "shell.execute_reply.started": "2021-06-18T07:37:01.794786Z"
    },
    "papermill": {
     "duration": 0.031445,
     "end_time": "2021-06-18T07:57:47.935502",
     "exception": false,
     "start_time": "2021-06-18T07:57:47.904057",
     "status": "completed"
    },
    "tags": []
   },
   "outputs": [],
   "source": [
    "# Lines below will give you a hint or solution code\n",
    "#q2.hint()\n",
    "#q2.solution()"
   ]
  },
  {
   "cell_type": "markdown",
   "id": "cheap-register",
   "metadata": {
    "papermill": {
     "duration": 0.02352,
     "end_time": "2021-06-18T07:57:47.982855",
     "exception": false,
     "start_time": "2021-06-18T07:57:47.959335",
     "status": "completed"
    },
    "tags": []
   },
   "source": [
    "# 3) Figure out why the data is missing\n",
    "\n",
    "Look at the columns **\"Street Number Suffix\"** and **\"Zipcode\"** from the [San Francisco Building Permits dataset](https://www.kaggle.com/aparnashastry/building-permit-applications-data). Both of these contain missing values. \n",
    "- Which, if either, are missing because they don't exist? \n",
    "- Which, if either, are missing because they weren't recorded?  \n",
    "\n",
    "Once you have an answer, run the code cell below."
   ]
  },
  {
   "cell_type": "code",
   "execution_count": 8,
   "id": "laughing-quantum",
   "metadata": {
    "execution": {
     "iopub.execute_input": "2021-06-18T07:57:48.036687Z",
     "iopub.status.busy": "2021-06-18T07:57:48.035697Z",
     "iopub.status.idle": "2021-06-18T07:57:48.042978Z",
     "shell.execute_reply": "2021-06-18T07:57:48.042267Z",
     "shell.execute_reply.started": "2021-06-18T07:37:01.799478Z"
    },
    "papermill": {
     "duration": 0.03646,
     "end_time": "2021-06-18T07:57:48.043155",
     "exception": false,
     "start_time": "2021-06-18T07:57:48.006695",
     "status": "completed"
    },
    "tags": []
   },
   "outputs": [
    {
     "data": {
      "application/javascript": [
       "parent.postMessage({\"jupyterEvent\": \"custom.exercise_interaction\", \"data\": {\"outcomeType\": 1, \"valueTowardsCompletion\": 0.16666666666666666, \"interactionType\": 1, \"questionType\": 4, \"questionId\": \"3_WhyDataMissing\", \"learnToolsVersion\": \"0.3.4\", \"failureMessage\": \"\", \"exceptionClass\": \"\", \"trace\": \"\"}}, \"*\")"
      ],
      "text/plain": [
       "<IPython.core.display.Javascript object>"
      ]
     },
     "metadata": {},
     "output_type": "display_data"
    },
    {
     "data": {
      "text/markdown": [
       "<span style=\"color:#33cc33\">Correct:</span> \n",
       "\n",
       "If a value in the \"Street Number Suffix\" column is missing, it is likely because it does not exist. If a value in the \"Zipcode\" column is missing, it was not recorded."
      ],
      "text/plain": [
       "Correct: \n",
       "\n",
       "If a value in the \"Street Number Suffix\" column is missing, it is likely because it does not exist. If a value in the \"Zipcode\" column is missing, it was not recorded."
      ]
     },
     "metadata": {},
     "output_type": "display_data"
    }
   ],
   "source": [
    "# Check your answer (Run this code cell to receive credit!)\n",
    "q3.check()"
   ]
  },
  {
   "cell_type": "code",
   "execution_count": 9,
   "id": "honest-mistake",
   "metadata": {
    "execution": {
     "iopub.execute_input": "2021-06-18T07:57:48.098677Z",
     "iopub.status.busy": "2021-06-18T07:57:48.097998Z",
     "iopub.status.idle": "2021-06-18T07:57:48.101454Z",
     "shell.execute_reply": "2021-06-18T07:57:48.100814Z",
     "shell.execute_reply.started": "2021-06-18T07:37:01.814448Z"
    },
    "papermill": {
     "duration": 0.033074,
     "end_time": "2021-06-18T07:57:48.101626",
     "exception": false,
     "start_time": "2021-06-18T07:57:48.068552",
     "status": "completed"
    },
    "tags": []
   },
   "outputs": [],
   "source": [
    "# Line below will give you a hint\n",
    "#q3.hint()"
   ]
  },
  {
   "cell_type": "markdown",
   "id": "theoretical-prescription",
   "metadata": {
    "papermill": {
     "duration": 0.024174,
     "end_time": "2021-06-18T07:57:48.150601",
     "exception": false,
     "start_time": "2021-06-18T07:57:48.126427",
     "status": "completed"
    },
    "tags": []
   },
   "source": [
    "# 4) Drop missing values: rows\n",
    "\n",
    "If you removed all of the rows of `sf_permits` with missing values, how many rows are left?\n",
    "\n",
    "**Note**: Do not change the value of `sf_permits` when checking this.  "
   ]
  },
  {
   "cell_type": "code",
   "execution_count": 10,
   "id": "rotary-terminal",
   "metadata": {
    "execution": {
     "iopub.execute_input": "2021-06-18T07:57:48.205692Z",
     "iopub.status.busy": "2021-06-18T07:57:48.204990Z",
     "iopub.status.idle": "2021-06-18T07:57:48.642603Z",
     "shell.execute_reply": "2021-06-18T07:57:48.643150Z",
     "shell.execute_reply.started": "2021-06-18T07:37:01.822704Z"
    },
    "papermill": {
     "duration": 0.468114,
     "end_time": "2021-06-18T07:57:48.643348",
     "exception": false,
     "start_time": "2021-06-18T07:57:48.175234",
     "status": "completed"
    },
    "tags": []
   },
   "outputs": [
    {
     "data": {
      "text/html": [
       "<div>\n",
       "<style scoped>\n",
       "    .dataframe tbody tr th:only-of-type {\n",
       "        vertical-align: middle;\n",
       "    }\n",
       "\n",
       "    .dataframe tbody tr th {\n",
       "        vertical-align: top;\n",
       "    }\n",
       "\n",
       "    .dataframe thead th {\n",
       "        text-align: right;\n",
       "    }\n",
       "</style>\n",
       "<table border=\"1\" class=\"dataframe\">\n",
       "  <thead>\n",
       "    <tr style=\"text-align: right;\">\n",
       "      <th></th>\n",
       "      <th>Permit Number</th>\n",
       "      <th>Permit Type</th>\n",
       "      <th>Permit Type Definition</th>\n",
       "      <th>Permit Creation Date</th>\n",
       "      <th>Block</th>\n",
       "      <th>Lot</th>\n",
       "      <th>Street Number</th>\n",
       "      <th>Street Number Suffix</th>\n",
       "      <th>Street Name</th>\n",
       "      <th>Street Suffix</th>\n",
       "      <th>...</th>\n",
       "      <th>Existing Construction Type</th>\n",
       "      <th>Existing Construction Type Description</th>\n",
       "      <th>Proposed Construction Type</th>\n",
       "      <th>Proposed Construction Type Description</th>\n",
       "      <th>Site Permit</th>\n",
       "      <th>Supervisor District</th>\n",
       "      <th>Neighborhoods - Analysis Boundaries</th>\n",
       "      <th>Zipcode</th>\n",
       "      <th>Location</th>\n",
       "      <th>Record ID</th>\n",
       "    </tr>\n",
       "  </thead>\n",
       "  <tbody>\n",
       "  </tbody>\n",
       "</table>\n",
       "<p>0 rows × 43 columns</p>\n",
       "</div>"
      ],
      "text/plain": [
       "Empty DataFrame\n",
       "Columns: [Permit Number, Permit Type, Permit Type Definition, Permit Creation Date, Block, Lot, Street Number, Street Number Suffix, Street Name, Street Suffix, Unit, Unit Suffix, Description, Current Status, Current Status Date, Filed Date, Issued Date, Completed Date, First Construction Document Date, Structural Notification, Number of Existing Stories, Number of Proposed Stories, Voluntary Soft-Story Retrofit, Fire Only Permit, Permit Expiration Date, Estimated Cost, Revised Cost, Existing Use, Existing Units, Proposed Use, Proposed Units, Plansets, TIDF Compliance, Existing Construction Type, Existing Construction Type Description, Proposed Construction Type, Proposed Construction Type Description, Site Permit, Supervisor District, Neighborhoods - Analysis Boundaries, Zipcode, Location, Record ID]\n",
       "Index: []\n",
       "\n",
       "[0 rows x 43 columns]"
      ]
     },
     "execution_count": 10,
     "metadata": {},
     "output_type": "execute_result"
    }
   ],
   "source": [
    "# TODO: Your code here!\n",
    "sf_permits.dropna()"
   ]
  },
  {
   "cell_type": "markdown",
   "id": "sudden-recall",
   "metadata": {
    "papermill": {
     "duration": 0.025204,
     "end_time": "2021-06-18T07:57:48.693599",
     "exception": false,
     "start_time": "2021-06-18T07:57:48.668395",
     "status": "completed"
    },
    "tags": []
   },
   "source": [
    "Once you have an answer, run the code cell below."
   ]
  },
  {
   "cell_type": "code",
   "execution_count": 11,
   "id": "educational-screw",
   "metadata": {
    "execution": {
     "iopub.execute_input": "2021-06-18T07:57:48.749177Z",
     "iopub.status.busy": "2021-06-18T07:57:48.748242Z",
     "iopub.status.idle": "2021-06-18T07:57:48.756102Z",
     "shell.execute_reply": "2021-06-18T07:57:48.756736Z",
     "shell.execute_reply.started": "2021-06-18T07:37:02.265733Z"
    },
    "papermill": {
     "duration": 0.037626,
     "end_time": "2021-06-18T07:57:48.756948",
     "exception": false,
     "start_time": "2021-06-18T07:57:48.719322",
     "status": "completed"
    },
    "tags": []
   },
   "outputs": [
    {
     "data": {
      "application/javascript": [
       "parent.postMessage({\"jupyterEvent\": \"custom.exercise_interaction\", \"data\": {\"outcomeType\": 1, \"valueTowardsCompletion\": 0.16666666666666666, \"interactionType\": 1, \"questionType\": 4, \"questionId\": \"4_DropMissingRows\", \"learnToolsVersion\": \"0.3.4\", \"failureMessage\": \"\", \"exceptionClass\": \"\", \"trace\": \"\"}}, \"*\")"
      ],
      "text/plain": [
       "<IPython.core.display.Javascript object>"
      ]
     },
     "metadata": {},
     "output_type": "display_data"
    },
    {
     "data": {
      "text/markdown": [
       "<span style=\"color:#33cc33\">Correct:</span> \n",
       "\n",
       "There are no rows remaining in the dataset!"
      ],
      "text/plain": [
       "Correct: \n",
       "\n",
       "There are no rows remaining in the dataset!"
      ]
     },
     "metadata": {},
     "output_type": "display_data"
    }
   ],
   "source": [
    "# Check your answer (Run this code cell to receive credit!)\n",
    "q4.check()"
   ]
  },
  {
   "cell_type": "code",
   "execution_count": 12,
   "id": "strategic-training",
   "metadata": {
    "execution": {
     "iopub.execute_input": "2021-06-18T07:57:48.815700Z",
     "iopub.status.busy": "2021-06-18T07:57:48.814734Z",
     "iopub.status.idle": "2021-06-18T07:57:48.820533Z",
     "shell.execute_reply": "2021-06-18T07:57:48.819946Z",
     "shell.execute_reply.started": "2021-06-18T07:37:02.276153Z"
    },
    "papermill": {
     "duration": 0.035914,
     "end_time": "2021-06-18T07:57:48.820692",
     "exception": false,
     "start_time": "2021-06-18T07:57:48.784778",
     "status": "completed"
    },
    "tags": []
   },
   "outputs": [],
   "source": [
    "# Line below will give you a hint\n",
    "#q4.hint()"
   ]
  },
  {
   "cell_type": "markdown",
   "id": "directed-custody",
   "metadata": {
    "papermill": {
     "duration": 0.025442,
     "end_time": "2021-06-18T07:57:48.872407",
     "exception": false,
     "start_time": "2021-06-18T07:57:48.846965",
     "status": "completed"
    },
    "tags": []
   },
   "source": [
    "# 5) Drop missing values: columns\n",
    "\n",
    "Now try removing all the columns with empty values.  \n",
    "- Create a new DataFrame called `sf_permits_with_na_dropped` that has all of the columns with empty values removed.  \n",
    "- How many columns were removed from the original `sf_permits` DataFrame? Use this number to set the value of the `dropped_columns` variable below."
   ]
  },
  {
   "cell_type": "code",
   "execution_count": 13,
   "id": "auburn-orange",
   "metadata": {
    "execution": {
     "iopub.execute_input": "2021-06-18T07:57:48.927698Z",
     "iopub.status.busy": "2021-06-18T07:57:48.927041Z",
     "iopub.status.idle": "2021-06-18T07:57:49.373689Z",
     "shell.execute_reply": "2021-06-18T07:57:49.373160Z",
     "shell.execute_reply.started": "2021-06-18T07:37:02.286247Z"
    },
    "papermill": {
     "duration": 0.475663,
     "end_time": "2021-06-18T07:57:49.373847",
     "exception": false,
     "start_time": "2021-06-18T07:57:48.898184",
     "status": "completed"
    },
    "tags": []
   },
   "outputs": [
    {
     "data": {
      "application/javascript": [
       "parent.postMessage({\"jupyterEvent\": \"custom.exercise_interaction\", \"data\": {\"outcomeType\": 1, \"valueTowardsCompletion\": 0.16666666666666666, \"interactionType\": 1, \"questionType\": 1, \"questionId\": \"5_DropMissingCols\", \"learnToolsVersion\": \"0.3.4\", \"failureMessage\": \"\", \"exceptionClass\": \"\", \"trace\": \"\"}}, \"*\")"
      ],
      "text/plain": [
       "<IPython.core.display.Javascript object>"
      ]
     },
     "metadata": {},
     "output_type": "display_data"
    },
    {
     "data": {
      "text/markdown": [
       "<span style=\"color:#33cc33\">Correct</span>"
      ],
      "text/plain": [
       "Correct"
      ]
     },
     "metadata": {},
     "output_type": "display_data"
    }
   ],
   "source": [
    "# TODO: Your code here\n",
    "sf_permits_with_na_dropped =sf_permits.dropna(axis=1)\n",
    "dropped_columns = sf_permits.shape[1] - sf_permits_with_na_dropped.shape[1]\n",
    "\n",
    "# Check your answer\n",
    "q5.check()"
   ]
  },
  {
   "cell_type": "code",
   "execution_count": 14,
   "id": "super-memphis",
   "metadata": {
    "execution": {
     "iopub.execute_input": "2021-06-18T07:57:49.432609Z",
     "iopub.status.busy": "2021-06-18T07:57:49.431892Z",
     "iopub.status.idle": "2021-06-18T07:57:49.434622Z",
     "shell.execute_reply": "2021-06-18T07:57:49.434116Z",
     "shell.execute_reply.started": "2021-06-18T07:37:02.724817Z"
    },
    "papermill": {
     "duration": 0.033976,
     "end_time": "2021-06-18T07:57:49.434767",
     "exception": false,
     "start_time": "2021-06-18T07:57:49.400791",
     "status": "completed"
    },
    "tags": []
   },
   "outputs": [],
   "source": [
    "# Lines below will give you a hint or solution code\n",
    "#q5.hint()\n",
    "#q5.solution()"
   ]
  },
  {
   "cell_type": "markdown",
   "id": "activated-sauce",
   "metadata": {
    "papermill": {
     "duration": 0.027064,
     "end_time": "2021-06-18T07:57:49.488804",
     "exception": false,
     "start_time": "2021-06-18T07:57:49.461740",
     "status": "completed"
    },
    "tags": []
   },
   "source": [
    "# 6) Fill in missing values automatically\n",
    "\n",
    "Try replacing all the NaN's in the `sf_permits` data with the one that comes directly after it and then replacing any remaining NaN's with 0.  Set the result to a new DataFrame `sf_permits_with_na_imputed`."
   ]
  },
  {
   "cell_type": "code",
   "execution_count": 15,
   "id": "anonymous-clearance",
   "metadata": {
    "execution": {
     "iopub.execute_input": "2021-06-18T07:57:49.548683Z",
     "iopub.status.busy": "2021-06-18T07:57:49.548007Z",
     "iopub.status.idle": "2021-06-18T07:57:50.922332Z",
     "shell.execute_reply": "2021-06-18T07:57:50.921858Z",
     "shell.execute_reply.started": "2021-06-18T07:37:02.729675Z"
    },
    "papermill": {
     "duration": 1.406626,
     "end_time": "2021-06-18T07:57:50.922503",
     "exception": false,
     "start_time": "2021-06-18T07:57:49.515877",
     "status": "completed"
    },
    "tags": []
   },
   "outputs": [
    {
     "data": {
      "application/javascript": [
       "parent.postMessage({\"jupyterEvent\": \"custom.exercise_interaction\", \"data\": {\"outcomeType\": 1, \"valueTowardsCompletion\": 0.16666666666666666, \"interactionType\": 1, \"questionType\": 1, \"questionId\": \"6_ImputeAutomatically\", \"learnToolsVersion\": \"0.3.4\", \"failureMessage\": \"\", \"exceptionClass\": \"\", \"trace\": \"\"}}, \"*\")"
      ],
      "text/plain": [
       "<IPython.core.display.Javascript object>"
      ]
     },
     "metadata": {},
     "output_type": "display_data"
    },
    {
     "data": {
      "text/markdown": [
       "<span style=\"color:#33cc33\">Correct</span>"
      ],
      "text/plain": [
       "Correct"
      ]
     },
     "metadata": {},
     "output_type": "display_data"
    }
   ],
   "source": [
    "# TODO: Your code here\n",
    "sf_permits_with_na_imputed = sf_permits.fillna(method=\"bfill\",axis=0).fillna(0)\n",
    "\n",
    "# Check your answer\n",
    "q6.check()"
   ]
  },
  {
   "cell_type": "code",
   "execution_count": 16,
   "id": "metallic-encoding",
   "metadata": {
    "execution": {
     "iopub.execute_input": "2021-06-18T07:57:50.985144Z",
     "iopub.status.busy": "2021-06-18T07:57:50.984483Z",
     "iopub.status.idle": "2021-06-18T07:57:50.987661Z",
     "shell.execute_reply": "2021-06-18T07:57:50.987084Z",
     "shell.execute_reply.started": "2021-06-18T07:37:04.020331Z"
    },
    "papermill": {
     "duration": 0.037152,
     "end_time": "2021-06-18T07:57:50.987807",
     "exception": false,
     "start_time": "2021-06-18T07:57:50.950655",
     "status": "completed"
    },
    "tags": []
   },
   "outputs": [],
   "source": [
    "# Lines below will give you a hint or solution code\n",
    "#q6.hint()\n",
    "#q6.solution()"
   ]
  },
  {
   "cell_type": "markdown",
   "id": "impossible-ground",
   "metadata": {
    "papermill": {
     "duration": 0.027681,
     "end_time": "2021-06-18T07:57:51.043745",
     "exception": false,
     "start_time": "2021-06-18T07:57:51.016064",
     "status": "completed"
    },
    "tags": []
   },
   "source": [
    "# More practice\n",
    "\n",
    "If you're looking for more practice handling missing values:\n",
    "\n",
    "* Check out [this noteboook](https://www.kaggle.com/alexisbcook/missing-values) on handling missing values using scikit-learn's imputer. \n",
    "* Look back at the \"Zipcode\" column in the `sf_permits` dataset, which has some missing values. How would you go about figuring out what the actual zipcode of each address should be? (You might try using another dataset. You can search for datasets about San Fransisco on the [Datasets listing](https://www.kaggle.com/datasets).) \n",
    "\n",
    "# Keep going\n",
    "\n",
    "In the next lesson, learn how to [**apply scaling and normalization**](https://www.kaggle.com/alexisbcook/scaling-and-normalization) to transform your data."
   ]
  },
  {
   "cell_type": "markdown",
   "id": "split-johnston",
   "metadata": {
    "papermill": {
     "duration": 0.02908,
     "end_time": "2021-06-18T07:57:51.101074",
     "exception": false,
     "start_time": "2021-06-18T07:57:51.071994",
     "status": "completed"
    },
    "tags": []
   },
   "source": [
    "---\n",
    "\n",
    "\n",
    "\n",
    "\n",
    "*Have questions or comments? Visit the [Learn Discussion forum](https://www.kaggle.com/learn-forum/172650) to chat with other Learners.*"
   ]
  }
 ],
 "metadata": {
  "kernelspec": {
   "display_name": "Python 3",
   "language": "python",
   "name": "python3"
  },
  "language_info": {
   "codemirror_mode": {
    "name": "ipython",
    "version": 3
   },
   "file_extension": ".py",
   "mimetype": "text/x-python",
   "name": "python",
   "nbconvert_exporter": "python",
   "pygments_lexer": "ipython3",
   "version": "3.7.9"
  },
  "papermill": {
   "default_parameters": {},
   "duration": 18.118071,
   "end_time": "2021-06-18T07:57:51.840043",
   "environment_variables": {},
   "exception": null,
   "input_path": "__notebook__.ipynb",
   "output_path": "__notebook__.ipynb",
   "parameters": {},
   "start_time": "2021-06-18T07:57:33.721972",
   "version": "2.3.2"
  }
 },
 "nbformat": 4,
 "nbformat_minor": 5
}
