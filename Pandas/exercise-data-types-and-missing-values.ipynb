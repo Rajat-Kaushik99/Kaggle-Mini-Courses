{
 "cells": [
  {
   "cell_type": "markdown",
   "id": "seeing-divide",
   "metadata": {
    "papermill": {
     "duration": 0.01395,
     "end_time": "2021-06-14T12:23:25.895261",
     "exception": false,
     "start_time": "2021-06-14T12:23:25.881311",
     "status": "completed"
    },
    "tags": []
   },
   "source": [
    "**This notebook is an exercise in the [Pandas](https://www.kaggle.com/learn/pandas) course.  You can reference the tutorial at [this link](https://www.kaggle.com/residentmario/data-types-and-missing-values).**\n",
    "\n",
    "---\n"
   ]
  },
  {
   "cell_type": "markdown",
   "id": "romance-delhi",
   "metadata": {
    "papermill": {
     "duration": 0.01261,
     "end_time": "2021-06-14T12:23:25.920683",
     "exception": false,
     "start_time": "2021-06-14T12:23:25.908073",
     "status": "completed"
    },
    "tags": []
   },
   "source": [
    "# Introduction\n",
    "\n",
    "Run the following cell to load your data and some utility functions."
   ]
  },
  {
   "cell_type": "code",
   "execution_count": 1,
   "id": "presidential-blanket",
   "metadata": {
    "execution": {
     "iopub.execute_input": "2021-06-14T12:23:25.950274Z",
     "iopub.status.busy": "2021-06-14T12:23:25.949078Z",
     "iopub.status.idle": "2021-06-14T12:23:28.985319Z",
     "shell.execute_reply": "2021-06-14T12:23:28.985983Z",
     "shell.execute_reply.started": "2021-06-14T12:13:22.748646Z"
    },
    "papermill": {
     "duration": 3.052996,
     "end_time": "2021-06-14T12:23:28.986375",
     "exception": false,
     "start_time": "2021-06-14T12:23:25.933379",
     "status": "completed"
    },
    "tags": []
   },
   "outputs": [
    {
     "name": "stdout",
     "output_type": "stream",
     "text": [
      "Setup complete.\n"
     ]
    }
   ],
   "source": [
    "import pandas as pd\n",
    "\n",
    "reviews = pd.read_csv(\"../input/wine-reviews/winemag-data-130k-v2.csv\", index_col=0)\n",
    "\n",
    "from learntools.core import binder; binder.bind(globals())\n",
    "from learntools.pandas.data_types_and_missing_data import *\n",
    "print(\"Setup complete.\")"
   ]
  },
  {
   "cell_type": "markdown",
   "id": "subject-combine",
   "metadata": {
    "papermill": {
     "duration": 0.014334,
     "end_time": "2021-06-14T12:23:29.020319",
     "exception": false,
     "start_time": "2021-06-14T12:23:29.005985",
     "status": "completed"
    },
    "tags": []
   },
   "source": [
    "# Exercises"
   ]
  },
  {
   "cell_type": "markdown",
   "id": "independent-ethernet",
   "metadata": {
    "papermill": {
     "duration": 0.017345,
     "end_time": "2021-06-14T12:23:29.055954",
     "exception": false,
     "start_time": "2021-06-14T12:23:29.038609",
     "status": "completed"
    },
    "tags": []
   },
   "source": [
    "## 1. \n",
    "What is the data type of the `points` column in the dataset?"
   ]
  },
  {
   "cell_type": "code",
   "execution_count": 2,
   "id": "studied-effectiveness",
   "metadata": {
    "execution": {
     "iopub.execute_input": "2021-06-14T12:23:29.093239Z",
     "iopub.status.busy": "2021-06-14T12:23:29.092484Z",
     "iopub.status.idle": "2021-06-14T12:23:29.103418Z",
     "shell.execute_reply": "2021-06-14T12:23:29.102770Z",
     "shell.execute_reply.started": "2021-06-14T12:14:28.795796Z"
    },
    "papermill": {
     "duration": 0.030167,
     "end_time": "2021-06-14T12:23:29.103560",
     "exception": false,
     "start_time": "2021-06-14T12:23:29.073393",
     "status": "completed"
    },
    "tags": []
   },
   "outputs": [
    {
     "data": {
      "application/javascript": [
       "parent.postMessage({\"jupyterEvent\": \"custom.exercise_interaction\", \"data\": {\"outcomeType\": 1, \"valueTowardsCompletion\": 0.25, \"interactionType\": 1, \"questionType\": 1, \"questionId\": \"1_PointsDtype\", \"learnToolsVersion\": \"0.3.4\", \"failureMessage\": \"\", \"exceptionClass\": \"\", \"trace\": \"\"}}, \"*\")"
      ],
      "text/plain": [
       "<IPython.core.display.Javascript object>"
      ]
     },
     "metadata": {},
     "output_type": "display_data"
    },
    {
     "data": {
      "text/markdown": [
       "<span style=\"color:#33cc33\">Correct</span>"
      ],
      "text/plain": [
       "Correct"
      ]
     },
     "metadata": {},
     "output_type": "display_data"
    }
   ],
   "source": [
    "# Your code here\n",
    "dtype =reviews.points.dtype\n",
    "# Check your answer\n",
    "q1.check()"
   ]
  },
  {
   "cell_type": "code",
   "execution_count": 3,
   "id": "linear-centre",
   "metadata": {
    "execution": {
     "iopub.execute_input": "2021-06-14T12:23:29.137869Z",
     "iopub.status.busy": "2021-06-14T12:23:29.137144Z",
     "iopub.status.idle": "2021-06-14T12:23:29.140982Z",
     "shell.execute_reply": "2021-06-14T12:23:29.140363Z",
     "shell.execute_reply.started": "2021-06-14T12:14:30.320175Z"
    },
    "papermill": {
     "duration": 0.023038,
     "end_time": "2021-06-14T12:23:29.141130",
     "exception": false,
     "start_time": "2021-06-14T12:23:29.118092",
     "status": "completed"
    },
    "tags": []
   },
   "outputs": [],
   "source": [
    "#q1.hint()\n",
    "#q1.solution()"
   ]
  },
  {
   "cell_type": "markdown",
   "id": "exact-security",
   "metadata": {
    "papermill": {
     "duration": 0.013732,
     "end_time": "2021-06-14T12:23:29.169024",
     "exception": false,
     "start_time": "2021-06-14T12:23:29.155292",
     "status": "completed"
    },
    "tags": []
   },
   "source": [
    "## 2. \n",
    "Create a Series from entries in the `points` column, but convert the entries to strings. Hint: strings are `str` in native Python."
   ]
  },
  {
   "cell_type": "code",
   "execution_count": 4,
   "id": "partial-discipline",
   "metadata": {
    "execution": {
     "iopub.execute_input": "2021-06-14T12:23:29.359546Z",
     "iopub.status.busy": "2021-06-14T12:23:29.358626Z",
     "iopub.status.idle": "2021-06-14T12:23:29.364170Z",
     "shell.execute_reply": "2021-06-14T12:23:29.363536Z",
     "shell.execute_reply.started": "2021-06-14T12:15:49.659174Z"
    },
    "papermill": {
     "duration": 0.181228,
     "end_time": "2021-06-14T12:23:29.364359",
     "exception": false,
     "start_time": "2021-06-14T12:23:29.183131",
     "status": "completed"
    },
    "tags": []
   },
   "outputs": [
    {
     "data": {
      "application/javascript": [
       "parent.postMessage({\"jupyterEvent\": \"custom.exercise_interaction\", \"data\": {\"outcomeType\": 1, \"valueTowardsCompletion\": 0.25, \"interactionType\": 1, \"questionType\": 1, \"questionId\": \"2_StrPoints\", \"learnToolsVersion\": \"0.3.4\", \"failureMessage\": \"\", \"exceptionClass\": \"\", \"trace\": \"\"}}, \"*\")"
      ],
      "text/plain": [
       "<IPython.core.display.Javascript object>"
      ]
     },
     "metadata": {},
     "output_type": "display_data"
    },
    {
     "data": {
      "text/markdown": [
       "<span style=\"color:#33cc33\">Correct</span>"
      ],
      "text/plain": [
       "Correct"
      ]
     },
     "metadata": {},
     "output_type": "display_data"
    }
   ],
   "source": [
    "point_strings = pd.Series(reviews.points.astype(str))\n",
    "# Check your answer\n",
    "q2.check()"
   ]
  },
  {
   "cell_type": "code",
   "execution_count": 5,
   "id": "resistant-gregory",
   "metadata": {
    "execution": {
     "iopub.execute_input": "2021-06-14T12:23:29.399173Z",
     "iopub.status.busy": "2021-06-14T12:23:29.398332Z",
     "iopub.status.idle": "2021-06-14T12:23:29.401348Z",
     "shell.execute_reply": "2021-06-14T12:23:29.400841Z",
     "shell.execute_reply.started": "2021-06-14T12:15:54.778477Z"
    },
    "papermill": {
     "duration": 0.02185,
     "end_time": "2021-06-14T12:23:29.401491",
     "exception": false,
     "start_time": "2021-06-14T12:23:29.379641",
     "status": "completed"
    },
    "tags": []
   },
   "outputs": [],
   "source": [
    "#q2.hint()\n",
    "#q2.solution()"
   ]
  },
  {
   "cell_type": "markdown",
   "id": "automated-shame",
   "metadata": {
    "papermill": {
     "duration": 0.014778,
     "end_time": "2021-06-14T12:23:29.431677",
     "exception": false,
     "start_time": "2021-06-14T12:23:29.416899",
     "status": "completed"
    },
    "tags": []
   },
   "source": [
    "## 3.\n",
    "Sometimes the price column is null. How many reviews in the dataset are missing a price?"
   ]
  },
  {
   "cell_type": "code",
   "execution_count": 6,
   "id": "armed-arabic",
   "metadata": {
    "execution": {
     "iopub.execute_input": "2021-06-14T12:23:29.467568Z",
     "iopub.status.busy": "2021-06-14T12:23:29.466735Z",
     "iopub.status.idle": "2021-06-14T12:23:29.473165Z",
     "shell.execute_reply": "2021-06-14T12:23:29.473610Z",
     "shell.execute_reply.started": "2021-06-14T12:18:11.537151Z"
    },
    "papermill": {
     "duration": 0.027153,
     "end_time": "2021-06-14T12:23:29.473800",
     "exception": false,
     "start_time": "2021-06-14T12:23:29.446647",
     "status": "completed"
    },
    "tags": []
   },
   "outputs": [
    {
     "data": {
      "application/javascript": [
       "parent.postMessage({\"jupyterEvent\": \"custom.exercise_interaction\", \"data\": {\"outcomeType\": 1, \"valueTowardsCompletion\": 0.25, \"interactionType\": 1, \"questionType\": 1, \"questionId\": \"3_CountMissingPrices\", \"learnToolsVersion\": \"0.3.4\", \"failureMessage\": \"\", \"exceptionClass\": \"\", \"trace\": \"\"}}, \"*\")"
      ],
      "text/plain": [
       "<IPython.core.display.Javascript object>"
      ]
     },
     "metadata": {},
     "output_type": "display_data"
    },
    {
     "data": {
      "text/markdown": [
       "<span style=\"color:#33cc33\">Correct</span>"
      ],
      "text/plain": [
       "Correct"
      ]
     },
     "metadata": {},
     "output_type": "display_data"
    }
   ],
   "source": [
    "n_missing_prices = pd.isnull(reviews.price).sum()\n",
    "# Check your answer\n",
    "q3.check()"
   ]
  },
  {
   "cell_type": "code",
   "execution_count": 7,
   "id": "valued-nelson",
   "metadata": {
    "execution": {
     "iopub.execute_input": "2021-06-14T12:23:29.510604Z",
     "iopub.status.busy": "2021-06-14T12:23:29.509651Z",
     "iopub.status.idle": "2021-06-14T12:23:29.512358Z",
     "shell.execute_reply": "2021-06-14T12:23:29.512828Z",
     "shell.execute_reply.started": "2021-06-14T12:18:17.517182Z"
    },
    "papermill": {
     "duration": 0.0232,
     "end_time": "2021-06-14T12:23:29.513001",
     "exception": false,
     "start_time": "2021-06-14T12:23:29.489801",
     "status": "completed"
    },
    "tags": []
   },
   "outputs": [],
   "source": [
    "#q3.hint()\n",
    "#q3.solution()"
   ]
  },
  {
   "cell_type": "markdown",
   "id": "sitting-johnson",
   "metadata": {
    "papermill": {
     "duration": 0.015358,
     "end_time": "2021-06-14T12:23:29.544265",
     "exception": false,
     "start_time": "2021-06-14T12:23:29.528907",
     "status": "completed"
    },
    "tags": []
   },
   "source": [
    "## 4.\n",
    "What are the most common wine-producing regions? Create a Series counting the number of times each value occurs in the `region_1` field. This field is often missing data, so replace missing values with `Unknown`. Sort in descending order.  Your output should look something like this:\n",
    "\n",
    "```\n",
    "Unknown                    21247\n",
    "Napa Valley                 4480\n",
    "                           ...  \n",
    "Bardolino Superiore            1\n",
    "Primitivo del Tarantino        1\n",
    "Name: region_1, Length: 1230, dtype: int64\n",
    "```"
   ]
  },
  {
   "cell_type": "code",
   "execution_count": 8,
   "id": "enabling-learning",
   "metadata": {
    "execution": {
     "iopub.execute_input": "2021-06-14T12:23:29.592576Z",
     "iopub.status.busy": "2021-06-14T12:23:29.591640Z",
     "iopub.status.idle": "2021-06-14T12:23:29.672374Z",
     "shell.execute_reply": "2021-06-14T12:23:29.671774Z",
     "shell.execute_reply.started": "2021-06-14T12:22:53.739648Z"
    },
    "papermill": {
     "duration": 0.112499,
     "end_time": "2021-06-14T12:23:29.672528",
     "exception": false,
     "start_time": "2021-06-14T12:23:29.560029",
     "status": "completed"
    },
    "tags": []
   },
   "outputs": [
    {
     "data": {
      "application/javascript": [
       "parent.postMessage({\"jupyterEvent\": \"custom.exercise_interaction\", \"data\": {\"outcomeType\": 1, \"valueTowardsCompletion\": 0.25, \"interactionType\": 1, \"questionType\": 2, \"questionId\": \"4_ReviewsPerRegion\", \"learnToolsVersion\": \"0.3.4\", \"failureMessage\": \"\", \"exceptionClass\": \"\", \"trace\": \"\"}}, \"*\")"
      ],
      "text/plain": [
       "<IPython.core.display.Javascript object>"
      ]
     },
     "metadata": {},
     "output_type": "display_data"
    },
    {
     "data": {
      "text/markdown": [
       "<span style=\"color:#33cc33\">Correct</span>"
      ],
      "text/plain": [
       "Correct"
      ]
     },
     "metadata": {},
     "output_type": "display_data"
    }
   ],
   "source": [
    "reviews_per_region = pd.Series(reviews.region_1.fillna(\"Unknown\").value_counts()).sort_values(ascending=False)\n",
    "# Check your answer\n",
    "q4.check()"
   ]
  },
  {
   "cell_type": "code",
   "execution_count": 9,
   "id": "transsexual-struggle",
   "metadata": {
    "execution": {
     "iopub.execute_input": "2021-06-14T12:23:29.711548Z",
     "iopub.status.busy": "2021-06-14T12:23:29.710828Z",
     "iopub.status.idle": "2021-06-14T12:23:29.713146Z",
     "shell.execute_reply": "2021-06-14T12:23:29.714136Z",
     "shell.execute_reply.started": "2021-06-14T12:23:01.115157Z"
    },
    "papermill": {
     "duration": 0.024795,
     "end_time": "2021-06-14T12:23:29.714418",
     "exception": false,
     "start_time": "2021-06-14T12:23:29.689623",
     "status": "completed"
    },
    "tags": []
   },
   "outputs": [],
   "source": [
    "#q4.hint()\n",
    "#q4.solution()"
   ]
  },
  {
   "cell_type": "markdown",
   "id": "surprising-channels",
   "metadata": {
    "papermill": {
     "duration": 0.016648,
     "end_time": "2021-06-14T12:23:29.748308",
     "exception": false,
     "start_time": "2021-06-14T12:23:29.731660",
     "status": "completed"
    },
    "tags": []
   },
   "source": [
    "# Keep going\n",
    "\n",
    "Move on to **[renaming and combining](https://www.kaggle.com/residentmario/renaming-and-combining)**."
   ]
  },
  {
   "cell_type": "markdown",
   "id": "personalized-ordering",
   "metadata": {
    "papermill": {
     "duration": 0.016866,
     "end_time": "2021-06-14T12:23:29.783197",
     "exception": false,
     "start_time": "2021-06-14T12:23:29.766331",
     "status": "completed"
    },
    "tags": []
   },
   "source": [
    "---\n",
    "\n",
    "\n",
    "\n",
    "\n",
    "*Have questions or comments? Visit the [Learn Discussion forum](https://www.kaggle.com/learn-forum/161299) to chat with other Learners.*"
   ]
  }
 ],
 "metadata": {
  "kernelspec": {
   "display_name": "Python 3",
   "language": "python",
   "name": "python3"
  },
  "language_info": {
   "codemirror_mode": {
    "name": "ipython",
    "version": 3
   },
   "file_extension": ".py",
   "mimetype": "text/x-python",
   "name": "python",
   "nbconvert_exporter": "python",
   "pygments_lexer": "ipython3",
   "version": "3.7.9"
  },
  "papermill": {
   "default_parameters": {},
   "duration": 10.966893,
   "end_time": "2021-06-14T12:23:30.409869",
   "environment_variables": {},
   "exception": null,
   "input_path": "__notebook__.ipynb",
   "output_path": "__notebook__.ipynb",
   "parameters": {},
   "start_time": "2021-06-14T12:23:19.442976",
   "version": "2.3.2"
  }
 },
 "nbformat": 4,
 "nbformat_minor": 5
}
