{
 "cells": [
  {
   "cell_type": "markdown",
   "id": "medical-valve",
   "metadata": {
    "papermill": {
     "duration": 0.014403,
     "end_time": "2021-06-18T06:49:28.699857",
     "exception": false,
     "start_time": "2021-06-18T06:49:28.685454",
     "status": "completed"
    },
    "tags": []
   },
   "source": [
    "**This notebook is an exercise in the [Feature Engineering](https://www.kaggle.com/learn/feature-engineering) course.  You can reference the tutorial at [this link](https://www.kaggle.com/ryanholbrook/target-encoding).**\n",
    "\n",
    "---\n"
   ]
  },
  {
   "cell_type": "markdown",
   "id": "partial-salem",
   "metadata": {
    "papermill": {
     "duration": 0.012997,
     "end_time": "2021-06-18T06:49:28.726321",
     "exception": false,
     "start_time": "2021-06-18T06:49:28.713324",
     "status": "completed"
    },
    "tags": []
   },
   "source": [
    "# Introduction #\n",
    "\n",
    "In this exercise, you'll apply target encoding to features in the [*Ames*](https://www.kaggle.com/c/house-prices-advanced-regression-techniques/data) dataset.\n",
    "\n",
    "Run this cell to set everything up!"
   ]
  },
  {
   "cell_type": "code",
   "execution_count": 1,
   "id": "administrative-bishop",
   "metadata": {
    "execution": {
     "iopub.execute_input": "2021-06-18T06:49:28.761308Z",
     "iopub.status.busy": "2021-06-18T06:49:28.760732Z",
     "iopub.status.idle": "2021-06-18T06:49:30.343601Z",
     "shell.execute_reply": "2021-06-18T06:49:30.342878Z",
     "shell.execute_reply.started": "2021-06-18T06:46:38.462122Z"
    },
    "papermill": {
     "duration": 1.603984,
     "end_time": "2021-06-18T06:49:30.343748",
     "exception": false,
     "start_time": "2021-06-18T06:49:28.739764",
     "status": "completed"
    },
    "tags": []
   },
   "outputs": [],
   "source": [
    "# Setup feedback system\n",
    "from learntools.core import binder\n",
    "binder.bind(globals())\n",
    "from learntools.feature_engineering_new.ex6 import *\n",
    "\n",
    "import matplotlib.pyplot as plt\n",
    "import numpy as np\n",
    "import pandas as pd\n",
    "import seaborn as sns\n",
    "import warnings\n",
    "from category_encoders import MEstimateEncoder\n",
    "from sklearn.model_selection import cross_val_score\n",
    "from xgboost import XGBRegressor\n",
    "\n",
    "# Set Matplotlib defaults\n",
    "plt.style.use(\"seaborn-whitegrid\")\n",
    "plt.rc(\"figure\", autolayout=True)\n",
    "plt.rc(\n",
    "    \"axes\",\n",
    "    labelweight=\"bold\",\n",
    "    labelsize=\"large\",\n",
    "    titleweight=\"bold\",\n",
    "    titlesize=14,\n",
    "    titlepad=10,\n",
    ")\n",
    "warnings.filterwarnings('ignore')\n",
    "\n",
    "\n",
    "def score_dataset(X, y, model=XGBRegressor()):\n",
    "    # Label encoding for categoricals\n",
    "    for colname in X.select_dtypes([\"category\", \"object\"]):\n",
    "        X[colname], _ = X[colname].factorize()\n",
    "    # Metric for Housing competition is RMSLE (Root Mean Squared Log Error)\n",
    "    score = cross_val_score(\n",
    "        model, X, y, cv=5, scoring=\"neg_mean_squared_log_error\",\n",
    "    )\n",
    "    score = -1 * score.mean()\n",
    "    score = np.sqrt(score)\n",
    "    return score\n",
    "\n",
    "\n",
    "df = pd.read_csv(\"../input/fe-course-data/ames.csv\")"
   ]
  },
  {
   "cell_type": "markdown",
   "id": "familiar-rescue",
   "metadata": {
    "papermill": {
     "duration": 0.012911,
     "end_time": "2021-06-18T06:49:30.370007",
     "exception": false,
     "start_time": "2021-06-18T06:49:30.357096",
     "status": "completed"
    },
    "tags": []
   },
   "source": [
    "-------------------------------------------------------------------------------\n",
    "\n",
    "First you'll need to choose which features you want to apply a target encoding to. Categorical features with a large number of categories are often good candidates. Run this cell to see how many categories each categorical feature in the *Ames* dataset has."
   ]
  },
  {
   "cell_type": "code",
   "execution_count": 2,
   "id": "chemical-institute",
   "metadata": {
    "execution": {
     "iopub.execute_input": "2021-06-18T06:49:30.406699Z",
     "iopub.status.busy": "2021-06-18T06:49:30.405869Z",
     "iopub.status.idle": "2021-06-18T06:49:30.441715Z",
     "shell.execute_reply": "2021-06-18T06:49:30.441278Z",
     "shell.execute_reply.started": "2021-06-18T06:46:39.771095Z"
    },
    "papermill": {
     "duration": 0.058845,
     "end_time": "2021-06-18T06:49:30.441851",
     "exception": false,
     "start_time": "2021-06-18T06:49:30.383006",
     "status": "completed"
    },
    "tags": []
   },
   "outputs": [
    {
     "data": {
      "text/plain": [
       "MSSubClass       16\n",
       "MSZoning          7\n",
       "Street            2\n",
       "Alley             3\n",
       "LotShape          4\n",
       "LandContour       4\n",
       "Utilities         3\n",
       "LotConfig         5\n",
       "LandSlope         3\n",
       "Neighborhood     28\n",
       "Condition1        9\n",
       "Condition2        8\n",
       "BldgType          5\n",
       "HouseStyle        8\n",
       "OverallQual      10\n",
       "OverallCond       9\n",
       "RoofStyle         6\n",
       "RoofMatl          8\n",
       "Exterior1st      16\n",
       "Exterior2nd      17\n",
       "MasVnrType        5\n",
       "ExterQual         4\n",
       "ExterCond         5\n",
       "Foundation        6\n",
       "BsmtQual          6\n",
       "BsmtCond          6\n",
       "BsmtExposure      5\n",
       "BsmtFinType1      7\n",
       "BsmtFinType2      7\n",
       "Heating           6\n",
       "HeatingQC         5\n",
       "CentralAir        2\n",
       "Electrical        6\n",
       "KitchenQual       5\n",
       "Functional        8\n",
       "FireplaceQu       6\n",
       "GarageType        7\n",
       "GarageFinish      4\n",
       "GarageQual        6\n",
       "GarageCond        6\n",
       "PavedDrive        3\n",
       "PoolQC            5\n",
       "Fence             5\n",
       "MiscFeature       6\n",
       "SaleType         10\n",
       "SaleCondition     6\n",
       "dtype: int64"
      ]
     },
     "execution_count": 2,
     "metadata": {},
     "output_type": "execute_result"
    }
   ],
   "source": [
    "df.select_dtypes([\"object\"]).nunique()"
   ]
  },
  {
   "cell_type": "markdown",
   "id": "meaningful-graphic",
   "metadata": {
    "papermill": {
     "duration": 0.013187,
     "end_time": "2021-06-18T06:49:30.470256",
     "exception": false,
     "start_time": "2021-06-18T06:49:30.457069",
     "status": "completed"
    },
    "tags": []
   },
   "source": [
    "We talked about how the M-estimate encoding uses smoothing to improve estimates for rare categories. To see how many times a category occurs in the dataset, you can use the `value_counts` method. This cell shows the counts for `SaleType`, but you might want to consider others as well."
   ]
  },
  {
   "cell_type": "code",
   "execution_count": 3,
   "id": "completed-century",
   "metadata": {
    "execution": {
     "iopub.execute_input": "2021-06-18T06:49:30.505161Z",
     "iopub.status.busy": "2021-06-18T06:49:30.499802Z",
     "iopub.status.idle": "2021-06-18T06:49:30.509255Z",
     "shell.execute_reply": "2021-06-18T06:49:30.508763Z",
     "shell.execute_reply.started": "2021-06-18T06:46:40.304799Z"
    },
    "papermill": {
     "duration": 0.025832,
     "end_time": "2021-06-18T06:49:30.509438",
     "exception": false,
     "start_time": "2021-06-18T06:49:30.483606",
     "status": "completed"
    },
    "tags": []
   },
   "outputs": [
    {
     "data": {
      "text/plain": [
       "WD       2536\n",
       "New       239\n",
       "COD        87\n",
       "ConLD      26\n",
       "CWD        12\n",
       "ConLI       9\n",
       "ConLw       8\n",
       "Oth         7\n",
       "Con         5\n",
       "VWD         1\n",
       "Name: SaleType, dtype: int64"
      ]
     },
     "execution_count": 3,
     "metadata": {},
     "output_type": "execute_result"
    }
   ],
   "source": [
    "df[\"SaleType\"].value_counts()"
   ]
  },
  {
   "cell_type": "markdown",
   "id": "mediterranean-steering",
   "metadata": {
    "papermill": {
     "duration": 0.014389,
     "end_time": "2021-06-18T06:49:30.537923",
     "exception": false,
     "start_time": "2021-06-18T06:49:30.523534",
     "status": "completed"
    },
    "tags": []
   },
   "source": [
    "# 1) Choose Features for Encoding\n",
    "\n",
    "Which features did you identify for target encoding? After you've thought about your answer, run the next cell for some discussion."
   ]
  },
  {
   "cell_type": "code",
   "execution_count": 4,
   "id": "abandoned-america",
   "metadata": {
    "execution": {
     "iopub.execute_input": "2021-06-18T06:49:30.570940Z",
     "iopub.status.busy": "2021-06-18T06:49:30.569994Z",
     "iopub.status.idle": "2021-06-18T06:49:30.576651Z",
     "shell.execute_reply": "2021-06-18T06:49:30.577062Z",
     "shell.execute_reply.started": "2021-06-18T06:46:46.716847Z"
    },
    "papermill": {
     "duration": 0.024774,
     "end_time": "2021-06-18T06:49:30.577246",
     "exception": false,
     "start_time": "2021-06-18T06:49:30.552472",
     "status": "completed"
    },
    "tags": []
   },
   "outputs": [
    {
     "data": {
      "application/javascript": [
       "parent.postMessage({\"jupyterEvent\": \"custom.exercise_interaction\", \"data\": {\"outcomeType\": 1, \"valueTowardsCompletion\": 0.3333333333333333, \"interactionType\": 1, \"questionType\": 4, \"questionId\": \"1_Q1\", \"learnToolsVersion\": \"0.3.4\", \"failureMessage\": \"\", \"exceptionClass\": \"\", \"trace\": \"\"}}, \"*\")"
      ],
      "text/plain": [
       "<IPython.core.display.Javascript object>"
      ]
     },
     "metadata": {},
     "output_type": "display_data"
    },
    {
     "data": {
      "text/markdown": [
       "<span style=\"color:#33cc33\">Correct:</span> \n",
       "\n",
       " The `Neighborhood` feature looks promising. It has the most categories of any feature, and several categories are rare. Others that could be worth considering are `SaleType`, `MSSubClass`, `Exterior1st`, `Exterior2nd`. In fact, almost any of the nominal features would be worth trying because of the prevalence of rare categories."
      ],
      "text/plain": [
       "Correct: \n",
       "\n",
       " The `Neighborhood` feature looks promising. It has the most categories of any feature, and several categories are rare. Others that could be worth considering are `SaleType`, `MSSubClass`, `Exterior1st`, `Exterior2nd`. In fact, almost any of the nominal features would be worth trying because of the prevalence of rare categories."
      ]
     },
     "metadata": {},
     "output_type": "display_data"
    }
   ],
   "source": [
    "# View the solution (Run this cell to receive credit!)\n",
    "q_1.check()"
   ]
  },
  {
   "cell_type": "markdown",
   "id": "regulation-introduction",
   "metadata": {
    "papermill": {
     "duration": 0.014467,
     "end_time": "2021-06-18T06:49:30.606411",
     "exception": false,
     "start_time": "2021-06-18T06:49:30.591944",
     "status": "completed"
    },
    "tags": []
   },
   "source": [
    "-------------------------------------------------------------------------------\n",
    "\n",
    "Now you'll apply a target encoding to your choice of feature. As we discussed in the tutorial, to avoid overfitting, we need to fit the encoder on data heldout from the training set. Run this cell to create the encoding and training splits:"
   ]
  },
  {
   "cell_type": "code",
   "execution_count": 5,
   "id": "downtown-syria",
   "metadata": {
    "execution": {
     "iopub.execute_input": "2021-06-18T06:49:30.639048Z",
     "iopub.status.busy": "2021-06-18T06:49:30.638187Z",
     "iopub.status.idle": "2021-06-18T06:49:30.647811Z",
     "shell.execute_reply": "2021-06-18T06:49:30.647304Z",
     "shell.execute_reply.started": "2021-06-18T06:46:48.332492Z"
    },
    "lines_to_next_cell": 2,
    "papermill": {
     "duration": 0.026886,
     "end_time": "2021-06-18T06:49:30.647934",
     "exception": false,
     "start_time": "2021-06-18T06:49:30.621048",
     "status": "completed"
    },
    "tags": []
   },
   "outputs": [],
   "source": [
    "# Encoding split\n",
    "X_encode = df.sample(frac=0.20, random_state=0)\n",
    "y_encode = X_encode.pop(\"SalePrice\")\n",
    "\n",
    "# Training split\n",
    "X_pretrain = df.drop(X_encode.index)\n",
    "y_train = X_pretrain.pop(\"SalePrice\")"
   ]
  },
  {
   "cell_type": "markdown",
   "id": "working-providence",
   "metadata": {
    "papermill": {
     "duration": 0.015249,
     "end_time": "2021-06-18T06:49:30.678059",
     "exception": false,
     "start_time": "2021-06-18T06:49:30.662810",
     "status": "completed"
    },
    "tags": []
   },
   "source": [
    "# 2) Apply M-Estimate Encoding\n",
    "\n",
    "Apply a target encoding to your choice of categorical features. Also choose a value for the smoothing parameter `m` (any value is okay for a correct answer)."
   ]
  },
  {
   "cell_type": "code",
   "execution_count": 6,
   "id": "young-blink",
   "metadata": {
    "execution": {
     "iopub.execute_input": "2021-06-18T06:49:30.712426Z",
     "iopub.status.busy": "2021-06-18T06:49:30.711528Z",
     "iopub.status.idle": "2021-06-18T06:49:30.779499Z",
     "shell.execute_reply": "2021-06-18T06:49:30.779923Z",
     "shell.execute_reply.started": "2021-06-18T06:48:24.259124Z"
    },
    "lines_to_next_cell": 0,
    "papermill": {
     "duration": 0.086707,
     "end_time": "2021-06-18T06:49:30.780081",
     "exception": false,
     "start_time": "2021-06-18T06:49:30.693374",
     "status": "completed"
    },
    "tags": []
   },
   "outputs": [
    {
     "data": {
      "application/javascript": [
       "parent.postMessage({\"jupyterEvent\": \"custom.exercise_interaction\", \"data\": {\"outcomeType\": 1, \"valueTowardsCompletion\": 0.3333333333333333, \"interactionType\": 1, \"questionType\": 2, \"questionId\": \"2_Q2\", \"learnToolsVersion\": \"0.3.4\", \"failureMessage\": \"\", \"exceptionClass\": \"\", \"trace\": \"\"}}, \"*\")"
      ],
      "text/plain": [
       "<IPython.core.display.Javascript object>"
      ]
     },
     "metadata": {},
     "output_type": "display_data"
    },
    {
     "data": {
      "text/markdown": [
       "<span style=\"color:#33cc33\">Correct</span>"
      ],
      "text/plain": [
       "Correct"
      ]
     },
     "metadata": {},
     "output_type": "display_data"
    }
   ],
   "source": [
    "# YOUR CODE HERE: Create the MEstimateEncoder\n",
    "# Choose a set of features to encode and a value for m\n",
    "encoder = MEstimateEncoder(\n",
    "    cols=[\"SaleType\"],\n",
    "    m=0.8,\n",
    ")\n",
    "\n",
    "\n",
    "# Fit the encoder on the encoding split\n",
    "encoder.fit(X_encode, y_encode)\n",
    "\n",
    "# Encode the training split\n",
    "X_train = encoder.transform(X_pretrain, y_train)\n",
    "\n",
    "\n",
    "# Check your answer\n",
    "q_2.check()"
   ]
  },
  {
   "cell_type": "code",
   "execution_count": 7,
   "id": "equivalent-purpose",
   "metadata": {
    "execution": {
     "iopub.execute_input": "2021-06-18T06:49:30.815710Z",
     "iopub.status.busy": "2021-06-18T06:49:30.814848Z",
     "iopub.status.idle": "2021-06-18T06:49:30.817866Z",
     "shell.execute_reply": "2021-06-18T06:49:30.818306Z",
     "shell.execute_reply.started": "2021-06-18T06:48:28.813752Z"
    },
    "lines_to_next_cell": 0,
    "papermill": {
     "duration": 0.02239,
     "end_time": "2021-06-18T06:49:30.818456",
     "exception": false,
     "start_time": "2021-06-18T06:49:30.796066",
     "status": "completed"
    },
    "tags": []
   },
   "outputs": [],
   "source": [
    "# Lines below will give you a hint or solution code\n",
    "#q_2.hint()\n",
    "#q_2.solution()"
   ]
  },
  {
   "cell_type": "code",
   "execution_count": 8,
   "id": "stone-hungary",
   "metadata": {
    "execution": {
     "iopub.execute_input": "2021-06-18T06:49:30.854297Z",
     "iopub.status.busy": "2021-06-18T06:49:30.853358Z",
     "iopub.status.idle": "2021-06-18T06:49:31.149783Z",
     "shell.execute_reply": "2021-06-18T06:49:31.149299Z",
     "shell.execute_reply.started": "2021-06-18T06:48:29.536290Z"
    },
    "papermill": {
     "duration": 0.315684,
     "end_time": "2021-06-18T06:49:31.149914",
     "exception": false,
     "start_time": "2021-06-18T06:49:30.834230",
     "status": "completed"
    },
    "tags": []
   },
   "outputs": [
    {
     "data": {
      "image/png": "[encoded data removed]",
      "text/plain": [
       "<Figure size 540x360 with 1 Axes>"
      ]
     },
     "metadata": {},
     "output_type": "display_data"
    }
   ],
   "source": [
    "feature = encoder.cols\n",
    "\n",
    "plt.figure(dpi=90)\n",
    "ax = sns.distplot(y_train, kde=True, hist=False)\n",
    "ax = sns.distplot(X_train[feature], color='r', ax=ax, hist=True, kde=False, norm_hist=True)\n",
    "ax.set_xlabel(\"SalePrice\");"
   ]
  },
  {
   "cell_type": "markdown",
   "id": "honest-ranking",
   "metadata": {
    "papermill": {
     "duration": 0.015924,
     "end_time": "2021-06-18T06:49:31.182195",
     "exception": false,
     "start_time": "2021-06-18T06:49:31.166271",
     "status": "completed"
    },
    "tags": []
   },
   "source": [
    "From the distribution plots, does it seem like the encoding is informative?\n",
    "\n",
    "And this cell will show you the score of the encoded set compared to the original set:"
   ]
  },
  {
   "cell_type": "code",
   "execution_count": 9,
   "id": "creative-dispatch",
   "metadata": {
    "execution": {
     "iopub.execute_input": "2021-06-18T06:49:31.222284Z",
     "iopub.status.busy": "2021-06-18T06:49:31.219047Z",
     "iopub.status.idle": "2021-06-18T06:49:36.460120Z",
     "shell.execute_reply": "2021-06-18T06:49:36.458763Z",
     "shell.execute_reply.started": "2021-06-18T06:48:32.249086Z"
    },
    "papermill": {
     "duration": 5.261847,
     "end_time": "2021-06-18T06:49:36.460320",
     "exception": false,
     "start_time": "2021-06-18T06:49:31.198473",
     "status": "completed"
    },
    "tags": []
   },
   "outputs": [
    {
     "name": "stdout",
     "output_type": "stream",
     "text": [
      "Baseline Score: 0.1428 RMSLE\n",
      "Score with Encoding: 0.1455 RMSLE\n"
     ]
    }
   ],
   "source": [
    "X = df.copy()\n",
    "y = X.pop(\"SalePrice\")\n",
    "score_base = score_dataset(X, y)\n",
    "score_new = score_dataset(X_train, y_train)\n",
    "\n",
    "print(f\"Baseline Score: {score_base:.4f} RMSLE\")\n",
    "print(f\"Score with Encoding: {score_new:.4f} RMSLE\")"
   ]
  },
  {
   "cell_type": "markdown",
   "id": "partial-trader",
   "metadata": {
    "papermill": {
     "duration": 0.016076,
     "end_time": "2021-06-18T06:49:36.493687",
     "exception": false,
     "start_time": "2021-06-18T06:49:36.477611",
     "status": "completed"
    },
    "tags": []
   },
   "source": [
    "Do you think that target encoding was worthwhile in this case? Depending on which feature or features you chose, you may have ended up with a score significantly worse than the baseline. In that case, it's likely the extra information gained by the encoding couldn't make up for the loss of data used for the encoding."
   ]
  },
  {
   "cell_type": "markdown",
   "id": "positive-hanging",
   "metadata": {
    "papermill": {
     "duration": 0.01605,
     "end_time": "2021-06-18T06:49:36.526022",
     "exception": false,
     "start_time": "2021-06-18T06:49:36.509972",
     "status": "completed"
    },
    "tags": []
   },
   "source": [
    "-------------------------------------------------------------------------------\n",
    "\n",
    "In this question, you'll explore the problem of overfitting with target encodings. This will illustrate this importance of training fitting target encoders on data held-out from the training set.\n",
    "\n",
    "So let's see what happens when we fit the encoder and the model on the *same* dataset. To emphasize how dramatic the overfitting can be, we'll mean-encode a feature that should have no relationship with `SalePrice`, a count: `0, 1, 2, 3, 4, 5, ...`."
   ]
  },
  {
   "cell_type": "code",
   "execution_count": 10,
   "id": "renewable-detector",
   "metadata": {
    "execution": {
     "iopub.execute_input": "2021-06-18T06:49:36.564663Z",
     "iopub.status.busy": "2021-06-18T06:49:36.564048Z",
     "iopub.status.idle": "2021-06-18T06:49:39.334683Z",
     "shell.execute_reply": "2021-06-18T06:49:39.333890Z",
     "shell.execute_reply.started": "2021-06-18T06:48:50.898975Z"
    },
    "papermill": {
     "duration": 2.792511,
     "end_time": "2021-06-18T06:49:39.334852",
     "exception": false,
     "start_time": "2021-06-18T06:49:36.542341",
     "status": "completed"
    },
    "tags": []
   },
   "outputs": [
    {
     "name": "stdout",
     "output_type": "stream",
     "text": [
      "Score: 0.0291 RMSLE\n"
     ]
    }
   ],
   "source": [
    "# Try experimenting with the smoothing parameter m\n",
    "# Try 0, 1, 5, 50\n",
    "m = 5\n",
    "\n",
    "X = df.copy()\n",
    "y = X.pop('SalePrice')\n",
    "\n",
    "# Create an uninformative feature\n",
    "X[\"Count\"] = range(len(X))\n",
    "X[\"Count\"][1] = 0  # actually need one duplicate value to circumvent error-checking in MEstimateEncoder\n",
    "\n",
    "# fit and transform on the same dataset\n",
    "encoder = MEstimateEncoder(cols=\"Count\", m=m)\n",
    "X = encoder.fit_transform(X, y)\n",
    "\n",
    "# Results\n",
    "score =  score_dataset(X, y)\n",
    "print(f\"Score: {score:.4f} RMSLE\")"
   ]
  },
  {
   "cell_type": "markdown",
   "id": "advanced-mortality",
   "metadata": {
    "papermill": {
     "duration": 0.016453,
     "end_time": "2021-06-18T06:49:39.368392",
     "exception": false,
     "start_time": "2021-06-18T06:49:39.351939",
     "status": "completed"
    },
    "tags": []
   },
   "source": [
    "Almost a perfect score!"
   ]
  },
  {
   "cell_type": "code",
   "execution_count": 11,
   "id": "through-stockholm",
   "metadata": {
    "execution": {
     "iopub.execute_input": "2021-06-18T06:49:39.422833Z",
     "iopub.status.busy": "2021-06-18T06:49:39.420355Z",
     "iopub.status.idle": "2021-06-18T06:49:39.660031Z",
     "shell.execute_reply": "2021-06-18T06:49:39.659350Z",
     "shell.execute_reply.started": "2021-06-18T06:48:57.578503Z"
    },
    "papermill": {
     "duration": 0.275197,
     "end_time": "2021-06-18T06:49:39.660162",
     "exception": false,
     "start_time": "2021-06-18T06:49:39.384965",
     "status": "completed"
    },
    "tags": []
   },
   "outputs": [
    {
     "data": {
      "image/png": "[encoded data removed]",
      "text/plain": [
       "<Figure size 540x360 with 1 Axes>"
      ]
     },
     "metadata": {},
     "output_type": "display_data"
    }
   ],
   "source": [
    "plt.figure(dpi=90)\n",
    "ax = sns.distplot(y, kde=True, hist=False)\n",
    "ax = sns.distplot(X[\"Count\"], color='r', ax=ax, hist=True, kde=False, norm_hist=True)\n",
    "ax.set_xlabel(\"SalePrice\");"
   ]
  },
  {
   "cell_type": "markdown",
   "id": "bacterial-fantasy",
   "metadata": {
    "papermill": {
     "duration": 0.017,
     "end_time": "2021-06-18T06:49:39.694600",
     "exception": false,
     "start_time": "2021-06-18T06:49:39.677600",
     "status": "completed"
    },
    "tags": []
   },
   "source": [
    "And the distributions are almost exactly the same, too.\n",
    "\n",
    "# 3) Overfitting with Target Encoders\n",
    "\n",
    "Based on your understanding of how mean-encoding works, can you explain how XGBoost was able to get an almost a perfect fit after mean-encoding the count feature?"
   ]
  },
  {
   "cell_type": "code",
   "execution_count": 12,
   "id": "conscious-strip",
   "metadata": {
    "execution": {
     "iopub.execute_input": "2021-06-18T06:49:39.733852Z",
     "iopub.status.busy": "2021-06-18T06:49:39.733037Z",
     "iopub.status.idle": "2021-06-18T06:49:39.738591Z",
     "shell.execute_reply": "2021-06-18T06:49:39.738065Z",
     "shell.execute_reply.started": "2021-06-18T06:49:03.349322Z"
    },
    "lines_to_next_cell": 0,
    "papermill": {
     "duration": 0.026955,
     "end_time": "2021-06-18T06:49:39.738716",
     "exception": false,
     "start_time": "2021-06-18T06:49:39.711761",
     "status": "completed"
    },
    "tags": []
   },
   "outputs": [
    {
     "data": {
      "application/javascript": [
       "parent.postMessage({\"jupyterEvent\": \"custom.exercise_interaction\", \"data\": {\"outcomeType\": 1, \"valueTowardsCompletion\": 0.3333333333333333, \"interactionType\": 1, \"questionType\": 4, \"questionId\": \"3_Q3\", \"learnToolsVersion\": \"0.3.4\", \"failureMessage\": \"\", \"exceptionClass\": \"\", \"trace\": \"\"}}, \"*\")"
      ],
      "text/plain": [
       "<IPython.core.display.Javascript object>"
      ]
     },
     "metadata": {},
     "output_type": "display_data"
    },
    {
     "data": {
      "text/markdown": [
       "<span style=\"color:#33cc33\">Correct:</span> \n",
       "\n",
       "\n",
       "Since `Count` never has any duplicate values, the mean-encoded `Count` is essentially an exact copy of the target. In other words, mean-encoding turned a completely meaningless feature into a perfect feature.\n",
       "\n",
       "Now, the only reason this worked is because we trained XGBoost on the same set we used to train the encoder. If we had used a hold-out set instead, none of this \"fake\" encoding would have transferred to the training data.\n",
       "\n",
       "The lesson is that when using a target encoder it's very important to use separate data sets for training the encoder and training the model. Otherwise the results can be very disappointing!\n"
      ],
      "text/plain": [
       "Correct: \n",
       "\n",
       "\n",
       "Since `Count` never has any duplicate values, the mean-encoded `Count` is essentially an exact copy of the target. In other words, mean-encoding turned a completely meaningless feature into a perfect feature.\n",
       "\n",
       "Now, the only reason this worked is because we trained XGBoost on the same set we used to train the encoder. If we had used a hold-out set instead, none of this \"fake\" encoding would have transferred to the training data.\n",
       "\n",
       "The lesson is that when using a target encoder it's very important to use separate data sets for training the encoder and training the model. Otherwise the results can be very disappointing!"
      ]
     },
     "metadata": {},
     "output_type": "display_data"
    }
   ],
   "source": [
    "# View the solution (Run this cell to receive credit!)\n",
    "q_3.check()"
   ]
  },
  {
   "cell_type": "code",
   "execution_count": 13,
   "id": "israeli-battlefield",
   "metadata": {
    "execution": {
     "iopub.execute_input": "2021-06-18T06:49:39.777624Z",
     "iopub.status.busy": "2021-06-18T06:49:39.777071Z",
     "iopub.status.idle": "2021-06-18T06:49:39.780061Z",
     "shell.execute_reply": "2021-06-18T06:49:39.780568Z",
     "shell.execute_reply.started": "2021-06-18T06:49:03.723710Z"
    },
    "papermill": {
     "duration": 0.023886,
     "end_time": "2021-06-18T06:49:39.780714",
     "exception": false,
     "start_time": "2021-06-18T06:49:39.756828",
     "status": "completed"
    },
    "tags": []
   },
   "outputs": [],
   "source": [
    "# Uncomment this if you'd like a hint before seeing the answer\n",
    "#q_3.hint()"
   ]
  },
  {
   "cell_type": "markdown",
   "id": "involved-screening",
   "metadata": {
    "papermill": {
     "duration": 0.017663,
     "end_time": "2021-06-18T06:49:39.816369",
     "exception": false,
     "start_time": "2021-06-18T06:49:39.798706",
     "status": "completed"
    },
    "tags": []
   },
   "source": [
    "# The End #\n",
    "\n",
    "That's it for *Feature Engineering*! We hope you enjoyed your time with us.\n",
    "\n",
    "Now, are you ready to try out your new skills? Now would be a great time to join our [Housing Prices](https://www.kaggle.com/c/house-prices-advanced-regression-techniques) Getting Started competition. We've even prepared a [Bonus Lesson]() that collects all the work we've done together into a starter notebook.\n",
    "\n",
    "# References #\n",
    "Here are some great resources you might like to consult for more information. They all played a part in shaping this course:\n",
    "- *The Art of Feature Engineering*, a book by Pablo Duboue.\n",
    "- *An Empirical Analysis of Feature Engineering for Predictive Modeling*, an article by Jeff Heaton.\n",
    "- *Feature Engineering for Machine Learning*, a book by Alice Zheng and Amanda Casari. The tutorial on clustering was inspired by this excellent book.\n",
    "- *Feature Engineering and Selection*, a book by Max Kuhn and Kjell Johnson."
   ]
  },
  {
   "cell_type": "markdown",
   "id": "charming-institute",
   "metadata": {
    "papermill": {
     "duration": 0.017569,
     "end_time": "2021-06-18T06:49:39.851912",
     "exception": false,
     "start_time": "2021-06-18T06:49:39.834343",
     "status": "completed"
    },
    "tags": []
   },
   "source": [
    "---\n",
    "\n",
    "\n",
    "\n",
    "\n",
    "*Have questions or comments? Visit the [Learn Discussion forum](https://www.kaggle.com/learn-forum/221677) to chat with other Learners.*"
   ]
  }
 ],
 "metadata": {
  "kernelspec": {
   "display_name": "Python 3",
   "language": "python",
   "name": "python3"
  },
  "language_info": {
   "codemirror_mode": {
    "name": "ipython",
    "version": 3
   },
   "file_extension": ".py",
   "mimetype": "text/x-python",
   "name": "python",
   "nbconvert_exporter": "python",
   "pygments_lexer": "ipython3",
   "version": "3.7.9"
  },
  "papermill": {
   "default_parameters": {},
   "duration": 16.913117,
   "end_time": "2021-06-18T06:49:40.478625",
   "environment_variables": {},
   "exception": null,
   "input_path": "__notebook__.ipynb",
   "output_path": "__notebook__.ipynb",
   "parameters": {},
   "start_time": "2021-06-18T06:49:23.565508",
   "version": "2.3.2"
  }
 },
 "nbformat": 4,
 "nbformat_minor": 5
}
