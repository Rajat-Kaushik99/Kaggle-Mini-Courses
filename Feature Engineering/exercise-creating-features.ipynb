{
 "cells": [
  {
   "cell_type": "markdown",
   "id": "twenty-stationery",
   "metadata": {
    "papermill": {
     "duration": 0.01803,
     "end_time": "2021-06-18T05:55:28.698643",
     "exception": false,
     "start_time": "2021-06-18T05:55:28.680613",
     "status": "completed"
    },
    "tags": []
   },
   "source": [
    "**This notebook is an exercise in the [Feature Engineering](https://www.kaggle.com/learn/feature-engineering) course.  You can reference the tutorial at [this link](https://www.kaggle.com/ryanholbrook/creating-features).**\n",
    "\n",
    "---\n"
   ]
  },
  {
   "cell_type": "markdown",
   "id": "valid-wisconsin",
   "metadata": {
    "papermill": {
     "duration": 0.016988,
     "end_time": "2021-06-18T05:55:28.733657",
     "exception": false,
     "start_time": "2021-06-18T05:55:28.716669",
     "status": "completed"
    },
    "tags": []
   },
   "source": [
    "# Introduction #\n",
    "\n",
    "In this exercise you'll start developing the features you identified in Exercise 2 as having the most potential. As you work through this exercise, you might take a moment to look at the data documentation again and consider whether the features we're creating make sense from a real-world perspective, and whether there are any useful combinations that stand out to you.\n",
    "\n",
    "Run this cell to set everything up!"
   ]
  },
  {
   "cell_type": "code",
   "execution_count": 1,
   "id": "strange-spectacular",
   "metadata": {
    "execution": {
     "iopub.execute_input": "2021-06-18T05:55:28.775138Z",
     "iopub.status.busy": "2021-06-18T05:55:28.773921Z",
     "iopub.status.idle": "2021-06-18T05:55:30.554835Z",
     "shell.execute_reply": "2021-06-18T05:55:30.554016Z",
     "shell.execute_reply.started": "2021-06-18T05:48:09.313276Z"
    },
    "papermill": {
     "duration": 1.800997,
     "end_time": "2021-06-18T05:55:30.555020",
     "exception": false,
     "start_time": "2021-06-18T05:55:28.754023",
     "status": "completed"
    },
    "tags": []
   },
   "outputs": [],
   "source": [
    "# Setup feedback system\n",
    "from learntools.core import binder\n",
    "binder.bind(globals())\n",
    "from learntools.feature_engineering_new.ex3 import *\n",
    "\n",
    "import numpy as np\n",
    "import pandas as pd\n",
    "from sklearn.model_selection import cross_val_score\n",
    "from xgboost import XGBRegressor\n",
    "\n",
    "\n",
    "def score_dataset(X, y, model=XGBRegressor()):\n",
    "    # Label encoding for categoricals\n",
    "    for colname in X.select_dtypes([\"category\", \"object\"]):\n",
    "        X[colname], _ = X[colname].factorize()\n",
    "    # Metric for Housing competition is RMSLE (Root Mean Squared Log Error)\n",
    "    score = cross_val_score(\n",
    "        model, X, y, cv=5, scoring=\"neg_mean_squared_log_error\",\n",
    "    )\n",
    "    score = -1 * score.mean()\n",
    "    score = np.sqrt(score)\n",
    "    return score\n",
    "\n",
    "\n",
    "# Prepare data\n",
    "df = pd.read_csv(\"../input/fe-course-data/ames.csv\")\n",
    "X = df.copy()\n",
    "y = X.pop(\"SalePrice\")"
   ]
  },
  {
   "cell_type": "markdown",
   "id": "charitable-istanbul",
   "metadata": {
    "papermill": {
     "duration": 0.017382,
     "end_time": "2021-06-18T05:55:30.589392",
     "exception": false,
     "start_time": "2021-06-18T05:55:30.572010",
     "status": "completed"
    },
    "tags": []
   },
   "source": [
    "-------------------------------------------------------------------------------\n",
    "\n",
    "Let's start with a few mathematical combinations. We'll focus on features describing areas -- having the same units (square-feet) makes it easy to combine them in sensible ways. Since we're using XGBoost (a tree-based model), we'll focus on ratios and sums.\n",
    "\n",
    "# 1) Create Mathematical Transforms\n",
    "\n",
    "Create the following features:\n",
    "\n",
    "- `LivLotRatio`: the ratio of `GrLivArea` to `LotArea`\n",
    "- `Spaciousness`: the sum of `FirstFlrSF` and `SecondFlrSF` divided by `TotRmsAbvGrd`\n",
    "- `TotalOutsideSF`: the sum of `WoodDeckSF`, `OpenPorchSF`, `EnclosedPorch`, `Threeseasonporch`, and `ScreenPorch`"
   ]
  },
  {
   "cell_type": "code",
   "execution_count": 2,
   "id": "instructional-desperate",
   "metadata": {
    "execution": {
     "iopub.execute_input": "2021-06-18T05:55:30.633776Z",
     "iopub.status.busy": "2021-06-18T05:55:30.633016Z",
     "iopub.status.idle": "2021-06-18T05:55:30.668370Z",
     "shell.execute_reply": "2021-06-18T05:55:30.667786Z",
     "shell.execute_reply.started": "2021-06-18T05:52:16.661463Z"
    },
    "lines_to_next_cell": 0,
    "papermill": {
     "duration": 0.061448,
     "end_time": "2021-06-18T05:55:30.668577",
     "exception": false,
     "start_time": "2021-06-18T05:55:30.607129",
     "status": "completed"
    },
    "tags": []
   },
   "outputs": [
    {
     "data": {
      "application/javascript": [
       "parent.postMessage({\"jupyterEvent\": \"custom.exercise_interaction\", \"data\": {\"outcomeType\": 1, \"valueTowardsCompletion\": 0.2, \"interactionType\": 1, \"questionType\": 2, \"questionId\": \"1_Q1\", \"learnToolsVersion\": \"0.3.4\", \"failureMessage\": \"\", \"exceptionClass\": \"\", \"trace\": \"\"}}, \"*\")"
      ],
      "text/plain": [
       "<IPython.core.display.Javascript object>"
      ]
     },
     "metadata": {},
     "output_type": "display_data"
    },
    {
     "data": {
      "text/markdown": [
       "<span style=\"color:#33cc33\">Correct</span>"
      ],
      "text/plain": [
       "Correct"
      ]
     },
     "metadata": {},
     "output_type": "display_data"
    }
   ],
   "source": [
    "# YOUR CODE HERE\n",
    "X_1 = pd.DataFrame()  # dataframe to hold new features\n",
    "\n",
    "X_1[\"LivLotRatio\"] = df[\"GrLivArea\"]/df[\"LotArea\"]\n",
    "X_1[\"Spaciousness\"] = (df[\"FirstFlrSF\"] + df[\"SecondFlrSF\"])/ df[\"TotRmsAbvGrd\"]\n",
    "X_1[\"TotalOutsideSF\"] = df[\"WoodDeckSF\"] + df[\"OpenPorchSF\"] + df[\"EnclosedPorch\"] + df[\"Threeseasonporch\"] + df[\"ScreenPorch\"]\n",
    "\n",
    "\n",
    "# Check your answer\n",
    "q_1.check()"
   ]
  },
  {
   "cell_type": "code",
   "execution_count": 3,
   "id": "novel-potato",
   "metadata": {
    "execution": {
     "iopub.execute_input": "2021-06-18T05:55:30.712630Z",
     "iopub.status.busy": "2021-06-18T05:55:30.711708Z",
     "iopub.status.idle": "2021-06-18T05:55:30.714765Z",
     "shell.execute_reply": "2021-06-18T05:55:30.714193Z",
     "shell.execute_reply.started": "2021-06-18T05:52:25.890467Z"
    },
    "lines_to_next_cell": 0,
    "papermill": {
     "duration": 0.026145,
     "end_time": "2021-06-18T05:55:30.714918",
     "exception": false,
     "start_time": "2021-06-18T05:55:30.688773",
     "status": "completed"
    },
    "tags": []
   },
   "outputs": [],
   "source": [
    "# Lines below will give you a hint or solution code\n",
    "#q_1.hint()\n",
    "#q_1.solution()"
   ]
  },
  {
   "cell_type": "markdown",
   "id": "creative-capability",
   "metadata": {
    "papermill": {
     "duration": 0.018749,
     "end_time": "2021-06-18T05:55:30.752834",
     "exception": false,
     "start_time": "2021-06-18T05:55:30.734085",
     "status": "completed"
    },
    "tags": []
   },
   "source": [
    "-------------------------------------------------------------------------------\n",
    "\n",
    "If you've discovered an interaction effect between a numeric feature and a categorical feature, you might want to model it explicitly using a one-hot encoding, like so:\n",
    "\n",
    "```\n",
    "# One-hot encode Categorical feature, adding a column prefix \"Cat\"\n",
    "X_new = pd.get_dummies(df.Categorical, prefix=\"Cat\")\n",
    "\n",
    "# Multiply row-by-row\n",
    "X_new = X_new.mul(df.Continuous, axis=0)\n",
    "\n",
    "# Join the new features to the feature set\n",
    "X = X.join(X_new)\n",
    "```\n",
    "\n",
    "# 2) Interaction with a Categorical\n",
    "\n",
    "We discovered an interaction between `BldgType` and `GrLivArea` in Exercise 2. Now create their interaction features."
   ]
  },
  {
   "cell_type": "code",
   "execution_count": 4,
   "id": "thorough-transcription",
   "metadata": {
    "execution": {
     "iopub.execute_input": "2021-06-18T05:55:30.793010Z",
     "iopub.status.busy": "2021-06-18T05:55:30.792228Z",
     "iopub.status.idle": "2021-06-18T05:55:30.817532Z",
     "shell.execute_reply": "2021-06-18T05:55:30.818020Z",
     "shell.execute_reply.started": "2021-06-18T05:52:57.831527Z"
    },
    "lines_to_next_cell": 0,
    "papermill": {
     "duration": 0.047185,
     "end_time": "2021-06-18T05:55:30.818212",
     "exception": false,
     "start_time": "2021-06-18T05:55:30.771027",
     "status": "completed"
    },
    "tags": []
   },
   "outputs": [
    {
     "data": {
      "application/javascript": [
       "parent.postMessage({\"jupyterEvent\": \"custom.exercise_interaction\", \"data\": {\"outcomeType\": 1, \"valueTowardsCompletion\": 0.2, \"interactionType\": 1, \"questionType\": 2, \"questionId\": \"2_Q2\", \"learnToolsVersion\": \"0.3.4\", \"failureMessage\": \"\", \"exceptionClass\": \"\", \"trace\": \"\"}}, \"*\")"
      ],
      "text/plain": [
       "<IPython.core.display.Javascript object>"
      ]
     },
     "metadata": {},
     "output_type": "display_data"
    },
    {
     "data": {
      "text/markdown": [
       "<span style=\"color:#33cc33\">Correct</span>"
      ],
      "text/plain": [
       "Correct"
      ]
     },
     "metadata": {},
     "output_type": "display_data"
    }
   ],
   "source": [
    "# YOUR CODE HERE\n",
    "# One-hot encode BldgType. Use `prefix=\"Bldg\"` in `get_dummies`\n",
    "X_2 = pd.get_dummies(df.BldgType, prefix=\"Bldg\") \n",
    "# Multiply\n",
    "X_2 = X_2.mul(df.GrLivArea, axis=0)\n",
    "\n",
    "\n",
    "# Check your answer\n",
    "q_2.check()"
   ]
  },
  {
   "cell_type": "code",
   "execution_count": 5,
   "id": "fallen-casting",
   "metadata": {
    "execution": {
     "iopub.execute_input": "2021-06-18T05:55:30.862832Z",
     "iopub.status.busy": "2021-06-18T05:55:30.861962Z",
     "iopub.status.idle": "2021-06-18T05:55:30.865399Z",
     "shell.execute_reply": "2021-06-18T05:55:30.864787Z",
     "shell.execute_reply.started": "2021-06-18T05:53:02.187271Z"
    },
    "lines_to_next_cell": 0,
    "papermill": {
     "duration": 0.027988,
     "end_time": "2021-06-18T05:55:30.865612",
     "exception": false,
     "start_time": "2021-06-18T05:55:30.837624",
     "status": "completed"
    },
    "tags": []
   },
   "outputs": [],
   "source": [
    "# Lines below will give you a hint or solution code\n",
    "#q_2.hint()\n",
    "#q_2.solution()"
   ]
  },
  {
   "cell_type": "markdown",
   "id": "economic-respect",
   "metadata": {
    "lines_to_next_cell": 0,
    "papermill": {
     "duration": 0.018686,
     "end_time": "2021-06-18T05:55:30.905367",
     "exception": false,
     "start_time": "2021-06-18T05:55:30.886681",
     "status": "completed"
    },
    "tags": []
   },
   "source": [
    "# 3) Count Feature\n",
    "\n",
    "Let's try creating a feature that describes how many kinds of outdoor areas a dwelling has. Create a feature `PorchTypes` that counts how many of the following are greater than 0.0:\n",
    "\n",
    "```\n",
    "WoodDeckSF\n",
    "OpenPorchSF\n",
    "EnclosedPorch\n",
    "Threeseasonporch\n",
    "ScreenPorch\n",
    "```"
   ]
  },
  {
   "cell_type": "code",
   "execution_count": 6,
   "id": "laughing-cabinet",
   "metadata": {
    "execution": {
     "iopub.execute_input": "2021-06-18T05:55:30.952925Z",
     "iopub.status.busy": "2021-06-18T05:55:30.951510Z",
     "iopub.status.idle": "2021-06-18T05:55:30.967505Z",
     "shell.execute_reply": "2021-06-18T05:55:30.966786Z",
     "shell.execute_reply.started": "2021-06-18T05:53:48.095963Z"
    },
    "lines_to_next_cell": 0,
    "papermill": {
     "duration": 0.043287,
     "end_time": "2021-06-18T05:55:30.967664",
     "exception": false,
     "start_time": "2021-06-18T05:55:30.924377",
     "status": "completed"
    },
    "tags": []
   },
   "outputs": [
    {
     "data": {
      "application/javascript": [
       "parent.postMessage({\"jupyterEvent\": \"custom.exercise_interaction\", \"data\": {\"outcomeType\": 1, \"valueTowardsCompletion\": 0.2, \"interactionType\": 1, \"questionType\": 2, \"questionId\": \"3_Q3\", \"learnToolsVersion\": \"0.3.4\", \"failureMessage\": \"\", \"exceptionClass\": \"\", \"trace\": \"\"}}, \"*\")"
      ],
      "text/plain": [
       "<IPython.core.display.Javascript object>"
      ]
     },
     "metadata": {},
     "output_type": "display_data"
    },
    {
     "data": {
      "text/markdown": [
       "<span style=\"color:#33cc33\">Correct</span>"
      ],
      "text/plain": [
       "Correct"
      ]
     },
     "metadata": {},
     "output_type": "display_data"
    }
   ],
   "source": [
    "X_3 = pd.DataFrame()\n",
    "\n",
    "# YOUR CODE HERE\n",
    "X_3[\"PorchTypes\"] = df[[\n",
    "    \"WoodDeckSF\",\n",
    "    \"OpenPorchSF\",\n",
    "    \"EnclosedPorch\",\n",
    "    \"Threeseasonporch\",\n",
    "    \"ScreenPorch\",\n",
    "]].gt(0.0).sum(axis=1)\n",
    "\n",
    "\n",
    "# Check your answer\n",
    "q_3.check()"
   ]
  },
  {
   "cell_type": "code",
   "execution_count": 7,
   "id": "considered-notification",
   "metadata": {
    "execution": {
     "iopub.execute_input": "2021-06-18T05:55:31.014979Z",
     "iopub.status.busy": "2021-06-18T05:55:31.014270Z",
     "iopub.status.idle": "2021-06-18T05:55:31.020703Z",
     "shell.execute_reply": "2021-06-18T05:55:31.020080Z",
     "shell.execute_reply.started": "2021-06-18T05:53:52.160585Z"
    },
    "lines_to_next_cell": 0,
    "papermill": {
     "duration": 0.031933,
     "end_time": "2021-06-18T05:55:31.020855",
     "exception": false,
     "start_time": "2021-06-18T05:55:30.988922",
     "status": "completed"
    },
    "tags": []
   },
   "outputs": [],
   "source": [
    "# Lines below will give you a hint or solution code\n",
    "#q_3.hint()\n",
    "#q_3.solution()"
   ]
  },
  {
   "cell_type": "markdown",
   "id": "dependent-extreme",
   "metadata": {
    "papermill": {
     "duration": 0.01972,
     "end_time": "2021-06-18T05:55:31.061540",
     "exception": false,
     "start_time": "2021-06-18T05:55:31.041820",
     "status": "completed"
    },
    "tags": []
   },
   "source": [
    "# 4) Break Down a Categorical Feature\n",
    "\n",
    "`MSSubClass` describes the type of a dwelling:"
   ]
  },
  {
   "cell_type": "code",
   "execution_count": 8,
   "id": "advanced-angle",
   "metadata": {
    "execution": {
     "iopub.execute_input": "2021-06-18T05:55:31.108750Z",
     "iopub.status.busy": "2021-06-18T05:55:31.108010Z",
     "iopub.status.idle": "2021-06-18T05:55:31.115498Z",
     "shell.execute_reply": "2021-06-18T05:55:31.114933Z",
     "shell.execute_reply.started": "2021-06-18T05:53:55.804007Z"
    },
    "papermill": {
     "duration": 0.033253,
     "end_time": "2021-06-18T05:55:31.115658",
     "exception": false,
     "start_time": "2021-06-18T05:55:31.082405",
     "status": "completed"
    },
    "tags": []
   },
   "outputs": [
    {
     "data": {
      "text/plain": [
       "array(['One_Story_1946_and_Newer_All_Styles', 'Two_Story_1946_and_Newer',\n",
       "       'One_Story_PUD_1946_and_Newer',\n",
       "       'One_and_Half_Story_Finished_All_Ages', 'Split_Foyer',\n",
       "       'Two_Story_PUD_1946_and_Newer', 'Split_or_Multilevel',\n",
       "       'One_Story_1945_and_Older', 'Duplex_All_Styles_and_Ages',\n",
       "       'Two_Family_conversion_All_Styles_and_Ages',\n",
       "       'One_and_Half_Story_Unfinished_All_Ages',\n",
       "       'Two_Story_1945_and_Older', 'Two_and_Half_Story_All_Ages',\n",
       "       'One_Story_with_Finished_Attic_All_Ages',\n",
       "       'PUD_Multilevel_Split_Level_Foyer',\n",
       "       'One_and_Half_Story_PUD_All_Ages'], dtype=object)"
      ]
     },
     "execution_count": 8,
     "metadata": {},
     "output_type": "execute_result"
    }
   ],
   "source": [
    "df.MSSubClass.unique()"
   ]
  },
  {
   "cell_type": "markdown",
   "id": "joint-mainland",
   "metadata": {
    "papermill": {
     "duration": 0.025557,
     "end_time": "2021-06-18T05:55:31.166303",
     "exception": false,
     "start_time": "2021-06-18T05:55:31.140746",
     "status": "completed"
    },
    "tags": []
   },
   "source": [
    "You can see that there is a more general categorization described (roughly) by the first word of each category. Create a feature containing only these first words by splitting `MSSubClass` at the first underscore `_`. (Hint: In the `split` method use an argument `n=1`.)"
   ]
  },
  {
   "cell_type": "code",
   "execution_count": 9,
   "id": "funky-click",
   "metadata": {
    "execution": {
     "iopub.execute_input": "2021-06-18T05:55:31.229697Z",
     "iopub.status.busy": "2021-06-18T05:55:31.228957Z",
     "iopub.status.idle": "2021-06-18T05:55:31.259779Z",
     "shell.execute_reply": "2021-06-18T05:55:31.259136Z",
     "shell.execute_reply.started": "2021-06-18T05:54:13.760697Z"
    },
    "lines_to_next_cell": 0,
    "papermill": {
     "duration": 0.066037,
     "end_time": "2021-06-18T05:55:31.259939",
     "exception": false,
     "start_time": "2021-06-18T05:55:31.193902",
     "status": "completed"
    },
    "tags": []
   },
   "outputs": [
    {
     "data": {
      "application/javascript": [
       "parent.postMessage({\"jupyterEvent\": \"custom.exercise_interaction\", \"data\": {\"outcomeType\": 1, \"valueTowardsCompletion\": 0.2, \"interactionType\": 1, \"questionType\": 2, \"questionId\": \"4_Q4\", \"learnToolsVersion\": \"0.3.4\", \"failureMessage\": \"\", \"exceptionClass\": \"\", \"trace\": \"\"}}, \"*\")"
      ],
      "text/plain": [
       "<IPython.core.display.Javascript object>"
      ]
     },
     "metadata": {},
     "output_type": "display_data"
    },
    {
     "data": {
      "text/markdown": [
       "<span style=\"color:#33cc33\">Correct</span>"
      ],
      "text/plain": [
       "Correct"
      ]
     },
     "metadata": {},
     "output_type": "display_data"
    }
   ],
   "source": [
    "X_4 = pd.DataFrame()\n",
    "\n",
    "# YOUR CODE HERE\n",
    "X_4[\"MSClass\"] = df.MSSubClass.str.split(\"_\", n=1, expand=True)[0]\n",
    "\n",
    "# Check your answer\n",
    "q_4.check()"
   ]
  },
  {
   "cell_type": "code",
   "execution_count": 10,
   "id": "worth-museum",
   "metadata": {
    "execution": {
     "iopub.execute_input": "2021-06-18T05:55:31.306207Z",
     "iopub.status.busy": "2021-06-18T05:55:31.305469Z",
     "iopub.status.idle": "2021-06-18T05:55:31.308710Z",
     "shell.execute_reply": "2021-06-18T05:55:31.309489Z",
     "shell.execute_reply.started": "2021-06-18T05:54:17.525083Z"
    },
    "lines_to_next_cell": 0,
    "papermill": {
     "duration": 0.028477,
     "end_time": "2021-06-18T05:55:31.309708",
     "exception": false,
     "start_time": "2021-06-18T05:55:31.281231",
     "status": "completed"
    },
    "tags": []
   },
   "outputs": [],
   "source": [
    "# Lines below will give you a hint or solution code\n",
    "#q_4.hint()\n",
    "#q_4.solution()"
   ]
  },
  {
   "cell_type": "markdown",
   "id": "premium-boards",
   "metadata": {
    "papermill": {
     "duration": 0.021541,
     "end_time": "2021-06-18T05:55:31.353335",
     "exception": false,
     "start_time": "2021-06-18T05:55:31.331794",
     "status": "completed"
    },
    "tags": []
   },
   "source": [
    "# 5) Use a Grouped Transform\n",
    "\n",
    "The value of a home often depends on how it compares to typical homes in its neighborhood. Create a feature `MedNhbdArea` that describes the *median* of `GrLivArea` grouped on `Neighborhood`."
   ]
  },
  {
   "cell_type": "code",
   "execution_count": 11,
   "id": "promising-integral",
   "metadata": {
    "execution": {
     "iopub.execute_input": "2021-06-18T05:55:31.400023Z",
     "iopub.status.busy": "2021-06-18T05:55:31.399243Z",
     "iopub.status.idle": "2021-06-18T05:55:31.418749Z",
     "shell.execute_reply": "2021-06-18T05:55:31.419299Z",
     "shell.execute_reply.started": "2021-06-18T05:54:43.529172Z"
    },
    "lines_to_next_cell": 0,
    "papermill": {
     "duration": 0.04511,
     "end_time": "2021-06-18T05:55:31.419528",
     "exception": false,
     "start_time": "2021-06-18T05:55:31.374418",
     "status": "completed"
    },
    "tags": []
   },
   "outputs": [
    {
     "data": {
      "application/javascript": [
       "parent.postMessage({\"jupyterEvent\": \"custom.exercise_interaction\", \"data\": {\"outcomeType\": 1, \"valueTowardsCompletion\": 0.2, \"interactionType\": 1, \"questionType\": 2, \"questionId\": \"5_Q5\", \"learnToolsVersion\": \"0.3.4\", \"failureMessage\": \"\", \"exceptionClass\": \"\", \"trace\": \"\"}}, \"*\")"
      ],
      "text/plain": [
       "<IPython.core.display.Javascript object>"
      ]
     },
     "metadata": {},
     "output_type": "display_data"
    },
    {
     "data": {
      "text/markdown": [
       "<span style=\"color:#33cc33\">Correct</span>"
      ],
      "text/plain": [
       "Correct"
      ]
     },
     "metadata": {},
     "output_type": "display_data"
    }
   ],
   "source": [
    "X_5 = pd.DataFrame()\n",
    "\n",
    "# YOUR CODE HERE\n",
    "X_5[\"MedNhbdArea\"] = df.groupby(\"Neighborhood\")[\"GrLivArea\"].transform(\"median\")\n",
    "\n",
    "# Check your answer\n",
    "q_5.check()"
   ]
  },
  {
   "cell_type": "code",
   "execution_count": 12,
   "id": "temporal-patent",
   "metadata": {
    "execution": {
     "iopub.execute_input": "2021-06-18T05:55:31.471845Z",
     "iopub.status.busy": "2021-06-18T05:55:31.471091Z",
     "iopub.status.idle": "2021-06-18T05:55:31.474379Z",
     "shell.execute_reply": "2021-06-18T05:55:31.475124Z",
     "shell.execute_reply.started": "2021-06-18T05:54:55.605780Z"
    },
    "lines_to_next_cell": 0,
    "papermill": {
     "duration": 0.030475,
     "end_time": "2021-06-18T05:55:31.475484",
     "exception": false,
     "start_time": "2021-06-18T05:55:31.445009",
     "status": "completed"
    },
    "tags": []
   },
   "outputs": [],
   "source": [
    "# Lines below will give you a hint or solution code\n",
    "#q_5.hint()\n",
    "#q_5.solution()"
   ]
  },
  {
   "cell_type": "markdown",
   "id": "annoying-caution",
   "metadata": {
    "papermill": {
     "duration": 0.022467,
     "end_time": "2021-06-18T05:55:31.520353",
     "exception": false,
     "start_time": "2021-06-18T05:55:31.497886",
     "status": "completed"
    },
    "tags": []
   },
   "source": [
    "Now you've made your first new feature set! If you like, you can run the cell below to score the model with all of your new features added:"
   ]
  },
  {
   "cell_type": "code",
   "execution_count": 13,
   "id": "universal-rendering",
   "metadata": {
    "execution": {
     "iopub.execute_input": "2021-06-18T05:55:31.571251Z",
     "iopub.status.busy": "2021-06-18T05:55:31.570399Z",
     "iopub.status.idle": "2021-06-18T05:55:35.027946Z",
     "shell.execute_reply": "2021-06-18T05:55:35.028579Z",
     "shell.execute_reply.started": "2021-06-18T05:54:58.510170Z"
    },
    "papermill": {
     "duration": 3.485278,
     "end_time": "2021-06-18T05:55:35.028792",
     "exception": false,
     "start_time": "2021-06-18T05:55:31.543514",
     "status": "completed"
    },
    "tags": []
   },
   "outputs": [
    {
     "data": {
      "text/plain": [
       "0.13847331710099203"
      ]
     },
     "execution_count": 13,
     "metadata": {},
     "output_type": "execute_result"
    }
   ],
   "source": [
    "X_new = X.join([X_1, X_2, X_3, X_4, X_5])\n",
    "score_dataset(X_new, y)"
   ]
  },
  {
   "cell_type": "markdown",
   "id": "fixed-colombia",
   "metadata": {
    "papermill": {
     "duration": 0.023135,
     "end_time": "2021-06-18T05:55:35.076758",
     "exception": false,
     "start_time": "2021-06-18T05:55:35.053623",
     "status": "completed"
    },
    "tags": []
   },
   "source": [
    "# Keep Going #\n",
    "\n",
    "[**Untangle spatial relationships**](https://www.kaggle.com/ryanholbrook/clustering-with-k-means) by adding cluster labels to your dataset."
   ]
  },
  {
   "cell_type": "markdown",
   "id": "empty-consensus",
   "metadata": {
    "papermill": {
     "duration": 0.02241,
     "end_time": "2021-06-18T05:55:35.121653",
     "exception": false,
     "start_time": "2021-06-18T05:55:35.099243",
     "status": "completed"
    },
    "tags": []
   },
   "source": [
    "---\n",
    "\n",
    "\n",
    "\n",
    "\n",
    "*Have questions or comments? Visit the [Learn Discussion forum](https://www.kaggle.com/learn-forum/221677) to chat with other Learners.*"
   ]
  }
 ],
 "metadata": {
  "kernelspec": {
   "display_name": "Python 3",
   "language": "python",
   "name": "python3"
  },
  "language_info": {
   "codemirror_mode": {
    "name": "ipython",
    "version": 3
   },
   "file_extension": ".py",
   "mimetype": "text/x-python",
   "name": "python",
   "nbconvert_exporter": "python",
   "pygments_lexer": "ipython3",
   "version": "3.7.9"
  },
  "papermill": {
   "default_parameters": {},
   "duration": 14.545665,
   "end_time": "2021-06-18T05:55:36.156804",
   "environment_variables": {},
   "exception": null,
   "input_path": "__notebook__.ipynb",
   "output_path": "__notebook__.ipynb",
   "parameters": {},
   "start_time": "2021-06-18T05:55:21.611139",
   "version": "2.3.2"
  }
 },
 "nbformat": 4,
 "nbformat_minor": 5
}
