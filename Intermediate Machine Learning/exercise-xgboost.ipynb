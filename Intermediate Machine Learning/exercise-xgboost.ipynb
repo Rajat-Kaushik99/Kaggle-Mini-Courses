{
 "cells": [
  {
   "cell_type": "markdown",
   "id": "developmental-assistant",
   "metadata": {
    "papermill": {
     "duration": 0.016257,
     "end_time": "2021-06-16T12:15:29.151084",
     "exception": false,
     "start_time": "2021-06-16T12:15:29.134827",
     "status": "completed"
    },
    "tags": []
   },
   "source": [
    "**This notebook is an exercise in the [Intermediate Machine Learning](https://www.kaggle.com/learn/intermediate-machine-learning) course.  You can reference the tutorial at [this link](https://www.kaggle.com/alexisbcook/xgboost).**\n",
    "\n",
    "---\n"
   ]
  },
  {
   "cell_type": "markdown",
   "id": "verbal-motorcycle",
   "metadata": {
    "papermill": {
     "duration": 0.016251,
     "end_time": "2021-06-16T12:15:29.183126",
     "exception": false,
     "start_time": "2021-06-16T12:15:29.166875",
     "status": "completed"
    },
    "tags": []
   },
   "source": [
    "In this exercise, you will use your new knowledge to train a model with **gradient boosting**.\n",
    "\n",
    "# Setup\n",
    "\n",
    "The questions below will give you feedback on your work. Run the following cell to set up the feedback system."
   ]
  },
  {
   "cell_type": "code",
   "execution_count": 1,
   "id": "working-intent",
   "metadata": {
    "execution": {
     "iopub.execute_input": "2021-06-16T12:15:29.220217Z",
     "iopub.status.busy": "2021-06-16T12:15:29.219565Z",
     "iopub.status.idle": "2021-06-16T12:15:31.587744Z",
     "shell.execute_reply": "2021-06-16T12:15:31.588597Z",
     "shell.execute_reply.started": "2021-06-16T12:06:55.301804Z"
    },
    "papermill": {
     "duration": 2.3904,
     "end_time": "2021-06-16T12:15:31.588967",
     "exception": false,
     "start_time": "2021-06-16T12:15:29.198567",
     "status": "completed"
    },
    "tags": []
   },
   "outputs": [
    {
     "name": "stdout",
     "output_type": "stream",
     "text": [
      "Setup Complete\n"
     ]
    }
   ],
   "source": [
    "# Set up code checking\n",
    "import os\n",
    "if not os.path.exists(\"../input/train.csv\"):\n",
    "    os.symlink(\"../input/home-data-for-ml-course/train.csv\", \"../input/train.csv\")  \n",
    "    os.symlink(\"../input/home-data-for-ml-course/test.csv\", \"../input/test.csv\") \n",
    "from learntools.core import binder\n",
    "binder.bind(globals())\n",
    "from learntools.ml_intermediate.ex6 import *\n",
    "print(\"Setup Complete\")"
   ]
  },
  {
   "cell_type": "markdown",
   "id": "partial-housing",
   "metadata": {
    "papermill": {
     "duration": 0.015944,
     "end_time": "2021-06-16T12:15:31.622652",
     "exception": false,
     "start_time": "2021-06-16T12:15:31.606708",
     "status": "completed"
    },
    "tags": []
   },
   "source": [
    "You will work with the [Housing Prices Competition for Kaggle Learn Users](https://www.kaggle.com/c/home-data-for-ml-course) dataset from the previous exercise. \n",
    "\n",
    "![Ames Housing dataset image](https://i.imgur.com/lTJVG4e.png)\n",
    "\n",
    "Run the next code cell without changes to load the training and validation sets in `X_train`, `X_valid`, `y_train`, and `y_valid`.  The test set is loaded in `X_test`."
   ]
  },
  {
   "cell_type": "code",
   "execution_count": 2,
   "id": "confused-heater",
   "metadata": {
    "execution": {
     "iopub.execute_input": "2021-06-16T12:15:31.667336Z",
     "iopub.status.busy": "2021-06-16T12:15:31.666041Z",
     "iopub.status.idle": "2021-06-16T12:15:31.917197Z",
     "shell.execute_reply": "2021-06-16T12:15:31.916499Z",
     "shell.execute_reply.started": "2021-06-16T12:06:57.597633Z"
    },
    "papermill": {
     "duration": 0.278679,
     "end_time": "2021-06-16T12:15:31.917345",
     "exception": false,
     "start_time": "2021-06-16T12:15:31.638666",
     "status": "completed"
    },
    "tags": []
   },
   "outputs": [],
   "source": [
    "import pandas as pd\n",
    "from sklearn.model_selection import train_test_split\n",
    "\n",
    "# Read the data\n",
    "X = pd.read_csv('../input/train.csv', index_col='Id')\n",
    "X_test_full = pd.read_csv('../input/test.csv', index_col='Id')\n",
    "\n",
    "# Remove rows with missing target, separate target from predictors\n",
    "X.dropna(axis=0, subset=['SalePrice'], inplace=True)\n",
    "y = X.SalePrice              \n",
    "X.drop(['SalePrice'], axis=1, inplace=True)\n",
    "\n",
    "# Break off validation set from training data\n",
    "X_train_full, X_valid_full, y_train, y_valid = train_test_split(X, y, train_size=0.8, test_size=0.2,\n",
    "                                                                random_state=0)\n",
    "\n",
    "# \"Cardinality\" means the number of unique values in a column\n",
    "# Select categorical columns with relatively low cardinality (convenient but arbitrary)\n",
    "low_cardinality_cols = [cname for cname in X_train_full.columns if X_train_full[cname].nunique() < 10 and \n",
    "                        X_train_full[cname].dtype == \"object\"]\n",
    "\n",
    "# Select numeric columns\n",
    "numeric_cols = [cname for cname in X_train_full.columns if X_train_full[cname].dtype in ['int64', 'float64']]\n",
    "\n",
    "# Keep selected columns only\n",
    "my_cols = low_cardinality_cols + numeric_cols\n",
    "X_train = X_train_full[my_cols].copy()\n",
    "X_valid = X_valid_full[my_cols].copy()\n",
    "X_test = X_test_full[my_cols].copy()\n",
    "\n",
    "# One-hot encode the data (to shorten the code, we use pandas)\n",
    "X_train = pd.get_dummies(X_train)\n",
    "X_valid = pd.get_dummies(X_valid)\n",
    "X_test = pd.get_dummies(X_test)\n",
    "X_train, X_valid = X_train.align(X_valid, join='left', axis=1)\n",
    "X_train, X_test = X_train.align(X_test, join='left', axis=1)"
   ]
  },
  {
   "cell_type": "markdown",
   "id": "quality-stuart",
   "metadata": {
    "papermill": {
     "duration": 0.017085,
     "end_time": "2021-06-16T12:15:31.950306",
     "exception": false,
     "start_time": "2021-06-16T12:15:31.933221",
     "status": "completed"
    },
    "tags": []
   },
   "source": [
    "# Step 1: Build model\n",
    "\n",
    "### Part A\n",
    "\n",
    "In this step, you'll build and train your first model with gradient boosting.\n",
    "\n",
    "- Begin by setting `my_model_1` to an XGBoost model.  Use the [XGBRegressor](https://xgboost.readthedocs.io/en/latest/python/python_api.html#xgboost.XGBRegressor) class, and set the random seed to 0 (`random_state=0`).  **Leave all other parameters as default.**\n",
    "- Then, fit the model to the training data in `X_train` and `y_train`."
   ]
  },
  {
   "cell_type": "code",
   "execution_count": 3,
   "id": "worldwide-straight",
   "metadata": {
    "execution": {
     "iopub.execute_input": "2021-06-16T12:15:31.987810Z",
     "iopub.status.busy": "2021-06-16T12:15:31.987039Z",
     "iopub.status.idle": "2021-06-16T12:15:32.666908Z",
     "shell.execute_reply": "2021-06-16T12:15:32.666302Z",
     "shell.execute_reply.started": "2021-06-16T12:08:16.276993Z"
    },
    "papermill": {
     "duration": 0.700808,
     "end_time": "2021-06-16T12:15:32.667056",
     "exception": false,
     "start_time": "2021-06-16T12:15:31.966248",
     "status": "completed"
    },
    "tags": []
   },
   "outputs": [
    {
     "data": {
      "application/javascript": [
       "parent.postMessage({\"jupyterEvent\": \"custom.exercise_interaction\", \"data\": {\"outcomeType\": 1, \"valueTowardsCompletion\": 0.5, \"interactionType\": 1, \"questionType\": 2, \"questionId\": \"1.1_Model1A\", \"learnToolsVersion\": \"0.3.4\", \"failureMessage\": \"\", \"exceptionClass\": \"\", \"trace\": \"\"}}, \"*\")"
      ],
      "text/plain": [
       "<IPython.core.display.Javascript object>"
      ]
     },
     "metadata": {},
     "output_type": "display_data"
    },
    {
     "data": {
      "text/markdown": [
       "<span style=\"color:#33cc33\">Correct</span>"
      ],
      "text/plain": [
       "Correct"
      ]
     },
     "metadata": {},
     "output_type": "display_data"
    }
   ],
   "source": [
    "from xgboost import XGBRegressor\n",
    "\n",
    "# Define the model\n",
    "my_model_1 = XGBRegressor(random_state=0) # Your code here\n",
    "\n",
    "# Fit the model\n",
    "my_model_1.fit(X_train,y_train) # Your code here\n",
    "\n",
    "# Check your answer\n",
    "step_1.a.check()"
   ]
  },
  {
   "cell_type": "code",
   "execution_count": 4,
   "id": "breeding-contrary",
   "metadata": {
    "execution": {
     "iopub.execute_input": "2021-06-16T12:15:32.704437Z",
     "iopub.status.busy": "2021-06-16T12:15:32.703791Z",
     "iopub.status.idle": "2021-06-16T12:15:32.706958Z",
     "shell.execute_reply": "2021-06-16T12:15:32.706414Z",
     "shell.execute_reply.started": "2021-06-16T12:08:19.197024Z"
    },
    "papermill": {
     "duration": 0.023355,
     "end_time": "2021-06-16T12:15:32.707092",
     "exception": false,
     "start_time": "2021-06-16T12:15:32.683737",
     "status": "completed"
    },
    "tags": []
   },
   "outputs": [],
   "source": [
    "# Lines below will give you a hint or solution code\n",
    "#step_1.a.hint()\n",
    "#step_1.a.solution()"
   ]
  },
  {
   "cell_type": "markdown",
   "id": "instant-guidance",
   "metadata": {
    "papermill": {
     "duration": 0.01654,
     "end_time": "2021-06-16T12:15:32.740485",
     "exception": false,
     "start_time": "2021-06-16T12:15:32.723945",
     "status": "completed"
    },
    "tags": []
   },
   "source": [
    "### Part B\n",
    "\n",
    "Set `predictions_1` to the model's predictions for the validation data.  Recall that the validation features are stored in `X_valid`."
   ]
  },
  {
   "cell_type": "code",
   "execution_count": 5,
   "id": "russian-madagascar",
   "metadata": {
    "execution": {
     "iopub.execute_input": "2021-06-16T12:15:32.788343Z",
     "iopub.status.busy": "2021-06-16T12:15:32.787416Z",
     "iopub.status.idle": "2021-06-16T12:15:32.800637Z",
     "shell.execute_reply": "2021-06-16T12:15:32.801587Z",
     "shell.execute_reply.started": "2021-06-16T12:08:39.261020Z"
    },
    "papermill": {
     "duration": 0.044719,
     "end_time": "2021-06-16T12:15:32.801796",
     "exception": false,
     "start_time": "2021-06-16T12:15:32.757077",
     "status": "completed"
    },
    "tags": []
   },
   "outputs": [
    {
     "data": {
      "application/javascript": [
       "parent.postMessage({\"jupyterEvent\": \"custom.exercise_interaction\", \"data\": {\"outcomeType\": 1, \"valueTowardsCompletion\": 0.5, \"interactionType\": 1, \"questionType\": 2, \"questionId\": \"1.2_Model1B\", \"learnToolsVersion\": \"0.3.4\", \"failureMessage\": \"\", \"exceptionClass\": \"\", \"trace\": \"\"}}, \"*\")"
      ],
      "text/plain": [
       "<IPython.core.display.Javascript object>"
      ]
     },
     "metadata": {},
     "output_type": "display_data"
    },
    {
     "data": {
      "text/markdown": [
       "<span style=\"color:#33cc33\">Correct</span>"
      ],
      "text/plain": [
       "Correct"
      ]
     },
     "metadata": {},
     "output_type": "display_data"
    }
   ],
   "source": [
    "from sklearn.metrics import mean_absolute_error\n",
    "\n",
    "# Get predictions\n",
    "predictions_1 = my_model_1.predict(X_valid) # Your code here\n",
    "\n",
    "# Check your answer\n",
    "step_1.b.check()"
   ]
  },
  {
   "cell_type": "code",
   "execution_count": 6,
   "id": "numeric-cricket",
   "metadata": {
    "execution": {
     "iopub.execute_input": "2021-06-16T12:15:32.842610Z",
     "iopub.status.busy": "2021-06-16T12:15:32.841966Z",
     "iopub.status.idle": "2021-06-16T12:15:32.843956Z",
     "shell.execute_reply": "2021-06-16T12:15:32.844486Z",
     "shell.execute_reply.started": "2021-06-16T12:08:41.266982Z"
    },
    "papermill": {
     "duration": 0.023963,
     "end_time": "2021-06-16T12:15:32.844655",
     "exception": false,
     "start_time": "2021-06-16T12:15:32.820692",
     "status": "completed"
    },
    "tags": []
   },
   "outputs": [],
   "source": [
    "# Lines below will give you a hint or solution code\n",
    "#step_1.b.hint()\n",
    "#step_1.b.solution()"
   ]
  },
  {
   "cell_type": "markdown",
   "id": "numerical-vegetation",
   "metadata": {
    "papermill": {
     "duration": 0.017248,
     "end_time": "2021-06-16T12:15:32.879633",
     "exception": false,
     "start_time": "2021-06-16T12:15:32.862385",
     "status": "completed"
    },
    "tags": []
   },
   "source": [
    "### Part C\n",
    "\n",
    "Finally, use the `mean_absolute_error()` function to calculate the mean absolute error (MAE) corresponding to the predictions for the validation set.  Recall that the labels for the validation data are stored in `y_valid`."
   ]
  },
  {
   "cell_type": "code",
   "execution_count": 7,
   "id": "purple-adapter",
   "metadata": {
    "execution": {
     "iopub.execute_input": "2021-06-16T12:15:32.918880Z",
     "iopub.status.busy": "2021-06-16T12:15:32.918264Z",
     "iopub.status.idle": "2021-06-16T12:15:32.925026Z",
     "shell.execute_reply": "2021-06-16T12:15:32.925664Z",
     "shell.execute_reply.started": "2021-06-16T12:09:13.749420Z"
    },
    "papermill": {
     "duration": 0.027881,
     "end_time": "2021-06-16T12:15:32.925826",
     "exception": false,
     "start_time": "2021-06-16T12:15:32.897945",
     "status": "completed"
    },
    "tags": []
   },
   "outputs": [
    {
     "data": {
      "application/javascript": [
       "parent.postMessage({\"jupyterEvent\": \"custom.exercise_interaction\", \"data\": {\"outcomeType\": 1, \"valueTowardsCompletion\": 0.5, \"interactionType\": 1, \"questionType\": 2, \"questionId\": \"1.3_Model1C\", \"learnToolsVersion\": \"0.3.4\", \"failureMessage\": \"\", \"exceptionClass\": \"\", \"trace\": \"\"}}, \"*\")"
      ],
      "text/plain": [
       "<IPython.core.display.Javascript object>"
      ]
     },
     "metadata": {},
     "output_type": "display_data"
    },
    {
     "data": {
      "text/markdown": [
       "<span style=\"color:#33cc33\">Correct</span>"
      ],
      "text/plain": [
       "Correct"
      ]
     },
     "metadata": {},
     "output_type": "display_data"
    }
   ],
   "source": [
    "# Calculate MAE\n",
    "mae_1 = mean_absolute_error(y_valid,predictions_1)# Your code here\n",
    "\n",
    "# Uncomment to print MAE\n",
    "# print(\"Mean Absolute Error:\" , mae_1)\n",
    "\n",
    "# Check your answer\n",
    "step_1.c.check()"
   ]
  },
  {
   "cell_type": "code",
   "execution_count": 8,
   "id": "forty-packing",
   "metadata": {
    "execution": {
     "iopub.execute_input": "2021-06-16T12:15:32.965845Z",
     "iopub.status.busy": "2021-06-16T12:15:32.965240Z",
     "iopub.status.idle": "2021-06-16T12:15:32.969260Z",
     "shell.execute_reply": "2021-06-16T12:15:32.968766Z",
     "shell.execute_reply.started": "2021-06-16T12:09:15.845283Z"
    },
    "papermill": {
     "duration": 0.024721,
     "end_time": "2021-06-16T12:15:32.969398",
     "exception": false,
     "start_time": "2021-06-16T12:15:32.944677",
     "status": "completed"
    },
    "tags": []
   },
   "outputs": [],
   "source": [
    "# Lines below will give you a hint or solution code\n",
    "#step_1.c.hint()\n",
    "#step_1.c.solution()"
   ]
  },
  {
   "cell_type": "markdown",
   "id": "honest-speaking",
   "metadata": {
    "papermill": {
     "duration": 0.018182,
     "end_time": "2021-06-16T12:15:33.006523",
     "exception": false,
     "start_time": "2021-06-16T12:15:32.988341",
     "status": "completed"
    },
    "tags": []
   },
   "source": [
    "# Step 2: Improve the model\n",
    "\n",
    "Now that you've trained a default model as baseline, it's time to tinker with the parameters, to see if you can get better performance!\n",
    "- Begin by setting `my_model_2` to an XGBoost model, using the [XGBRegressor](https://xgboost.readthedocs.io/en/latest/python/python_api.html#xgboost.XGBRegressor) class.  Use what you learned in the previous tutorial to figure out how to change the default parameters (like `n_estimators` and `learning_rate`) to get better results.\n",
    "- Then, fit the model to the training data in `X_train` and `y_train`.\n",
    "- Set `predictions_2` to the model's predictions for the validation data.  Recall that the validation features are stored in `X_valid`.\n",
    "- Finally, use the `mean_absolute_error()` function to calculate the mean absolute error (MAE) corresponding to the predictions on the validation set.  Recall that the labels for the validation data are stored in `y_valid`.\n",
    "\n",
    "In order for this step to be marked correct, your model in `my_model_2` must attain lower MAE than the model in `my_model_1`. "
   ]
  },
  {
   "cell_type": "code",
   "execution_count": 9,
   "id": "useful-special",
   "metadata": {
    "execution": {
     "iopub.execute_input": "2021-06-16T12:15:33.046579Z",
     "iopub.status.busy": "2021-06-16T12:15:33.045971Z",
     "iopub.status.idle": "2021-06-16T12:15:34.854778Z",
     "shell.execute_reply": "2021-06-16T12:15:34.855341Z",
     "shell.execute_reply.started": "2021-06-16T12:11:28.838824Z"
    },
    "papermill": {
     "duration": 1.830419,
     "end_time": "2021-06-16T12:15:34.855540",
     "exception": false,
     "start_time": "2021-06-16T12:15:33.025121",
     "status": "completed"
    },
    "tags": []
   },
   "outputs": [
    {
     "data": {
      "application/javascript": [
       "parent.postMessage({\"jupyterEvent\": \"custom.exercise_interaction\", \"data\": {\"outcomeType\": 1, \"valueTowardsCompletion\": 0.5, \"interactionType\": 1, \"questionType\": 2, \"questionId\": \"2_Model2\", \"learnToolsVersion\": \"0.3.4\", \"failureMessage\": \"\", \"exceptionClass\": \"\", \"trace\": \"\"}}, \"*\")"
      ],
      "text/plain": [
       "<IPython.core.display.Javascript object>"
      ]
     },
     "metadata": {},
     "output_type": "display_data"
    },
    {
     "data": {
      "text/markdown": [
       "<span style=\"color:#33cc33\">Correct</span>"
      ],
      "text/plain": [
       "Correct"
      ]
     },
     "metadata": {},
     "output_type": "display_data"
    }
   ],
   "source": [
    "# Define the model\n",
    "my_model_2 = XGBRegressor(n_estimators=300,learning_rate=0.05) # Your code here\n",
    "\n",
    "# Fit the model\n",
    "my_model_2.fit(X_train,y_train) # Your code here\n",
    "\n",
    "# Get predictions\n",
    "predictions_2 = my_model_2.predict(X_valid) # Your code here\n",
    "\n",
    "# Calculate MAE\n",
    "mae_2 = mean_absolute_error(y_valid,predictions_2) # Your code here\n",
    "\n",
    "# Uncomment to print MAE\n",
    "# print(\"Mean Absolute Error:\" , mae_2)\n",
    "\n",
    "# Check your answer\n",
    "step_2.check()"
   ]
  },
  {
   "cell_type": "code",
   "execution_count": 10,
   "id": "painted-screw",
   "metadata": {
    "execution": {
     "iopub.execute_input": "2021-06-16T12:15:34.901653Z",
     "iopub.status.busy": "2021-06-16T12:15:34.901029Z",
     "iopub.status.idle": "2021-06-16T12:15:34.905304Z",
     "shell.execute_reply": "2021-06-16T12:15:34.904663Z",
     "shell.execute_reply.started": "2021-06-16T12:11:33.505797Z"
    },
    "papermill": {
     "duration": 0.02849,
     "end_time": "2021-06-16T12:15:34.905442",
     "exception": false,
     "start_time": "2021-06-16T12:15:34.876952",
     "status": "completed"
    },
    "tags": []
   },
   "outputs": [],
   "source": [
    "# Lines below will give you a hint or solution code\n",
    "#step_2.hint()\n",
    "#step_2.solution()"
   ]
  },
  {
   "cell_type": "markdown",
   "id": "described-platinum",
   "metadata": {
    "papermill": {
     "duration": 0.019372,
     "end_time": "2021-06-16T12:15:34.945326",
     "exception": false,
     "start_time": "2021-06-16T12:15:34.925954",
     "status": "completed"
    },
    "tags": []
   },
   "source": [
    "# Step 3: Break the model\n",
    "\n",
    "In this step, you will create a model that performs worse than the original model in Step 1.  This will help you to develop your intuition for how to set parameters.  You might even find that you accidentally get better performance, which is ultimately a nice problem to have and a valuable learning experience!\n",
    "- Begin by setting `my_model_3` to an XGBoost model, using the [XGBRegressor](https://xgboost.readthedocs.io/en/latest/python/python_api.html#xgboost.XGBRegressor) class.  Use what you learned in the previous tutorial to figure out how to change the default parameters (like `n_estimators` and `learning_rate`) to design a model to get high MAE.\n",
    "- Then, fit the model to the training data in `X_train` and `y_train`.\n",
    "- Set `predictions_3` to the model's predictions for the validation data.  Recall that the validation features are stored in `X_valid`.\n",
    "- Finally, use the `mean_absolute_error()` function to calculate the mean absolute error (MAE) corresponding to the predictions on the validation set.  Recall that the labels for the validation data are stored in `y_valid`.\n",
    "\n",
    "In order for this step to be marked correct, your model in `my_model_3` must attain higher MAE than the model in `my_model_1`. "
   ]
  },
  {
   "cell_type": "code",
   "execution_count": 11,
   "id": "chicken-devil",
   "metadata": {
    "execution": {
     "iopub.execute_input": "2021-06-16T12:15:34.996705Z",
     "iopub.status.busy": "2021-06-16T12:15:34.995783Z",
     "iopub.status.idle": "2021-06-16T12:15:35.084898Z",
     "shell.execute_reply": "2021-06-16T12:15:35.085745Z",
     "shell.execute_reply.started": "2021-06-16T12:15:00.494094Z"
    },
    "papermill": {
     "duration": 0.121195,
     "end_time": "2021-06-16T12:15:35.085947",
     "exception": false,
     "start_time": "2021-06-16T12:15:34.964752",
     "status": "completed"
    },
    "tags": []
   },
   "outputs": [
    {
     "data": {
      "application/javascript": [
       "parent.postMessage({\"jupyterEvent\": \"custom.exercise_interaction\", \"data\": {\"outcomeType\": 1, \"valueTowardsCompletion\": 0.5, \"interactionType\": 1, \"questionType\": 2, \"questionId\": \"3_Model3\", \"learnToolsVersion\": \"0.3.4\", \"failureMessage\": \"\", \"exceptionClass\": \"\", \"trace\": \"\"}}, \"*\")"
      ],
      "text/plain": [
       "<IPython.core.display.Javascript object>"
      ]
     },
     "metadata": {},
     "output_type": "display_data"
    },
    {
     "data": {
      "text/markdown": [
       "<span style=\"color:#33cc33\">Correct</span>"
      ],
      "text/plain": [
       "Correct"
      ]
     },
     "metadata": {},
     "output_type": "display_data"
    }
   ],
   "source": [
    "# Define the model\n",
    "my_model_3 = XGBRegressor(n_estimators=10, learning_rate=0.2)\n",
    "\n",
    "# Fit the model\n",
    "my_model_3.fit(X_train,y_train) # Your code here\n",
    "\n",
    "# Get predictions\n",
    "predictions_3 = my_model_3.predict(X_valid)\n",
    "\n",
    "# Calculate MAE\n",
    "mae_3 = mean_absolute_error(y_valid,predictions_3)\n",
    "# Uncomment to print MAE\n",
    "# print(\"Mean Absolute Error:\" , mae_3)\n",
    "\n",
    "# Check your answer\n",
    "step_3.check()"
   ]
  },
  {
   "cell_type": "code",
   "execution_count": 12,
   "id": "sticky-diagram",
   "metadata": {
    "execution": {
     "iopub.execute_input": "2021-06-16T12:15:35.133196Z",
     "iopub.status.busy": "2021-06-16T12:15:35.132370Z",
     "iopub.status.idle": "2021-06-16T12:15:35.135179Z",
     "shell.execute_reply": "2021-06-16T12:15:35.134654Z",
     "shell.execute_reply.started": "2021-06-16T12:15:04.531323Z"
    },
    "papermill": {
     "duration": 0.02756,
     "end_time": "2021-06-16T12:15:35.135315",
     "exception": false,
     "start_time": "2021-06-16T12:15:35.107755",
     "status": "completed"
    },
    "tags": []
   },
   "outputs": [],
   "source": [
    "# Lines below will give you a hint or solution code\n",
    "#step_3.hint()\n",
    "#step_3.solution()"
   ]
  },
  {
   "cell_type": "markdown",
   "id": "abroad-shanghai",
   "metadata": {
    "papermill": {
     "duration": 0.020238,
     "end_time": "2021-06-16T12:15:35.176078",
     "exception": false,
     "start_time": "2021-06-16T12:15:35.155840",
     "status": "completed"
    },
    "tags": []
   },
   "source": [
    "# Keep going\n",
    "\n",
    "Continue to learn about **[data leakage](https://www.kaggle.com/alexisbcook/data-leakage)**.  This is an important issue for a data scientist to understand, and it has the potential to ruin your models in subtle and dangerous ways!"
   ]
  },
  {
   "cell_type": "markdown",
   "id": "asian-reach",
   "metadata": {
    "papermill": {
     "duration": 0.020129,
     "end_time": "2021-06-16T12:15:35.216496",
     "exception": false,
     "start_time": "2021-06-16T12:15:35.196367",
     "status": "completed"
    },
    "tags": []
   },
   "source": [
    "---\n",
    "\n",
    "\n",
    "\n",
    "\n",
    "*Have questions or comments? Visit the [Learn Discussion forum](https://www.kaggle.com/learn-forum/161289) to chat with other Learners.*"
   ]
  }
 ],
 "metadata": {
  "kernelspec": {
   "display_name": "Python 3",
   "language": "python",
   "name": "python3"
  },
  "language_info": {
   "codemirror_mode": {
    "name": "ipython",
    "version": 3
   },
   "file_extension": ".py",
   "mimetype": "text/x-python",
   "name": "python",
   "nbconvert_exporter": "python",
   "pygments_lexer": "ipython3",
   "version": "3.7.9"
  },
  "papermill": {
   "default_parameters": {},
   "duration": 13.806936,
   "end_time": "2021-06-16T12:15:36.892977",
   "environment_variables": {},
   "exception": null,
   "input_path": "__notebook__.ipynb",
   "output_path": "__notebook__.ipynb",
   "parameters": {},
   "start_time": "2021-06-16T12:15:23.086041",
   "version": "2.3.2"
  }
 },
 "nbformat": 4,
 "nbformat_minor": 5
}
